{
 "cells": [
  {
   "cell_type": "code",
   "execution_count": 73,
   "id": "c61d3a53",
   "metadata": {},
   "outputs": [],
   "source": [
    "import numpy as np\n",
    "import pandas as pd\n",
    "import matplotlib.pyplot as plt\n"
   ]
  },
  {
   "cell_type": "code",
   "execution_count": 74,
   "id": "b7367b98",
   "metadata": {},
   "outputs": [],
   "source": [
    "def dataMatrix(n, f):\n",
    "    return np.random.rand(n,f)"
   ]
  },
  {
   "cell_type": "code",
   "execution_count": 75,
   "id": "278adeaa",
   "metadata": {},
   "outputs": [],
   "source": [
    "X = dataMatrix(10, 10)"
   ]
  },
  {
   "cell_type": "code",
   "execution_count": 76,
   "id": "5a3662ab",
   "metadata": {},
   "outputs": [],
   "source": [
    "def output(X, W, W0, var):\n",
    "    a = np.dot(X, W)\n",
    "    a = a.sum(axis = 1)\n",
    "    #print(a)\n",
    "    #print(a + W0)\n",
    "    return a + W0 + var\n",
    "    "
   ]
  },
  {
   "cell_type": "code",
   "execution_count": 77,
   "id": "1a63f938",
   "metadata": {},
   "outputs": [],
   "source": [
    "W = np.random.rand(10, 1)\n",
    "W0 = np.random.rand(1,1)\n",
    "var = np.random.rand(1, 10)"
   ]
  },
  {
   "cell_type": "code",
   "execution_count": 78,
   "id": "a4613f6b",
   "metadata": {},
   "outputs": [],
   "source": [
    "Y = output(X, W , W0, var)"
   ]
  },
  {
   "cell_type": "code",
   "execution_count": 79,
   "id": "48bbb70f",
   "metadata": {},
   "outputs": [
    {
     "data": {
      "text/plain": [
       "array([[2.80848395, 5.2049614 , 2.26543961, 4.1615721 , 4.21937459,\n",
       "        5.42575431, 3.86927472, 4.3266761 , 4.49593326, 4.60680796]])"
      ]
     },
     "execution_count": 79,
     "metadata": {},
     "output_type": "execute_result"
    }
   ],
   "source": [
    "Y"
   ]
  },
  {
   "cell_type": "code",
   "execution_count": 80,
   "id": "f8b8c1c6",
   "metadata": {},
   "outputs": [],
   "source": [
    "def linearRegressionEstimate(X, w):\n",
    "    y = np.dot(X, w)\n",
    "    return y"
   ]
  },
  {
   "cell_type": "code",
   "execution_count": 81,
   "id": "a469696e",
   "metadata": {},
   "outputs": [
    {
     "data": {
      "text/plain": [
       "array([[2.13787725],\n",
       "       [3.96351707],\n",
       "       [1.65998984],\n",
       "       [3.48022842],\n",
       "       [2.80507912],\n",
       "       [4.00836465],\n",
       "       [2.88026581],\n",
       "       [3.33998469],\n",
       "       [3.11177419],\n",
       "       [3.5381729 ]])"
      ]
     },
     "execution_count": 81,
     "metadata": {},
     "output_type": "execute_result"
    }
   ],
   "source": [
    "linearRegressionEstimate(X, W)"
   ]
  },
  {
   "cell_type": "code",
   "execution_count": 82,
   "id": "6d1722bc",
   "metadata": {},
   "outputs": [],
   "source": [
    "def meanSquareError(y, t):\n",
    "    mse = np.mean((y - t) ** 2)\n",
    "    return mse"
   ]
  },
  {
   "cell_type": "code",
   "execution_count": 83,
   "id": "613a17ba",
   "metadata": {},
   "outputs": [
    {
     "data": {
      "text/plain": [
       "13.687032683924121"
      ]
     },
     "execution_count": 83,
     "metadata": {},
     "output_type": "execute_result"
    }
   ],
   "source": [
    "t = np.random.rand(1, 10)\n",
    "meanSquareError(Y, t)"
   ]
  },
  {
   "cell_type": "code",
   "execution_count": 84,
   "id": "0785a657",
   "metadata": {},
   "outputs": [],
   "source": [
    "def linearRegressionWeights(X, t, lamda):\n",
    "    X_reg = X\n",
    "    X_reg = X_reg + lamda * np.eye(X.shape[0])\n",
    "    X_pinv = np.linalg.pinv(X_reg)\n",
    "    w = np.dot(X_pinv, t.T)\n",
    "    y = X.dot(w)\n",
    "    mse = meanSquareError(y, t)\n",
    "    return w, mse, y\n"
   ]
  },
  {
   "cell_type": "code",
   "execution_count": 85,
   "id": "fac19555",
   "metadata": {},
   "outputs": [
    {
     "data": {
      "text/plain": [
       "(array([[ 0.11568338],\n",
       "        [ 0.10999667],\n",
       "        [ 0.06348321],\n",
       "        [ 0.1486133 ],\n",
       "        [-0.0035415 ],\n",
       "        [-0.08767845],\n",
       "        [ 0.04233928],\n",
       "        [ 0.13696613],\n",
       "        [ 0.01903767],\n",
       "        [ 0.16728269]]),\n",
       " 0.11537716987363433,\n",
       " array([[0.19778659],\n",
       "        [0.46187931],\n",
       "        [0.14084995],\n",
       "        [0.31920341],\n",
       "        [0.36181719],\n",
       "        [0.42193967],\n",
       "        [0.46122068],\n",
       "        [0.30188433],\n",
       "        [0.29372955],\n",
       "        [0.46026516]]))"
      ]
     },
     "execution_count": 85,
     "metadata": {},
     "output_type": "execute_result"
    }
   ],
   "source": [
    "linearRegressionWeights(X, t, 3)"
   ]
  },
  {
   "cell_type": "code",
   "execution_count": 86,
   "id": "d7bbe051",
   "metadata": {},
   "outputs": [],
   "source": [
    "def gradientMSE(X, t, w):\n",
    "    y = linearRegressionEstimate(X, w)\n",
    "    err = y - t\n",
    "    gradient = 2 * np.dot(X.T, err) / X.shape[0]\n",
    "    return gradient"
   ]
  },
  {
   "cell_type": "code",
   "execution_count": 87,
   "id": "ece2e486",
   "metadata": {},
   "outputs": [
    {
     "data": {
      "text/plain": [
       "array([[2.78505664, 2.53419241, 3.00190589, 2.56143449, 2.98170425,\n",
       "        3.17697514, 2.74098167, 2.6145057 , 2.9820598 , 2.3613079 ],\n",
       "       [3.46254232, 3.15850258, 3.72535694, 3.19151914, 3.70087316,\n",
       "        3.93753548, 3.4091248 , 3.25583982, 3.70130409, 2.94897187],\n",
       "       [2.3870706 , 2.15952067, 2.58376676, 2.18423098, 2.56544257,\n",
       "        2.74256578, 2.34709177, 2.23236997, 2.56576509, 2.00270335],\n",
       "       [2.27131143, 2.05197598, 2.46090693, 2.07579426, 2.44324424,\n",
       "        2.61397336, 2.23277583, 2.12219544, 2.44355511, 1.9008197 ],\n",
       "       [2.78260159, 2.52423946, 3.00593209, 2.55229576, 2.98512665,\n",
       "        3.18623386, 2.73720929, 2.60695318, 2.98549284, 2.34618772],\n",
       "       [2.23946963, 2.00114568, 2.44547894, 2.02702597, 2.42628714,\n",
       "        2.61179677, 2.19759788, 2.07744425, 2.42662492, 1.83690338],\n",
       "       [2.03193076, 1.82101329, 2.21424968, 1.84391743, 2.19726488,\n",
       "        2.36144151, 1.99487413, 1.88853777, 2.19756381, 1.67565831],\n",
       "       [1.79931923, 1.62988149, 1.9457827 , 1.64828123, 1.93213818,\n",
       "        2.06402728, 1.76955028, 1.68412638, 1.93237833, 1.51311251],\n",
       "       [3.14307736, 2.87000724, 3.37912157, 2.89966072, 3.35713173,\n",
       "        3.56968753, 3.09510097, 2.95742966, 3.35751876, 2.6818194 ],\n",
       "       [2.90383033, 2.64099553, 3.13102704, 2.66953753, 3.10986143,\n",
       "        3.31445013, 2.85765221, 2.72514116, 3.11023395, 2.45986143]])"
      ]
     },
     "execution_count": 87,
     "metadata": {},
     "output_type": "execute_result"
    }
   ],
   "source": [
    "gradientMSE(X, t, W)"
   ]
  },
  {
   "cell_type": "code",
   "execution_count": 88,
   "id": "ae31c76b",
   "metadata": {},
   "outputs": [],
   "source": [
    "def l2Norm(w):\n",
    "    norm2 = np.linalg.norm(w, ord=2) #Order 2 L2 normalization\n",
    "    return norm2"
   ]
  },
  {
   "cell_type": "code",
   "execution_count": 89,
   "id": "b7ff0a37",
   "metadata": {},
   "outputs": [
    {
     "data": {
      "text/plain": [
       "2.1701681965517197"
      ]
     },
     "execution_count": 89,
     "metadata": {},
     "output_type": "execute_result"
    }
   ],
   "source": [
    "l2Norm(W)"
   ]
  },
  {
   "cell_type": "code",
   "execution_count": 90,
   "id": "f0242e6d",
   "metadata": {},
   "outputs": [],
   "source": [
    "def gradientL2Nnorm(w):\n",
    "#     gradient = np.zeros(w.shape)\n",
    "    gradient = w / np.linalg.norm(w, ord=2)\n",
    "    return gradient"
   ]
  },
  {
   "cell_type": "code",
   "execution_count": 91,
   "id": "1d7db814",
   "metadata": {},
   "outputs": [
    {
     "data": {
      "text/plain": [
       "array([[0.38241682],\n",
       "       [0.447718  ],\n",
       "       [0.2168436 ],\n",
       "       [0.20735324],\n",
       "       [0.45327921],\n",
       "       [0.13141474],\n",
       "       [0.00895122],\n",
       "       [0.03883575],\n",
       "       [0.39465756],\n",
       "       [0.42803581]])"
      ]
     },
     "execution_count": 91,
     "metadata": {},
     "output_type": "execute_result"
    }
   ],
   "source": [
    "gradientL2Nnorm(W)"
   ]
  },
  {
   "cell_type": "code",
   "execution_count": 92,
   "id": "e63c2005",
   "metadata": {},
   "outputs": [],
   "source": [
    "def l1Norm(w):\n",
    "    norm1 = np.linalg.norm(w, ord=1) #Order 1 L1 normalization\n",
    "    return norm2"
   ]
  },
  {
   "cell_type": "code",
   "execution_count": 93,
   "id": "5a64c3a3",
   "metadata": {},
   "outputs": [],
   "source": [
    "def gradientL1Nnorm(w):\n",
    "    return w / np.linalg.norm(w, ord=1)"
   ]
  },
  {
   "cell_type": "code",
   "execution_count": 94,
   "id": "34839b5e",
   "metadata": {},
   "outputs": [
    {
     "data": {
      "text/plain": [
       "array([[0.14113895],\n",
       "       [0.16523972],\n",
       "       [0.08003068],\n",
       "       [0.07652806],\n",
       "       [0.1672922 ],\n",
       "       [0.04850137],\n",
       "       [0.00330363],\n",
       "       [0.01433315],\n",
       "       [0.14565665],\n",
       "       [0.15797559]])"
      ]
     },
     "execution_count": 94,
     "metadata": {},
     "output_type": "execute_result"
    }
   ],
   "source": [
    "gradientL1Nnorm(W)"
   ]
  },
  {
   "cell_type": "code",
   "execution_count": 95,
   "id": "1e28c9cd",
   "metadata": {},
   "outputs": [],
   "source": [
    "def update_weights_linear_regression(X, t, w, eta, lambda2, lambda1):\n",
    "    y = linearRegressionEstimate(X, w)\n",
    "    mse = 0.5*meanSquareError(y, t)\n",
    "    gradient = np.dot((y-t), X.T + lambda2*w + lambda1*np.sign(w))\n",
    "    w = w - (eta*gradient)\n",
    "    return w, mse"
   ]
  },
  {
   "cell_type": "code",
   "execution_count": 96,
   "id": "92dcb4a1",
   "metadata": {
    "scrolled": true
   },
   "outputs": [
    {
     "data": {
      "text/plain": [
       "(array([[-3.30993176, -3.47697604, -3.12896039, -3.38343468, -3.32286544,\n",
       "         -3.42399097, -3.38119433, -3.41918086, -3.26652506, -3.52592417],\n",
       "        [-7.9449892 , -8.33305664, -7.54473859, -8.12647664, -7.99215194,\n",
       "         -8.2297282 , -8.17342571, -8.20441263, -7.87905366, -8.4428182 ],\n",
       "        [-2.41886492, -2.52805322, -2.29529304, -2.46410135, -2.42283866,\n",
       "         -2.48824626, -2.44898496, -2.48880375, -2.38135547, -2.56108257],\n",
       "        [-7.20210028, -7.53165783, -6.85989791, -7.35500175, -7.2402018 ,\n",
       "         -7.44165643, -7.38892925, -7.42176913, -7.14212864, -7.62532069],\n",
       "        [-4.90187682, -5.14969665, -4.64076723, -5.01484397, -4.92731991,\n",
       "         -5.078313  , -5.03058048, -5.06600892, -4.85023668, -5.22086978],\n",
       "        [-8.74876381, -9.14226078, -8.34312652, -8.93290394, -8.7967674 ,\n",
       "         -9.03769563, -8.98106136, -9.01187634, -8.68227485, -9.25351625],\n",
       "        [-6.06286866, -6.31979105, -5.79272833, -6.18028302, -6.08972143,\n",
       "         -6.24633407, -6.19804533, -6.2331855 , -6.0103007 , -6.3934687 ],\n",
       "        [-7.20086498, -7.51344376, -6.8755074 , -7.34547119, -7.23633706,\n",
       "         -7.42730969, -7.37562001, -7.40899759, -7.14262398, -7.60243499],\n",
       "        [-5.83156086, -6.11651109, -5.53361386, -5.96266868, -5.86275421,\n",
       "         -6.03667009, -5.98666868, -6.02092124, -5.77613604, -6.19790046],\n",
       "        [-6.87479325, -7.21136592, -6.52563112, -7.03112207, -6.91398118,\n",
       "         -7.11976666, -7.06661081, -7.09922853, -6.81410657, -7.30695895]]),\n",
       " 3.5017761946242665)"
      ]
     },
     "execution_count": 96,
     "metadata": {},
     "output_type": "execute_result"
    }
   ],
   "source": [
    "update_weights_linear_regression(X, t, W, 0.1, 2, 1)"
   ]
  },
  {
   "cell_type": "code",
   "execution_count": 97,
   "id": "67ad1467",
   "metadata": {},
   "outputs": [],
   "source": [
    "def gradient_descent(X, t, lambda2, lambda1, eta, max_iter, min_change_NRMSE):\n",
    "    w = np.random.randn(X.shape[1])\n",
    "    prev_nrmse = 100\n",
    "    for i in range(max_iter):\n",
    "        w = w.T\n",
    "        w, mse = update_weights_linear_regression(X, t, w, eta, lambda2, lambda1)\n",
    "        nrmse = np.sqrt(mse)/(np.max(t) - np.min(t))\n",
    "        if abs(prev_nrmse - nrmse) < min_change_NRMSE:\n",
    "            break\n",
    "        prev_nrmse = nrmse\n",
    "    return w, nrmse"
   ]
  },
  {
   "cell_type": "code",
   "execution_count": 98,
   "id": "c8e16e2b",
   "metadata": {},
   "outputs": [
    {
     "data": {
      "text/plain": [
       "(array([[ 0.62898716,  0.76379402,  0.43129353,  0.75340936,  0.5127746 ,\n",
       "          0.82378566,  0.93755618,  0.896308  ,  0.68453643,  0.80016213],\n",
       "        [-0.46226169, -0.34105043, -0.54093637, -0.36434011, -0.51227082,\n",
       "         -0.30848456, -0.24891315, -0.29148776, -0.37938354, -0.34794382],\n",
       "        [ 0.98777745,  1.28601269,  0.68244362,  1.18277527,  0.92996442,\n",
       "          1.29775205,  1.39276907,  1.33593998,  1.03453402,  1.35982959],\n",
       "        [-0.24681445, -0.56477452,  0.13318499, -0.38051537, -0.33280815,\n",
       "         -0.45628944, -0.41362415, -0.43458771, -0.10763017, -0.72277133],\n",
       "        [-4.21496472, -5.01617368, -3.30343767, -4.63200631, -4.23772365,\n",
       "         -4.8704363 , -4.89072703, -4.90703001, -4.05870846, -5.32054908],\n",
       "        [-1.76500526, -2.09682652, -1.26005634, -1.94464552, -1.74206217,\n",
       "         -2.04081854, -2.06639317, -2.10120811, -1.61774821, -2.29036529],\n",
       "        [ 0.91179169,  0.802653  ,  1.06703996,  0.89838615,  0.80456499,\n",
       "          0.88847419,  0.94485495,  0.92532846,  1.04829494,  0.69933393],\n",
       "        [-0.36277153, -0.63020133, -0.08294928, -0.46823611, -0.4539035 ,\n",
       "         -0.52603332, -0.46107914, -0.48968404, -0.25723621, -0.74362026],\n",
       "        [ 5.28763369,  5.93175223,  4.70266033,  5.67564981,  5.21977811,\n",
       "          5.89833733,  5.98848875,  5.93621069,  5.36968578,  6.05640916],\n",
       "        [-0.19993396, -0.26410739, -0.0617025 , -0.20121072, -0.26018746,\n",
       "         -0.20315474, -0.16225573, -0.19295392, -0.08052879, -0.34813308]]),\n",
       " 2.3856217467928165)"
      ]
     },
     "execution_count": 98,
     "metadata": {},
     "output_type": "execute_result"
    }
   ],
   "source": [
    "gradient_descent(X, t, 0.1, 0.2, 0.01, 30, 0.000001)"
   ]
  },
  {
   "cell_type": "code",
   "execution_count": 99,
   "id": "f6616f91",
   "metadata": {},
   "outputs": [],
   "source": [
    "def generateData(num_samples, var):\n",
    "    X_train = dataMatrix(num_samples, var)\n",
    "    t_train = X_train.dot(np.random.randn(var)) + np.random.randn(num_samples)\n",
    "    X_val = dataMatrix(num_samples, var)\n",
    "    t_val = X_val.dot(np.random.randn(var)) + np.random.randn(num_samples)\n",
    "    return X_train, X_val, t_train, t_val"
   ]
  },
  {
   "cell_type": "code",
   "execution_count": 100,
   "id": "d7066e68",
   "metadata": {},
   "outputs": [],
   "source": [
    "def pseudoInverseRegression(X_train, t_train, X_val, t_val, alpha = 0, noise_var = 0):\n",
    "    #X_train = np.dot(X_train.T, X_train)\n",
    "    #t_train = np.dot(t_train.T, t_train)\n",
    "    a = np.dot(X_train, X_train.T)\n",
    "    print(np.shape(a))\n",
    "    X_dagger = np.linalg.pinv(np.dot(X_train, X_train.T) + alpha * np.eye(X_train.shape[0]) + noise_var * np.eye(X_train.shape[0]))\n",
    "    X_dagger = np.dot(X_train.T, X_dagger)\n",
    "\n",
    "    # Calculate the regression coefficients\n",
    "    print(t_train)\n",
    "    \n",
    "    w = np.dot(X_dagger, t_train)\n",
    "    \n",
    "   \n",
    "    \n",
    "    #X_train = alpha + noise_var * X_train\n",
    "    #w = np.linalg.pinv(X_train).dot(t_train)\n",
    "    print(w)\n",
    "    t_train_pred = X_train.dot(w)\n",
    "    t_val_pred = X_val.dot(w)\n",
    "    train_nrmse = np.sqrt(np.mean((t_train - t_train_pred)**2)) / np.std(t_train)\n",
    "    val_nrmse = np.sqrt(np.mean((t_val - t_val_pred)**2)) / np.std(t_val)\n",
    "    return train_nrmse, val_nrmse"
   ]
  },
  {
   "cell_type": "code",
   "execution_count": 101,
   "id": "4053eae5",
   "metadata": {},
   "outputs": [
    {
     "name": "stdout",
     "output_type": "stream",
     "text": [
      "[[0.88335524 0.29875899 0.30216263 0.48106703 0.44158355]\n",
      " [0.20608296 0.67500313 0.92727249 0.59747485 0.81044499]\n",
      " [0.39990619 0.73053647 0.91588919 0.02252751 0.68329292]\n",
      " [0.08064665 0.71389193 0.40992334 0.91484438 0.29722997]\n",
      " [0.16049293 0.8097381  0.48008891 0.30478228 0.96892164]\n",
      " [0.79467931 0.01859878 0.19773632 0.09882994 0.59987849]\n",
      " [0.08445324 0.2734797  0.86501866 0.10238372 0.58662501]\n",
      " [0.91357268 0.04882495 0.57358248 0.17808363 0.3612035 ]\n",
      " [0.43505923 0.55459295 0.55230165 0.98707745 0.99963652]\n",
      " [0.46089051 0.29873657 0.50897031 0.52027841 0.69915681]]\n",
      "(10, 10)\n",
      "[ 1.26384945 -2.12123408  1.25310326 -0.8907575  -1.3397585   0.73877016\n",
      "  2.25765497  1.43444442 -0.18371639 -0.30347365]\n",
      "[ 1.54672188 -1.36710506  2.02562241 -1.01093843 -1.00500799]\n"
     ]
    },
    {
     "data": {
      "image/png": "[encoded data removed]",
      "text/plain": [
       "<Figure size 640x480 with 1 Axes>"
      ]
     },
     "metadata": {},
     "output_type": "display_data"
    }
   ],
   "source": [
    "num_samples_list = [10*x for x in range(1,2)]\n",
    "train_nrmse_list = []\n",
    "val_nrmse_list = []\n",
    "var = 5\n",
    "for num_samples in num_samples_list:\n",
    "    X_train, X_val, t_train, t_val = generateData(num_samples, var)\n",
    "    print(X_train)\n",
    "    train_nrmse,val_nrmse = pseudoInverseRegression(X_train, t_train, X_val, t_val, 0, 0)\n",
    "    train_nrmse_list.append(train_nrmse)\n",
    "    val_nrmse_list.append(val_nrmse)\n",
    "\n",
    "# I thought here that line plot looks better than line plot\n",
    "plt.plot(num_samples_list, train_nrmse_list, 'o-', label='Training NRMSE')\n",
    "plt.plot(num_samples_list, val_nrmse_list, 'o-', label='Validation NRMSE')\n",
    "plt.xlabel('Number of Training Samples')\n",
    "plt.ylabel('NRMSE')\n",
    "plt.legend()\n",
    "plt.show()"
   ]
  },
  {
   "cell_type": "code",
   "execution_count": 102,
   "id": "800d1240",
   "metadata": {},
   "outputs": [
    {
     "name": "stdout",
     "output_type": "stream",
     "text": [
      "(100, 100)\n",
      "[ 1.47328938 -0.11631295  2.62126441  0.84762325 -0.58834505  0.70514301\n",
      " -3.34824991 -0.05383999 -0.19064422  1.10679893 -1.46782748 -1.21081832\n",
      " -0.95217268  0.94234033 -0.57226009  0.70826845  1.72464381  1.46639756\n",
      " -1.069461    2.25887999  1.59758491  0.62984262  0.48362165 -0.34761715\n",
      " -0.01884747  0.74648944  1.62174832 -1.24063742 -1.56499513 -0.45329886\n",
      "  1.68067159 -0.57430214  0.99614088 -0.90905133 -1.23334939  0.05428814\n",
      " -0.57851322  0.24666374  0.68470492 -2.27115677  0.58746524  0.83959735\n",
      " -1.45439168  1.26811975 -0.21091055  0.21071265  1.86338784 -0.79151011\n",
      "  0.23580677  0.36541957  0.21015971  1.26415281 -0.34101536  0.43495655\n",
      " -0.69633798  0.13424529  1.33004465  0.03015061  1.53375271  0.12205757\n",
      " -1.32908485 -0.09668599  0.18485269 -0.33599676 -1.09080356  1.97577119\n",
      "  0.34127678  0.09804959 -1.33923855 -1.12146613  1.25867996  0.70373936\n",
      "  0.06962225  0.71486951 -1.27529313  1.27135768  0.44625363 -1.73121649\n",
      " -0.00594456  0.89743474  0.16369413  1.25037203  0.1058498  -0.66608791\n",
      " -0.19005768 -0.54923522  0.47166163  0.28734403  0.18613644  1.77830259\n",
      " -1.9677175  -0.95972608 -0.86322844 -0.57947258  0.51742519 -0.00633066\n",
      "  2.18056797  1.55457116 -1.16975509  2.17716516]\n",
      "[]\n",
      "(100, 100)\n",
      "[-2.99169198e+00  1.07722463e+00 -2.54784703e+00  9.24099444e-02\n",
      " -1.49598178e+00  6.74380440e-01 -4.51218617e+00 -1.77298240e+00\n",
      " -1.50099647e+00 -6.66289618e-01 -4.31565269e-01 -2.02668178e+00\n",
      " -9.33481436e-01 -1.29958499e+00 -2.96800625e+00 -1.22778823e+00\n",
      " -1.49083188e+00 -1.54949640e+00 -8.97884859e-04 -1.18766524e+00\n",
      " -5.82540510e-01 -2.92108224e+00 -6.83053374e-01  9.01542500e-02\n",
      " -9.02051797e-01 -6.32485516e-01  4.22242019e-01 -1.47002632e+00\n",
      " -2.60911764e-01 -1.94368928e+00  1.75319587e-02 -5.37184656e-01\n",
      " -3.41480244e+00 -1.92160269e+00 -7.82102970e-01 -1.12084669e+00\n",
      "  6.95526015e-01 -4.84146486e-01 -1.38426050e+00 -2.16176503e+00\n",
      " -1.01251394e+00 -2.02618658e+00 -5.16835012e-01 -3.18863996e+00\n",
      " -1.60801342e+00 -1.65514365e+00 -2.03211911e+00 -2.68370538e+00\n",
      " -2.37816508e+00 -3.67406804e+00 -1.98241525e+00 -1.95361255e-01\n",
      " -2.45337918e+00 -1.77681990e+00  1.01144144e+00 -9.97567869e-01\n",
      " -4.83187972e+00 -2.81801158e+00 -3.48795591e-01 -3.50776557e+00\n",
      " -8.98718957e-01 -4.13687258e-01 -1.80749757e+00 -1.39594587e+00\n",
      " -2.45313475e+00 -2.03731961e+00 -9.81623166e-01 -1.07547701e+00\n",
      "  5.26524308e-01 -1.84895985e+00 -1.20147477e+00 -1.23597025e+00\n",
      " -2.35032276e+00  4.70827412e-01 -4.62577694e-01  3.59614091e-01\n",
      " -1.24804938e+00 -2.18960683e+00 -2.88939123e+00 -2.82380556e-01\n",
      " -4.91538153e-01 -1.13313228e+00  9.17482192e-02 -2.22641400e+00\n",
      " -7.58286877e-01  3.75762823e-02  9.67127488e-01 -1.24069844e+00\n",
      " -1.17158579e+00 -1.79181140e+00 -9.46496483e-01 -6.69369405e-01\n",
      " -1.64988297e+00  1.98067242e-01 -2.29499017e+00 -2.36749761e+00\n",
      " -4.75333615e-01 -6.82936219e-01 -8.88219279e-01 -1.31360414e+00]\n",
      "[-1.67203168 -0.75139943]\n",
      "(100, 100)\n",
      "[-0.7727721  -0.27931232 -0.53084792  0.22818526 -0.70299804 -0.20158254\n",
      " -1.2370936  -0.09641699  2.39613538 -0.88190252  1.49082172 -0.34011617\n",
      " -0.35191137 -1.06268655  0.82223121  0.55974713 -1.30854767 -1.37185084\n",
      " -1.45919161 -1.66764137 -0.84926745 -1.60766099  0.81751026  1.06743442\n",
      "  0.70303154 -0.4472852   1.14958013  1.44499328 -2.20534627 -0.36008097\n",
      "  0.3635773   0.3864773  -0.932071   -1.47228785 -0.96042838 -1.43403681\n",
      "  0.77945591  0.37402204  0.74087342  0.46439466 -1.95307085  1.47215691\n",
      " -2.34263276 -0.78983844  0.80885755 -1.07746428 -1.12176238 -1.13578253\n",
      " -0.74851045  0.41110655 -0.9344203   1.01723047 -0.56328812 -0.53448305\n",
      " -0.87163288 -0.687581   -1.46898277  0.2748593  -0.82980744 -1.11746596\n",
      "  1.86991196 -0.20041172 -1.81039242 -1.1548896  -1.4333722  -2.16095773\n",
      " -0.42559536 -3.02126948  0.16171604  1.71256102 -2.22060761 -0.73823277\n",
      " -0.8423546   2.39116136  0.55062675 -0.45817272  0.20651804  0.67808115\n",
      " -0.41303757 -0.10875592  1.4779122  -0.28436032 -0.58242965  0.76457199\n",
      " -0.11891313 -0.41375337 -1.93253294  0.74863688  0.39137545  0.13325185\n",
      " -1.17602512  0.16872897  0.90402883 -0.70946865 -0.76546374  1.71177835\n",
      " -1.11354972 -1.80637009 -1.77826411  0.8574757 ]\n",
      "[-0.41159381 -0.81978782  0.39043266  0.07837621]\n",
      "(100, 100)\n",
      "[ 0.763386    0.38592842  0.43407943 -0.40327163  1.26931152  0.45291341\n",
      "  1.28379915 -1.99150676  1.09760071  0.3822355  -1.06614358 -0.07519278\n",
      " -0.95428767  0.14619622 -0.49767045 -2.44234742  0.4128338  -0.10920969\n",
      "  0.09331413  0.15650493 -0.19536057  0.96271839 -0.69681998 -0.84439001\n",
      " -0.48297015 -3.387849   -0.94662518 -0.22067704  0.28980916 -0.51809264\n",
      " -0.98866831  1.96102525  0.34825269  0.24806174 -2.53451742  1.28465019\n",
      "  0.64021319  1.36565034  1.68389955 -0.16476527 -0.46476466 -0.41479654\n",
      "  1.45223673 -1.7957106   0.37666829 -0.34410636  1.69589825 -0.20600748\n",
      " -0.16264525 -0.31992812  3.53347609  0.48989562 -0.53423318 -0.04392554\n",
      "  1.94742325 -0.09461394 -0.93910448 -1.02497544 -1.08104383 -2.11422226\n",
      "  1.12002362  2.58356955  0.78764876  2.04503773  1.92200421  0.50357127\n",
      "  0.395946   -0.07876485  1.39810419  0.5364811  -1.32740007  0.63455474\n",
      "  0.64717201  0.22293896  1.26989837  0.13075228  0.09861262 -0.79903933\n",
      "  0.42243612 -0.35108995  1.77503257  0.73977146 -1.01131252  3.31870161\n",
      "  1.82294204 -0.84033898 -1.35023273  2.50294031 -0.36868381 -0.64336254\n",
      " -1.48228286  0.67078976  1.24441211 -0.04943807 -0.95901302 -1.3797689\n",
      "  0.27580581 -0.15936369  0.72270065  0.86947581]\n",
      "[ 0.7894112  -0.95360364 -0.52822947  1.81948581  0.40852017 -1.20414395]\n",
      "(100, 100)\n",
      "[ 1.41883328  1.74143067  2.01562374  3.01204515  2.16477965  1.83100234\n",
      "  1.45656804  2.26702338  3.18382162  3.81549447  4.10562844  1.87602418\n",
      "  2.25165494  3.06924297  1.49406048  2.62122452  2.54252925  0.72929041\n",
      "  2.20080899  3.74392913  1.7177782   3.78336164  1.92945846  2.52751053\n",
      "  4.3759228   0.75082631  2.46405638  4.09939072  1.20332419  2.15013172\n",
      "  0.07234307  2.54585116  3.31561444  1.25995579  2.23276252  2.01722109\n",
      "  5.25761944  2.60715817  1.26888268  3.25037461  1.82585757  4.9830223\n",
      "  1.28113086  1.92891198  1.64950866  1.73811698  3.42102351  0.8813866\n",
      "  3.4181645   2.59403596  2.8889394   6.00882749 -0.02247494 -0.00829733\n",
      "  4.01129403  3.69926085  4.35337436  3.68475652  3.71384509  1.96525961\n",
      "  2.9350297   2.48768647  4.10645375  3.0249716   1.12257923  2.36947907\n",
      "  3.85214627  1.48660949  1.25822082  0.20162035  3.63814622  0.83718565\n",
      "  2.89788845  2.45442118  1.54438676  2.44771296  1.37364737  0.46982383\n",
      "  1.45034126  4.97752934  3.24631276  3.82653697  0.88910935  1.94521987\n",
      "  1.46076815  2.12603593  1.16351621  3.60989942  1.45587918  2.22928195\n",
      "  3.95085569  2.64647435  4.12464506  3.36593942  4.26258894  2.72597345\n",
      "  1.35279607  2.39285569  2.31810946  2.41749816]\n",
      "[-0.23759685  2.03279992  0.63761201  0.33632006  0.92182142  0.20693964\n",
      " -0.29429981  1.45440101]\n",
      "(100, 100)\n",
      "[ 0.18091626  1.49180763  0.99064827 -0.04871494 -1.32960294  0.25478789\n",
      "  1.16751617 -0.15631011 -1.10048579  1.47140057 -1.98982485 -1.38964653\n",
      " -0.44392289 -0.78841149  0.02648418  1.13392568  1.13746077 -0.62033487\n",
      "  1.72154843  0.0525949  -0.02212439  0.72112426 -0.88640231 -1.63576748\n",
      "  0.36996119  0.29644736 -1.00511727 -1.5853253   2.38918897  0.53897591\n",
      " -2.70539043  2.04203216 -1.37956176 -1.7189462   1.24247499  1.66115219\n",
      "  0.11206165 -1.3213825  -0.06130703 -2.50689021 -1.57088446  0.45080032\n",
      " -1.93131724 -0.60973366 -1.44462785 -0.11027667 -1.37323475 -1.57487565\n",
      "  2.18152245  1.01538913 -2.08345193 -2.73332162 -0.96963261 -0.5439509\n",
      "  1.17873149 -1.73822318 -0.69055368 -0.57853848  3.00039369  0.70665369\n",
      "  0.39948738  2.70512812 -1.205772   -0.51193337 -1.61718027 -0.88874173\n",
      " -4.29661433 -1.13703732  0.80682154 -3.53156444 -2.43790905 -0.78838217\n",
      " -1.05808351  3.34890537  0.6014181  -1.29138259  0.90698303 -2.34133161\n",
      " -1.80695305  0.41085473 -0.22801178 -0.99324184  0.28109881 -2.01720619\n",
      "  0.49213573 -2.81733785 -2.44756949 -0.23248434  0.41043663 -1.24660079\n",
      "  0.16654939 -0.05840185  0.16244734 -0.37600992  0.94504261 -0.30018248\n",
      "  0.49373484  0.48012986 -1.282972   -1.47248866]\n",
      "[-2.31862079  0.38763517  1.26067114 -0.70454827 -0.81874225  0.73645706\n",
      "  1.51364568 -2.02488868  1.27584179 -0.35278724]\n",
      "(100, 100)\n",
      "[ 2.22581473e+00  1.30728724e+00  2.98555954e+00 -7.17669853e-01\n",
      "  1.56945741e+00  2.54905776e+00  4.09169966e-01 -1.39132871e-01\n",
      "  2.97522267e+00  1.41590617e+00 -3.80444150e-01  2.33503549e+00\n",
      "  2.08437561e+00  3.59148116e+00 -2.55777118e-01  1.38712038e+00\n",
      "  2.99880068e+00  4.53616784e+00  3.45646068e+00  8.40671037e-01\n",
      "  1.03523489e+00 -4.24542368e-01  1.51900058e+00  1.00591356e+00\n",
      "  1.67999129e+00  9.97580382e-01  4.79552388e-01  6.12365164e-01\n",
      "  1.79459836e+00  5.21635710e+00  8.03577144e-01  2.69200478e+00\n",
      " -1.97366428e-01  2.37859889e+00  1.30674496e+00  1.87417094e+00\n",
      "  3.81230831e-01  3.45991078e-01  4.18796520e+00  1.15232307e+00\n",
      "  1.35874712e+00  2.64974489e+00  9.83245656e-01 -1.23359525e+00\n",
      "  1.48716805e+00  3.39253132e+00  5.93285062e-01  1.96977030e+00\n",
      "  4.92530058e+00  3.54820358e+00  7.60485873e-01  2.60858656e+00\n",
      "  4.17607867e+00 -1.64513711e-01  1.38985853e+00 -2.05819613e-01\n",
      "  1.19139592e+00  1.22169285e+00 -3.99213469e-01  3.08740980e+00\n",
      "  2.04307762e-01  7.73767025e-01  2.48709573e+00  2.01883629e+00\n",
      " -1.88999568e-01 -7.44364762e-01  1.15705717e+00  3.89049374e-01\n",
      "  3.15634978e+00  2.99544637e+00  1.68771735e+00  1.49946107e+00\n",
      "  3.34796461e+00  9.14556225e-02  2.07770203e+00  3.21427025e+00\n",
      "  2.71930922e+00  9.31332018e-01  3.65444734e+00  1.59751703e+00\n",
      " -7.37574324e-01  7.66920428e-01  2.11827182e+00  1.84908823e+00\n",
      " -5.99899346e-01  7.76848538e-01  2.55654631e+00 -1.62897573e+00\n",
      " -1.73348188e-01  1.54196573e+00  2.88841571e+00  7.33371853e-01\n",
      "  7.47001057e-04  1.83774011e-01  5.83921145e-01  2.20208958e+00\n",
      "  1.84289488e+00  1.70292224e+00  5.30928897e-01  3.16381186e+00]\n",
      "[-0.7919312   0.68200775  0.43065625  0.19785094  0.81936518 -1.2371754\n",
      "  1.62046039  0.50145265  1.41086898  1.21087484 -0.51014293 -1.11930182]\n",
      "(100, 100)\n",
      "[ 0.2517574  -0.59582635 -2.24681231 -0.78447759  0.36437886 -3.28074786\n",
      " -0.47352761  0.05960233  0.65545948 -2.69504679  0.03553976 -0.27603308\n",
      " -2.9637534  -0.20681154  0.21533149 -3.43808096 -3.42069244 -1.97774554\n",
      " -2.24902927 -3.16589754 -2.56396591 -0.95604218 -1.2342384  -3.39294433\n",
      " -0.69924782 -3.78795262 -0.08849069 -0.24464673 -3.00554192 -2.3494434\n",
      "  0.19534159 -0.14570923 -2.24733537  1.21357728 -2.41488732 -2.02469547\n",
      " -1.67763756 -2.7546305  -3.31138031 -2.69479198 -1.02757717 -1.43963187\n",
      " -0.64331841 -0.01593673  1.41563586  1.71185131  1.7610978  -1.70548039\n",
      " -1.44754758 -0.53423205 -1.27242406 -2.59489402 -2.42846753 -0.73202924\n",
      " -1.63234199 -4.51299078 -2.84678294 -1.19545495 -0.70744849  0.32025998\n",
      " -1.43482644 -2.8158268   0.27512416  0.34056577 -3.05463393 -1.97400534\n",
      " -3.23793875 -2.49962948 -1.44224785 -1.82711123 -1.74424046 -2.46066169\n",
      " -2.70342823 -1.09996892 -1.16557695 -0.4371885  -0.33938553 -1.89047477\n",
      " -1.15675455  1.52087824  0.67713405  0.9597152  -1.82863155 -1.47997216\n",
      " -3.70045081  0.44613119 -1.36833374 -1.6165046  -0.33231823 -0.65066276\n",
      " -3.04050624 -2.01938784 -1.48611393 -0.17027215 -2.90399689 -1.03505402\n",
      "  0.31730085 -0.42838575 -0.74159108 -2.90710889]\n",
      "[-0.07710892 -0.00515065  0.33470798 -0.39644867 -0.73378575 -0.46981916\n",
      "  1.5140619  -0.62078721 -0.99847356  0.86614493 -0.67387473 -1.69059366\n",
      " -1.32064482  1.54969375]\n",
      "(100, 100)\n",
      "[ 0.67646969  2.45900846 -1.58776008  1.60040968 -1.61655332 -0.70789865\n",
      " -2.04909579 -0.67148192  1.74261859  0.19636683  0.56561344  0.83797986\n",
      "  0.1605106   0.62331611  1.14592331  0.91752315 -1.54213518  0.99435328\n",
      "  0.2286785   2.72472298  1.35139887 -0.200353   -2.27779991  2.08708622\n",
      "  1.15967743 -1.00518958 -0.19061962  1.1940461   1.82729595 -0.88550272\n",
      " -0.49609762  0.964666    1.68776597 -0.352587   -0.31676286  1.58061326\n",
      "  0.70625526 -2.12735847  2.18177814  2.86944293  0.81355599  1.1514006\n",
      "  2.14511698 -0.54462987 -0.8435549  -0.43729768 -1.55236388  2.45400821\n",
      "  0.06124554 -0.58416647  0.03275635  0.89408018 -1.12338083 -1.40396235\n",
      " -1.38197942  1.75380945 -1.22224268  1.88717315  1.84657799  0.03500648\n",
      "  2.63841697  1.32461897 -0.25720209  1.65698766  0.44888905  1.48731233\n",
      " -0.37959439  2.22101174 -1.2589604  -0.09049755  0.86846953  1.18357002\n",
      " -0.21108997  1.32681272  1.58363165  3.52470738  0.33303164 -2.24478004\n",
      "  0.46824506 -0.63587339 -0.09497135  2.47458    -0.35615935 -1.13148476\n",
      "  1.83138206  3.63694329  3.60979622 -0.23994354 -0.05933718 -0.36867138\n",
      "  1.3837452  -2.28241034  0.65234673  0.04778492  2.34716494 -1.14367998\n",
      "  1.80875172  3.23915423  0.08303949  1.75387277]\n",
      "[-0.48626226 -0.61835224  0.13222437 -0.81461351 -0.65717852  0.53358613\n",
      " -0.66014946  0.11570024 -2.89878467  1.24116258  0.57246446  0.86838896\n",
      "  0.27716432  1.00868655  1.42108243  0.89904502]\n",
      "(100, 100)\n",
      "[-0.19211801  0.57905646 -1.5159276  -0.4041476  -0.01143626  1.12338346\n",
      " -1.86531897  0.22025057 -1.34623702 -0.91829193 -2.93757581  3.21277952\n",
      " -0.0552271  -0.60247321  1.41292622 -0.73726074 -0.07583351  0.93929602\n",
      "  1.78274316 -1.20974946  0.17127241 -0.97784025 -1.64175146 -0.74218007\n",
      "  0.09966677  0.216039    1.45493184 -3.15753787 -3.09786221  0.36628514\n",
      "  0.93481476 -0.37525315 -0.94901299  2.05722747 -4.15952828 -0.27411089\n",
      " -1.01118648  0.42882916  1.69185689  0.87090341 -0.3859382  -1.065877\n",
      "  0.80062549  0.25634407  1.68163113 -0.40708472  0.55608311  1.56402594\n",
      " -1.68713733 -2.90990572  0.25311953 -0.54538764  2.07382858  0.11356302\n",
      " -1.82418372 -2.14783814  0.7310216   0.09049267  0.43445418 -0.23019481\n",
      " -1.50790321  0.06898484 -0.26279563  1.94284655 -2.00117605  0.71520885\n",
      "  1.0102396   1.11108379 -1.950556   -0.52437913  1.37954304  2.52519052\n",
      " -1.1381181   0.19351327  1.71748437 -0.65342877  1.45186961  0.24152735\n",
      " -0.4012041  -0.19970809  1.06259662  3.3149836   0.95274848  2.46149312\n",
      " -1.62618231 -0.99339478 -2.33470116 -0.49024147  1.13269921  1.10156482\n",
      "  1.97156053  2.18694274  1.10708224  0.25342138 -0.5944333   0.64898842\n",
      "  2.08456862  2.6143588   1.03231329  0.61540088]\n",
      "[ 0.46788707 -2.12429142  0.55554042  1.80324359  0.25584279  0.05746771\n",
      " -0.83784569 -1.61649042  0.02917054  0.26878572  0.75302028  0.5693835\n",
      "  1.17690685 -1.08850933 -0.02915713  0.23780828  0.20479418 -0.70910079]\n",
      "(100, 100)\n",
      "[ 1.4820528   6.48518761  1.07390912  1.33640947  3.04614933  0.85147281\n",
      "  1.79771393  1.62603651 -0.58510709  1.2546865  -0.13490396  6.16028643\n",
      "  2.22127727  0.94877867  1.87757872  2.61677814  1.85523416  0.78828125\n",
      "  1.67429227 -1.36888505  1.03986619  1.61175712  1.85624992 -0.32232802\n",
      "  1.96509058  5.70047908  1.88673467 -0.55997616 -0.98814257  0.1399352\n",
      " -0.77240806  1.51077015 -1.61890594  2.36323061 -0.77143003  1.69737091\n",
      "  0.49499351  0.39386935  1.87753614  2.78909792  3.19674862  3.34104994\n",
      "  2.62285214  2.4764081  -0.62136654  2.81427998  3.2266147   1.85065761\n",
      "  0.93622367  0.23812013  5.55328761  4.19842792  3.31017984 -0.68974184\n",
      "  3.58061651  2.06874408  2.00384347 -0.25968041  1.25780295  0.74477536\n",
      "  0.23284338  0.34389622  2.12066999  2.35076057 -1.14659129  0.7853499\n",
      "  3.72683725  1.04279931  3.03941067  3.40257685 -0.12629183  0.75991196\n",
      "  1.13615386  4.27186884  0.21060708  0.41673859  0.65420467  2.06660135\n",
      "  0.46103458  2.50846077 -1.0792283   0.24872533 -0.5739117   2.17918348\n",
      "  4.95540368  1.954768    3.90583349  1.54883439  2.37809681  2.44751555\n",
      "  1.0208586  -0.27204282  0.15018474  1.30225832  3.21005383 -0.58445211\n",
      "  0.06728305  4.51649151  2.52478157  3.70597138]\n",
      "[ 1.04725984  0.13046461  0.89841391 -0.11215852  0.25833461  0.09725686\n",
      " -0.90663447 -0.00372902  1.79876675 -3.37237599  0.33810523  0.89154227\n",
      "  0.92200329 -1.27091962  1.29847858  0.04815138  0.66309758  0.92726204\n",
      " -0.46920996  0.26838775]\n",
      "(100, 100)\n",
      "[-0.46901682 -2.39663235 -2.2724889  -4.27745564  0.05569752 -3.50313699\n",
      " -0.77181437 -0.20037744 -4.87175022  0.79933778 -0.40066415 -2.14846861\n",
      " -2.05223408 -1.16303835 -5.05779941  0.11650937 -2.59117876 -3.14785792\n",
      " -0.18724074 -1.07300354 -0.83096461  2.24143473 -3.09218746 -5.81910755\n",
      " -4.17306966 -2.73090369 -0.5886346   1.20660173  1.54557544 -3.63251493\n",
      " -3.74124135  0.83476964 -5.64480542  2.56766972 -5.35067748 -5.26544456\n",
      " -2.69418163 -1.17579573  0.21196268 -0.50493963 -1.97175855 -6.10948659\n",
      " -3.67488569 -2.26866534 -2.9466646  -0.74941419 -1.00797328 -2.90601817\n",
      " -3.35829265  1.44707635 -2.52990471 -2.53402207 -4.19979314  2.40011535\n",
      " -1.19312248 -4.2151987   2.1181735  -2.37559019  1.03478447 -1.61323273\n",
      "  1.48834886 -2.43777175 -2.40927458 -2.55328741 -5.11304768 -4.39003978\n",
      " -2.93442761 -1.41701241 -0.64962183 -3.28947931 -4.12121181 -3.81577795\n",
      " -1.41768122  1.30113071 -3.58598257 -3.69458896 -2.0522682   2.03426398\n",
      " -2.16932189 -0.60556978  2.50591393  0.95575408 -2.08451366 -0.21307002\n",
      "  1.48188268 -2.90346229  1.51952786 -1.38556705  0.47559571  3.8591269\n",
      " -0.96547215 -3.39712034 -6.30499198 -1.58473253 -1.1600394  -2.80172369\n",
      "  0.95245348 -2.77235396 -1.9698792  -2.12920685]\n",
      "[ 1.77277118 -1.2195021   0.20757404  0.67659378 -0.12674948 -0.34595539\n",
      " -0.19831525 -1.0251044   1.82377987 -0.46895027 -2.92689756 -2.46899512\n",
      "  0.31236637 -1.59193006  0.33135416 -0.47515341 -1.17748799  2.02406768\n",
      " -1.75337129  0.14964754  0.92275739  2.10373431]\n",
      "(100, 100)\n",
      "[ 3.49243458 -2.15440074  1.74879282 -1.61077569  2.07654947  1.13510944\n",
      "  1.03010001 -3.20932587  0.93725876  0.44247488  0.34652797  4.43243915\n",
      " -1.20156741  2.54015645  0.71140241  1.05015563  4.29533946 -0.94388473\n",
      "  1.55291272  1.9926407   1.65974599  3.62501814  0.45066648  0.57127846\n",
      "  3.62058605 -1.39584097  1.15893952  0.26515309  2.6096984   2.60915542\n",
      "  0.17784378  3.45519682  2.53362949  1.55112992 -0.8291309   1.47884033\n",
      "  0.59110906 -0.42978887 -1.70161387  5.15603734 -0.89333735 -2.77591128\n",
      " -0.86223457  1.41219723 -1.16702169  0.82971906 -1.78487129 -1.90967983\n",
      "  2.16069441 -0.11991535 -1.48578561  1.78133821  0.03944412  0.68239106\n",
      " -0.16306029  0.80150676  4.30770637 -0.33694347  3.39739794 -0.32767877\n",
      " -2.19573951  1.75637825  3.01477376  0.45553835 -0.40093297  0.54521829\n",
      " -0.59127799 -0.68202116  2.2213382  -2.89909263  0.99839856 -1.2894136\n",
      "  5.91223717  0.99137461 -1.94505653 -0.58208892  0.63741673  0.48835086\n",
      "  1.76688583  0.93223332 -1.62042315 -1.91321282  1.81859988  2.85847486\n",
      "  2.35819443 -1.51178716  1.23044016  1.21805496 -1.40225936  1.01046124\n",
      "  1.1221515  -0.30065897 -1.41747321 -1.64012538  2.55769249 -1.1464239\n",
      " -0.13165248 -1.40777323  0.42994694  0.185011  ]\n",
      "[ 0.96315817 -1.20881738 -1.81780753  2.17073685  1.52698922 -0.42786378\n",
      "  0.2736387   1.04397543  0.13115522  0.16919945  0.71662543 -0.6693749\n",
      "  1.35400324  1.21586041 -1.53387236 -0.86532947 -0.04268992 -0.1765825\n",
      "  0.40292861 -0.96557594 -0.78924402  0.59232057 -1.0204173   0.34925414]\n",
      "(100, 100)\n",
      "[-0.72161242 -1.56518839 -0.14309688  0.8190202   0.18011018 -1.51934362\n",
      "  1.87345279 -0.94999718 -0.33230068  0.04266466  1.73792767 -1.64464136\n",
      "  2.24732723  0.09575505 -1.92926868  1.46672026  2.01425477 -0.85619962\n",
      "  0.63055215  1.01386121 -0.41548712  0.71348812 -0.38060698  1.83600936\n",
      "  0.67736179 -2.44629617  0.84418679  3.80222169  1.07002    -0.52519563\n",
      "  1.70408043  1.34813529  2.4508806   0.56586585  2.07410421 -1.88970154\n",
      " -0.26337767 -0.27530538 -2.34355373 -1.23874983 -0.03039284  0.27023251\n",
      "  0.39489608  0.16854293 -0.18154316 -1.65077042  0.85581322  2.20821081\n",
      " -1.04447166 -1.63857508  1.58907378 -0.271009    3.52814304  0.28736118\n",
      " -0.28887935  2.61390332  0.68936398  1.60456673  2.09370487 -1.13820417\n",
      "  2.07421059  1.75707936 -0.29912632 -2.37932565 -0.1860215  -0.37843761\n",
      "  0.07359392  2.50884406 -0.57070696  2.53919437 -0.19193134  1.09458415\n",
      " -0.70483582 -0.79599392  5.38650828  0.88582329 -1.50281909  0.09247\n",
      "  1.91919854 -0.86615323  1.24278868  1.71987499  2.51846657  0.48216523\n",
      " -0.39958355 -0.22310177  0.06122503 -0.84334349 -1.35119602 -0.37510718\n",
      " -0.89003427 -2.40106377 -1.3927451   1.58812496 -1.59432389 -0.39432269\n",
      "  1.96435962 -2.58828587 -3.32560233  3.87614373]\n",
      "[-0.71428905  1.12640949 -0.02624104 -0.38433437 -1.79491764 -0.50272555\n",
      "  0.39742474  0.35339444  1.91084739 -1.11786971  0.10688426  0.4966284\n",
      "  1.04718935 -0.85015968 -1.52205004  0.8228629   1.24725983  1.12431231\n",
      "  0.02595616 -0.32704546  0.70376062 -0.30535798  0.67969363  0.54382292\n",
      " -1.49688937 -1.00681364]\n",
      "(100, 100)\n",
      "[ 2.55271936e-01 -3.38932214e+00  5.06783693e-01 -1.76945218e+00\n",
      "  2.36283548e+00 -2.74904861e+00 -5.46082094e-01  3.47362938e+00\n",
      "  1.00270814e-01 -9.21188092e-01  1.88124338e+00 -1.65295959e+00\n",
      " -1.55116873e+00  1.49779900e+00  2.15697805e+00  1.37571822e+00\n",
      " -4.33405703e+00 -3.19289232e+00  3.00815356e+00  1.72784172e+00\n",
      " -5.34448428e-02 -1.55872332e+00 -1.43314020e+00  2.50354229e+00\n",
      "  5.90396710e-01 -6.81057456e-01 -6.05590887e-01  1.97504233e+00\n",
      "  1.94221042e+00  2.54952107e+00 -1.88870159e+00 -3.11351649e-01\n",
      "  2.57980871e-01 -1.49076294e+00 -2.87495501e-01 -5.62787101e+00\n",
      " -2.61262108e+00 -1.22607807e+00 -6.55718303e-01  9.42783444e-01\n",
      " -1.56674166e+00 -1.64961785e+00  8.12839613e-01  2.93929956e-01\n",
      "  1.57375325e+00 -1.71957896e+00  1.24962507e+00  2.17931113e+00\n",
      "  1.16379956e+00 -1.39604186e+00 -3.00053927e+00  1.66838343e+00\n",
      "  2.77188698e-01 -2.67360084e-01 -4.40442578e+00 -8.89450753e-01\n",
      " -7.24824692e-01 -2.41192602e+00 -1.01639633e+00  1.84337145e+00\n",
      " -3.99795471e+00 -3.73604171e+00 -2.61974378e-01 -2.27101168e+00\n",
      " -1.55282291e+00 -2.54818272e+00 -1.74694890e+00 -3.01399424e-01\n",
      "  4.95647863e-04 -1.40739412e+00 -1.08048628e+00 -5.02445017e+00\n",
      " -1.20126325e-01 -1.81372677e+00 -7.20825712e-01 -3.94909766e-01\n",
      " -3.00847395e+00 -1.87340225e+00 -9.81844573e-01 -2.49496298e-01\n",
      " -3.13973152e+00 -1.12628403e+00  1.74278819e+00  1.99520528e+00\n",
      "  1.05472079e+00 -1.68040685e+00 -4.12357029e-01 -1.67077171e+00\n",
      " -1.35987596e+00 -3.09990808e+00 -1.31306840e+00 -3.19117257e+00\n",
      " -1.55623389e+00 -7.34690069e-02 -1.12706604e+00 -2.63536384e+00\n",
      " -8.41729431e-01  1.54460149e+00 -1.21698700e+00 -2.78024248e+00]\n",
      "[-0.64379099  2.32065779 -0.49921721 -0.16531746 -0.63771026  0.35239329\n",
      "  1.12585202  1.22410435  0.18376478 -2.11495913  0.72523646 -0.12712972\n",
      "  0.5095009   0.19764145 -0.45812283 -2.62320081 -0.91191648  0.79285388\n",
      "  1.24056234 -1.13012656 -1.66197234  1.15912964  1.17068588  1.34554261\n",
      " -1.60493337  0.08753484 -0.3521117  -0.92862536]\n",
      "(100, 100)\n",
      "[-1.66792618 -1.54218253 -1.49481825  1.99431693  0.38302474  1.30377092\n",
      "  0.69045285  0.92158927  0.81370021  1.66022896 -2.33039981  0.66120755\n",
      "  3.42015986  3.65897011  0.8425815   1.65676234 -1.15694446  1.18855437\n",
      "  0.10727479  2.48893454  4.48321517  0.62098987 -0.19845514  1.63259638\n",
      "  1.05037286  3.66762169  0.01150688  2.51518192  3.96416941 -2.15518437\n",
      " -0.15156134  1.20352389  1.07103556 -1.77891683  3.36610997  5.84219923\n",
      "  4.76624057 -1.19811482  2.44207611  3.48249058 -2.12895237  3.59483293\n",
      "  0.56390791  0.1435346   0.00725388  3.77355627  2.28887179  2.59529136\n",
      "  2.7042113   0.78744471  1.76144616 -1.09296904  2.55349081  2.61972813\n",
      "  0.10059232 -0.78881776  0.80643133 -0.41218581  2.29711031  6.46628616\n",
      "  6.12454517  3.57683644  1.62379991  2.50403855  1.62392371  2.77835251\n",
      "  4.62213761 -4.87026611 -2.54367071 -3.73210704 -1.45242181  1.1969784\n",
      "  4.28788036 -0.011941    0.90358565  1.7015354   1.89072362  5.9707214\n",
      "  3.4505404   2.7171142   3.40957226  2.93009655  2.10605994  0.44247453\n",
      " -0.26639704  1.70489516 -0.62277011  0.56925674 -0.04514004  3.54490724\n",
      " -0.08972051  0.30332285  3.48619434  2.05259509 -4.31419317 -1.69382258\n",
      "  0.6800111   1.26854936 -0.51066134  3.72907689]\n",
      "[-0.59572128 -2.22684307  1.31253168  2.005166    1.29973328  1.82051402\n",
      "  0.05294829  0.95546018  0.01679247 -1.26486593 -0.26993044  1.57512766\n",
      " -1.03219146  0.2735949  -0.61286962 -1.08919317  1.16476506 -1.73864508\n",
      " -0.45742162 -0.54197866  2.33020011 -0.82352937 -0.43624833  1.34436012\n",
      " -1.86978643 -1.23041278  0.29380912  0.8746188   1.61676731  0.20139741]\n",
      "(100, 100)\n",
      "[-1.10371077 -2.93637731 -2.72838168 -4.65365273 -3.91536203  2.5475468\n",
      " -0.83353572 -1.99312883 -2.41972228  0.88878355  0.16090668  0.14113193\n",
      "  0.01625237 -0.78684543 -1.20425065 -0.10851219  2.62014245 -1.307963\n",
      " -0.58062742 -0.42292025  0.63045504 -1.62025501 -1.03438824 -3.07709163\n",
      "  1.87287075 -3.38657678  1.45385926  0.38598561 -1.23075914  1.29576362\n",
      " -0.34224663  1.42931483 -0.43149037 -1.03820247 -1.65863702 -0.51763841\n",
      "  0.61021787 -2.04936502  1.2394985   0.16877655 -0.13227314 -0.73381427\n",
      "  0.64684591  1.19143111 -0.16366605 -3.05192302 -2.04623552 -3.45173824\n",
      "  2.11997723 -1.09402944 -2.48048806 -2.38463967  1.57827704  0.20116982\n",
      " -1.84087986 -0.9465484   1.35630269  4.5880841  -3.50778014  2.18933553\n",
      " -3.19808071 -0.54145046 -1.63643062 -1.81686875 -1.58179445 -0.08762949\n",
      "  1.13290622 -2.05594683 -1.77689038  0.76417887 -0.15566202 -2.66357654\n",
      " -1.28136729  0.8443915  -0.66105254 -2.42231387  2.82819574 -1.48365863\n",
      "  1.58114738 -1.02306641 -0.36705477 -1.42785624 -0.42438038 -0.96895688\n",
      "  2.05998876 -2.93082179 -2.65413922  3.2583766  -0.23378508  3.60934954\n",
      "  4.16373516 -1.1089045   2.12970861 -0.56474545 -0.82569522 -3.80222298\n",
      " -2.56970444  2.61669049 -2.87261802 -3.2037877 ]\n",
      "[-0.60270859 -1.49395796  0.32565775 -0.5073183  -1.34699996  0.49925289\n",
      " -0.11502875  0.14158561 -0.41180193 -0.69242062 -1.04014764 -1.01715349\n",
      "  0.15944902  1.25464726  1.72510606  0.9859844   0.22431857 -0.69523808\n",
      " -0.82558683 -0.81882905 -0.12915784 -1.38129927 -0.83692247  2.85422146\n",
      "  0.86808398  0.86332581  1.89744339  0.06227149  2.70711732 -1.36548001\n",
      " -0.52574258 -1.5897772 ]\n",
      "(100, 100)\n",
      "[-3.19153498 -4.11555243 -2.96106336 -4.00642156 -3.49498095 -4.20236973\n",
      " -3.81158242 -4.99868211 -1.63263169 -2.99793446 -4.60707986 -2.75219952\n",
      " -4.5940767  -4.53067156 -1.57613398 -3.40945074 -1.88679538 -1.72202166\n",
      " -5.47629251 -0.5099947  -3.97874257 -4.27565055 -3.00548443 -2.74561613\n",
      " -2.58303913 -2.44669844 -8.11107753 -2.1212794  -3.90864071 -5.12872658\n",
      " -2.96605568 -1.71102674 -5.39370167 -6.62880976 -7.30773905 -6.70267161\n",
      " -6.74674857 -2.96726348 -5.17855291 -4.58687646 -5.7733601  -4.85655791\n",
      " -4.9259751  -2.80613122 -6.53597038 -2.76560683 -4.03183881 -3.80759596\n",
      " -5.67641111 -4.27454104 -5.1216287  -5.31844176 -7.12692341 -1.39360033\n",
      " -4.59676431 -2.71348109 -4.48992867 -2.37292664 -5.87449255 -2.38785454\n",
      " -3.20871006 -4.46022742 -4.82225845 -3.38779875 -8.7761175  -4.91339869\n",
      " -5.12359812 -5.04313896 -6.37045549 -4.52129539 -3.86653301 -6.22997318\n",
      " -1.33283441 -4.29604079 -5.71219792 -0.38288206 -6.04251141 -2.12648298\n",
      " -6.16804703 -5.37127225 -3.35763514 -5.02291013 -5.26085026 -5.77655873\n",
      " -4.84559251 -1.02321679 -3.30855574 -3.06287833 -2.54692809 -5.56048213\n",
      " -4.89653538 -7.89990255 -2.51155587 -4.27640107 -2.73574178 -3.10227055\n",
      " -6.0612113  -6.969714   -5.85586975 -8.23685332]\n",
      "[-0.56007149  0.62131294 -1.45107195  0.10462241 -0.39176288 -0.18842735\n",
      " -0.8964199  -0.0673148   0.14463488 -1.41232694 -0.69936994 -0.98937728\n",
      "  0.04119075  0.09230917  0.06027095 -1.91628641 -0.94503105  0.53948091\n",
      " -1.42277044 -0.11471085 -0.2080985   0.62974136  0.89533007 -2.52804835\n",
      " -1.65753177  1.18883818  2.06758641 -0.53261105 -0.28978483  0.04129691\n",
      "  1.2434234   0.29961333 -0.47912773  0.37052289]\n",
      "(100, 100)\n",
      "[-6.11499856 -8.17480011 -5.10607074 -7.36889277 -7.27434724 -5.48531489\n",
      " -3.27931597 -5.03743137 -5.58145894 -7.37775678 -2.15492463 -3.14073582\n",
      " -6.62479853 -7.4702264  -2.30266883 -5.04133731 -5.94187342 -6.25185263\n",
      " -3.70045452 -1.64200733 -5.20530127 -5.03679017 -3.19645162 -6.42263705\n",
      " -2.94859052 -2.11660893 -5.63713174 -3.75643753 -3.40178724 -5.88710263\n",
      "  0.41142091 -4.29969281 -4.56205645 -3.71093369 -4.55053147 -5.60180887\n",
      " -5.29490937 -5.28599371 -5.2417114  -2.88886182 -9.14456909 -6.84472271\n",
      " -4.82899091 -2.5491977  -7.90608981 -8.8827653   1.91819283 -4.83611581\n",
      " -6.09521348 -4.42874501 -6.09032176 -3.99901852 -4.56442555 -1.50193357\n",
      " -4.15824625 -4.54952901 -2.50309476 -1.17020314 -5.53514343 -2.09600697\n",
      " -1.43433067 -3.2972246  -5.62332434 -4.26004425 -3.09837258 -5.38209726\n",
      " -5.2965355  -3.92178461 -1.71576168 -5.9404779  -0.49944302 -4.34419438\n",
      " -8.24861463 -6.24449708 -3.47923519 -7.2558783   0.23700721 -2.06117083\n",
      " -4.99260701 -4.78023367 -5.25614925 -6.04588291 -6.03888731 -4.16019871\n",
      " -6.08682694 -6.92810534 -2.02884907 -6.03299789 -5.9400203  -4.06553584\n",
      " -6.5356175  -2.12488837 -8.41873123 -4.17190851 -3.4516957  -2.920109\n",
      " -2.53349262 -5.60412005 -3.3871041  -5.95493019]\n",
      "[-1.05133738  0.09078197  0.97221913 -0.65588842 -1.32805919 -0.88062997\n",
      "  1.17688954  0.13705893  0.08762274  2.07944222 -0.27335363 -1.17150075\n",
      " -1.38666118 -0.34882848 -0.84878892 -0.79657092  0.17354305  0.35288716\n",
      "  1.58876002  2.29980837 -1.30449919 -1.2931351  -2.98560422 -0.7011398\n",
      "  0.09752296  1.34100832  0.69866984 -0.29301255  0.47702639  0.47117804\n",
      " -0.64717481 -1.87126436 -0.40346329 -1.59929696  0.43169688 -2.60451869]\n",
      "(100, 100)\n",
      "[ 0.74215056  0.05522007 -3.47431558 -0.57024607  0.78233691  2.44101903\n",
      " -2.5229464  -3.13784985  1.37658359  1.88579992 -0.68372599 -1.24618264\n",
      "  0.12970524  0.61969842  0.88117661  2.41972813 -2.76987424 -1.03853356\n",
      " -0.7949054  -1.05976475  0.33771633 -0.54717877  2.37771063 -2.78185721\n",
      "  2.81432166  3.99937767  2.12455557  3.01090898  2.82071881 -1.44263316\n",
      "  1.53116555  1.09615074 -2.70299538  0.72773575 -0.4773402  -1.39513043\n",
      " -2.23455224  0.33595003  4.05101624  3.10052725 -0.13340788 -3.69805543\n",
      "  1.91095844  0.94215341  3.37349439  1.53815487  2.94655303 -0.46490251\n",
      " -0.47664543  1.20354112  3.3663603   1.32016696  2.16053755  2.31827713\n",
      " -2.05464219  0.54310842  1.82901874  0.84538446  0.22365892 -1.41870919\n",
      " -2.08530098  2.09401241 -1.25066567 -1.40468048  2.71246137  2.19835763\n",
      " -0.32817652  2.65976979  2.81356942  0.96898433 -4.88226465  1.45368659\n",
      " -1.14025396  0.75724747  0.65089946  2.3716015  -0.26550481 -3.52302401\n",
      "  1.30363905  0.86447304  0.78866859  0.11869227  1.61851879  0.98189045\n",
      "  3.49409031  1.72894617  1.17680819  3.17824948  0.14036833 -1.69548385\n",
      "  0.0307484   0.08768092  1.80229554 -1.64498128 -2.48448907  3.65879962\n",
      " -3.39358163 -0.91137977  0.48652474  2.28181832]\n",
      "[ 1.02778297  0.41425637 -0.8837295   2.12319805  1.57619046 -0.25756739\n",
      "  1.13870236  0.06150569  0.82935502 -1.29179331 -0.23192124  1.00664671\n",
      "  2.57460817 -0.30541889  1.51118816 -1.5179371  -0.96623699  0.30506291\n",
      " -0.0777244  -0.78568978 -0.55850371 -1.58163792  0.93993024  0.28931446\n",
      "  0.30643567  0.15525988 -0.13487612  0.66432837  0.12539233 -1.03882898\n",
      " -1.52407276 -0.94443362 -0.05839051 -1.15820265 -1.33381978 -0.93198323\n",
      "  1.40390261  0.44258976]\n"
     ]
    },
    {
     "data": {
      "image/png": "[encoded data removed]",
      "text/plain": [
       "<Figure size 640x480 with 1 Axes>"
      ]
     },
     "metadata": {},
     "output_type": "display_data"
    }
   ],
   "source": [
    "num_samples = 100\n",
    "train_nrmse_list = []\n",
    "val_nrmse_list = []\n",
    "var = [2*x for x in range(20)]\n",
    "for va in var:\n",
    "    X_train, X_val, t_train, t_val = generateData(num_samples, va)\n",
    "    train_nrmse,val_nrmse = pseudoInverseRegression(X_train, t_train, X_val, t_val)\n",
    "    train_nrmse_list.append(train_nrmse)\n",
    "    val_nrmse_list.append(val_nrmse)\n",
    "\n",
    "# I thought here that line plot looks better than line plot\n",
    "plt.plot(var, train_nrmse_list, 'o-', label='Training NRMSE')\n",
    "plt.plot(var, val_nrmse_list, 'o-', label='Validation NRMSE')\n",
    "plt.xlabel('Number of Variables')\n",
    "plt.ylabel('NRMSE')\n",
    "plt.legend()\n",
    "plt.show()"
   ]
  },
  {
   "cell_type": "code",
   "execution_count": null,
   "id": "37a889b0",
   "metadata": {},
   "outputs": [],
   "source": []
  }
 ],
 "metadata": {
  "kernelspec": {
   "display_name": "Python 3 (ipykernel)",
   "language": "python",
   "name": "python3"
  },
  "language_info": {
   "codemirror_mode": {
    "name": "ipython",
    "version": 3
   },
   "file_extension": ".py",
   "mimetype": "text/x-python",
   "name": "python",
   "nbconvert_exporter": "python",
   "pygments_lexer": "ipython3",
   "version": "3.9.12"
  }
 },
 "nbformat": 4,
 "nbformat_minor": 5
}
