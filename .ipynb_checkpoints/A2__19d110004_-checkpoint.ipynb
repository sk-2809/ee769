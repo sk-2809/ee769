{
 "cells": [
  {
   "cell_type": "code",
   "execution_count": 14,
   "metadata": {
    "id": "gACA7eiSfC4g"
   },
   "outputs": [],
   "source": [
    "import pandas as pd\n",
    "import numpy as np\n",
    "import matplotlib.pyplot as plt\n",
    "import seaborn as sns\n",
    "\n",
    "from sklearn.experimental import enable_iterative_imputer\n",
    "from sklearn.impute import IterativeImputer\n",
    "from sklearn.ensemble import RandomForestClassifier\n",
    "from sklearn.svm import LinearSVC\n",
    "from sklearn.svm import SVC\n",
    "from sklearn.model_selection import GridSearchCV\n",
    "from sklearn.neural_network import MLPClassifier\n",
    "\n",
    "from sklearn.metrics import accuracy_score, f1_score, balanced_accuracy_score, roc_auc_score\n",
    "from sklearn.model_selection import train_test_split"
   ]
  },
  {
   "cell_type": "markdown",
   "metadata": {
    "id": "PcyppyD7KVpc"
   },
   "source": [
    "##1)"
   ]
  },
  {
   "cell_type": "code",
   "execution_count": 13,
   "metadata": {
    "colab": {
     "base_uri": "https://localhost:8080/",
     "height": 299
    },
    "id": "jhqQJ991hho3",
    "outputId": "6c0a8c5d-5536-449c-8b70-5a475f11af4a"
   },
   "outputs": [
    {
     "data": {
      "text/html": [
       "\n",
       "  <div id=\"df-025e2d36-06e7-44f2-89fc-ee04f3014851\">\n",
       "    <div class=\"colab-df-container\">\n",
       "      <div>\n",
       "<style scoped>\n",
       "    .dataframe tbody tr th:only-of-type {\n",
       "        vertical-align: middle;\n",
       "    }\n",
       "\n",
       "    .dataframe tbody tr th {\n",
       "        vertical-align: top;\n",
       "    }\n",
       "\n",
       "    .dataframe thead th {\n",
       "        text-align: right;\n",
       "    }\n",
       "</style>\n",
       "<table border=\"1\" class=\"dataframe\">\n",
       "  <thead>\n",
       "    <tr style=\"text-align: right;\">\n",
       "      <th></th>\n",
       "      <th>DYRK1A_N</th>\n",
       "      <th>ITSN1_N</th>\n",
       "      <th>BDNF_N</th>\n",
       "      <th>NR1_N</th>\n",
       "      <th>NR2A_N</th>\n",
       "      <th>pAKT_N</th>\n",
       "      <th>pBRAF_N</th>\n",
       "      <th>pCAMKII_N</th>\n",
       "      <th>pCREB_N</th>\n",
       "      <th>pELK_N</th>\n",
       "      <th>...</th>\n",
       "      <th>BCL2_N</th>\n",
       "      <th>pS6_N</th>\n",
       "      <th>pCFOS_N</th>\n",
       "      <th>SYP_N</th>\n",
       "      <th>H3AcK18_N</th>\n",
       "      <th>EGR1_N</th>\n",
       "      <th>H3MeK4_N</th>\n",
       "      <th>CaNA_N</th>\n",
       "      <th>Genotype</th>\n",
       "      <th>Treatment_Behavior</th>\n",
       "    </tr>\n",
       "  </thead>\n",
       "  <tbody>\n",
       "    <tr>\n",
       "      <th>0</th>\n",
       "      <td>0.503644</td>\n",
       "      <td>0.747193</td>\n",
       "      <td>0.430175</td>\n",
       "      <td>2.816329</td>\n",
       "      <td>5.990152</td>\n",
       "      <td>0.218830</td>\n",
       "      <td>0.177565</td>\n",
       "      <td>2.373744</td>\n",
       "      <td>0.232224</td>\n",
       "      <td>1.750936</td>\n",
       "      <td>...</td>\n",
       "      <td>NaN</td>\n",
       "      <td>0.106305</td>\n",
       "      <td>0.108336</td>\n",
       "      <td>0.427099</td>\n",
       "      <td>0.114783</td>\n",
       "      <td>0.131790</td>\n",
       "      <td>0.128186</td>\n",
       "      <td>1.675652</td>\n",
       "      <td>Control</td>\n",
       "      <td>Memantine_C/S</td>\n",
       "    </tr>\n",
       "    <tr>\n",
       "      <th>1</th>\n",
       "      <td>0.514617</td>\n",
       "      <td>0.689064</td>\n",
       "      <td>0.411770</td>\n",
       "      <td>2.789514</td>\n",
       "      <td>5.685038</td>\n",
       "      <td>0.211636</td>\n",
       "      <td>0.172817</td>\n",
       "      <td>2.292150</td>\n",
       "      <td>0.226972</td>\n",
       "      <td>1.596377</td>\n",
       "      <td>...</td>\n",
       "      <td>NaN</td>\n",
       "      <td>0.106592</td>\n",
       "      <td>0.104315</td>\n",
       "      <td>0.441581</td>\n",
       "      <td>0.111974</td>\n",
       "      <td>0.135103</td>\n",
       "      <td>0.131119</td>\n",
       "      <td>1.743610</td>\n",
       "      <td>Control</td>\n",
       "      <td>Memantine_C/S</td>\n",
       "    </tr>\n",
       "    <tr>\n",
       "      <th>2</th>\n",
       "      <td>0.509183</td>\n",
       "      <td>0.730247</td>\n",
       "      <td>0.418309</td>\n",
       "      <td>2.687201</td>\n",
       "      <td>5.622059</td>\n",
       "      <td>0.209011</td>\n",
       "      <td>0.175722</td>\n",
       "      <td>2.283337</td>\n",
       "      <td>0.230247</td>\n",
       "      <td>1.561316</td>\n",
       "      <td>...</td>\n",
       "      <td>NaN</td>\n",
       "      <td>0.108303</td>\n",
       "      <td>0.106219</td>\n",
       "      <td>0.435777</td>\n",
       "      <td>0.111883</td>\n",
       "      <td>0.133362</td>\n",
       "      <td>0.127431</td>\n",
       "      <td>1.926427</td>\n",
       "      <td>Control</td>\n",
       "      <td>Memantine_C/S</td>\n",
       "    </tr>\n",
       "    <tr>\n",
       "      <th>3</th>\n",
       "      <td>0.442107</td>\n",
       "      <td>0.617076</td>\n",
       "      <td>0.358626</td>\n",
       "      <td>2.466947</td>\n",
       "      <td>4.979503</td>\n",
       "      <td>0.222886</td>\n",
       "      <td>0.176463</td>\n",
       "      <td>2.152301</td>\n",
       "      <td>0.207004</td>\n",
       "      <td>1.595086</td>\n",
       "      <td>...</td>\n",
       "      <td>NaN</td>\n",
       "      <td>0.103184</td>\n",
       "      <td>0.111262</td>\n",
       "      <td>0.391691</td>\n",
       "      <td>0.130405</td>\n",
       "      <td>0.147444</td>\n",
       "      <td>0.146901</td>\n",
       "      <td>1.700563</td>\n",
       "      <td>Control</td>\n",
       "      <td>Memantine_C/S</td>\n",
       "    </tr>\n",
       "    <tr>\n",
       "      <th>4</th>\n",
       "      <td>0.434940</td>\n",
       "      <td>0.617430</td>\n",
       "      <td>0.358802</td>\n",
       "      <td>2.365785</td>\n",
       "      <td>4.718679</td>\n",
       "      <td>0.213106</td>\n",
       "      <td>0.173627</td>\n",
       "      <td>2.134014</td>\n",
       "      <td>0.192158</td>\n",
       "      <td>1.504230</td>\n",
       "      <td>...</td>\n",
       "      <td>NaN</td>\n",
       "      <td>0.104784</td>\n",
       "      <td>0.110694</td>\n",
       "      <td>0.434154</td>\n",
       "      <td>0.118481</td>\n",
       "      <td>0.140314</td>\n",
       "      <td>0.148380</td>\n",
       "      <td>1.839730</td>\n",
       "      <td>Control</td>\n",
       "      <td>Memantine_C/S</td>\n",
       "    </tr>\n",
       "  </tbody>\n",
       "</table>\n",
       "<p>5 rows × 79 columns</p>\n",
       "</div>\n",
       "      <button class=\"colab-df-convert\" onclick=\"convertToInteractive('df-025e2d36-06e7-44f2-89fc-ee04f3014851')\"\n",
       "              title=\"Convert this dataframe to an interactive table.\"\n",
       "              style=\"display:none;\">\n",
       "        \n",
       "  <svg xmlns=\"http://www.w3.org/2000/svg\" height=\"24px\"viewBox=\"0 0 24 24\"\n",
       "       width=\"24px\">\n",
       "    <path d=\"M0 0h24v24H0V0z\" fill=\"none\"/>\n",
       "    <path d=\"M18.56 5.44l.94 2.06.94-2.06 2.06-.94-2.06-.94-.94-2.06-.94 2.06-2.06.94zm-11 1L8.5 8.5l.94-2.06 2.06-.94-2.06-.94L8.5 2.5l-.94 2.06-2.06.94zm10 10l.94 2.06.94-2.06 2.06-.94-2.06-.94-.94-2.06-.94 2.06-2.06.94z\"/><path d=\"M17.41 7.96l-1.37-1.37c-.4-.4-.92-.59-1.43-.59-.52 0-1.04.2-1.43.59L10.3 9.45l-7.72 7.72c-.78.78-.78 2.05 0 2.83L4 21.41c.39.39.9.59 1.41.59.51 0 1.02-.2 1.41-.59l7.78-7.78 2.81-2.81c.8-.78.8-2.07 0-2.86zM5.41 20L4 18.59l7.72-7.72 1.47 1.35L5.41 20z\"/>\n",
       "  </svg>\n",
       "      </button>\n",
       "      \n",
       "  <style>\n",
       "    .colab-df-container {\n",
       "      display:flex;\n",
       "      flex-wrap:wrap;\n",
       "      gap: 12px;\n",
       "    }\n",
       "\n",
       "    .colab-df-convert {\n",
       "      background-color: #E8F0FE;\n",
       "      border: none;\n",
       "      border-radius: 50%;\n",
       "      cursor: pointer;\n",
       "      display: none;\n",
       "      fill: #1967D2;\n",
       "      height: 32px;\n",
       "      padding: 0 0 0 0;\n",
       "      width: 32px;\n",
       "    }\n",
       "\n",
       "    .colab-df-convert:hover {\n",
       "      background-color: #E2EBFA;\n",
       "      box-shadow: 0px 1px 2px rgba(60, 64, 67, 0.3), 0px 1px 3px 1px rgba(60, 64, 67, 0.15);\n",
       "      fill: #174EA6;\n",
       "    }\n",
       "\n",
       "    [theme=dark] .colab-df-convert {\n",
       "      background-color: #3B4455;\n",
       "      fill: #D2E3FC;\n",
       "    }\n",
       "\n",
       "    [theme=dark] .colab-df-convert:hover {\n",
       "      background-color: #434B5C;\n",
       "      box-shadow: 0px 1px 3px 1px rgba(0, 0, 0, 0.15);\n",
       "      filter: drop-shadow(0px 1px 2px rgba(0, 0, 0, 0.3));\n",
       "      fill: #FFFFFF;\n",
       "    }\n",
       "  </style>\n",
       "\n",
       "      <script>\n",
       "        const buttonEl =\n",
       "          document.querySelector('#df-025e2d36-06e7-44f2-89fc-ee04f3014851 button.colab-df-convert');\n",
       "        buttonEl.style.display =\n",
       "          google.colab.kernel.accessAllowed ? 'block' : 'none';\n",
       "\n",
       "        async function convertToInteractive(key) {\n",
       "          const element = document.querySelector('#df-025e2d36-06e7-44f2-89fc-ee04f3014851');\n",
       "          const dataTable =\n",
       "            await google.colab.kernel.invokeFunction('convertToInteractive',\n",
       "                                                     [key], {});\n",
       "          if (!dataTable) return;\n",
       "\n",
       "          const docLinkHtml = 'Like what you see? Visit the ' +\n",
       "            '<a target=\"_blank\" href=https://colab.research.google.com/notebooks/data_table.ipynb>data table notebook</a>'\n",
       "            + ' to learn more about interactive tables.';\n",
       "          element.innerHTML = '';\n",
       "          dataTable['output_type'] = 'display_data';\n",
       "          await google.colab.output.renderOutput(dataTable, element);\n",
       "          const docLink = document.createElement('div');\n",
       "          docLink.innerHTML = docLinkHtml;\n",
       "          element.appendChild(docLink);\n",
       "        }\n",
       "      </script>\n",
       "    </div>\n",
       "  </div>\n",
       "  "
      ],
      "text/plain": [
       "   DYRK1A_N   ITSN1_N    BDNF_N     NR1_N    NR2A_N    pAKT_N   pBRAF_N  \\\n",
       "0  0.503644  0.747193  0.430175  2.816329  5.990152  0.218830  0.177565   \n",
       "1  0.514617  0.689064  0.411770  2.789514  5.685038  0.211636  0.172817   \n",
       "2  0.509183  0.730247  0.418309  2.687201  5.622059  0.209011  0.175722   \n",
       "3  0.442107  0.617076  0.358626  2.466947  4.979503  0.222886  0.176463   \n",
       "4  0.434940  0.617430  0.358802  2.365785  4.718679  0.213106  0.173627   \n",
       "\n",
       "   pCAMKII_N   pCREB_N    pELK_N  ...  BCL2_N     pS6_N   pCFOS_N     SYP_N  \\\n",
       "0   2.373744  0.232224  1.750936  ...     NaN  0.106305  0.108336  0.427099   \n",
       "1   2.292150  0.226972  1.596377  ...     NaN  0.106592  0.104315  0.441581   \n",
       "2   2.283337  0.230247  1.561316  ...     NaN  0.108303  0.106219  0.435777   \n",
       "3   2.152301  0.207004  1.595086  ...     NaN  0.103184  0.111262  0.391691   \n",
       "4   2.134014  0.192158  1.504230  ...     NaN  0.104784  0.110694  0.434154   \n",
       "\n",
       "   H3AcK18_N    EGR1_N  H3MeK4_N    CaNA_N  Genotype  Treatment_Behavior  \n",
       "0   0.114783  0.131790  0.128186  1.675652   Control       Memantine_C/S  \n",
       "1   0.111974  0.135103  0.131119  1.743610   Control       Memantine_C/S  \n",
       "2   0.111883  0.133362  0.127431  1.926427   Control       Memantine_C/S  \n",
       "3   0.130405  0.147444  0.146901  1.700563   Control       Memantine_C/S  \n",
       "4   0.118481  0.140314  0.148380  1.839730   Control       Memantine_C/S  \n",
       "\n",
       "[5 rows x 79 columns]"
      ]
     },
     "execution_count": 13,
     "metadata": {},
     "output_type": "execute_result"
    }
   ],
   "source": [
    "#1\n",
    "url_train = \"https://www.ee.iitb.ac.in/~asethi/Dump/MouseTrain.csv\"\n",
    "data = pd.read_csv(url_train)\n",
    "\n",
    "data.head()"
   ]
  },
  {
   "cell_type": "markdown",
   "metadata": {
    "id": "18ALQ_FxKaQ9"
   },
   "source": [
    "##2)"
   ]
  },
  {
   "cell_type": "code",
   "execution_count": 15,
   "metadata": {
    "colab": {
     "base_uri": "https://localhost:8080/",
     "height": 1000
    },
    "id": "A3IMFigPlq0c",
    "outputId": "511b3f14-d046-4d18-b425-21376280f85d"
   },
   "outputs": [
    {
     "name": "stdout",
     "output_type": "stream",
     "text": [
      "<class 'pandas.core.frame.DataFrame'>\n",
      "RangeIndex: 762 entries, 0 to 761\n",
      "Data columns (total 79 columns):\n",
      " #   Column              Non-Null Count  Dtype  \n",
      "---  ------              --------------  -----  \n",
      " 0   DYRK1A_N            762 non-null    float64\n",
      " 1   ITSN1_N             762 non-null    float64\n",
      " 2   BDNF_N              762 non-null    float64\n",
      " 3   NR1_N               762 non-null    float64\n",
      " 4   NR2A_N              762 non-null    float64\n",
      " 5   pAKT_N              762 non-null    float64\n",
      " 6   pBRAF_N             762 non-null    float64\n",
      " 7   pCAMKII_N           762 non-null    float64\n",
      " 8   pCREB_N             762 non-null    float64\n",
      " 9   pELK_N              762 non-null    float64\n",
      " 10  pERK_N              762 non-null    float64\n",
      " 11  pJNK_N              762 non-null    float64\n",
      " 12  PKCA_N              762 non-null    float64\n",
      " 13  pMEK_N              762 non-null    float64\n",
      " 14  pNR1_N              762 non-null    float64\n",
      " 15  pNR2A_N             762 non-null    float64\n",
      " 16  pNR2B_N             762 non-null    float64\n",
      " 17  pPKCAB_N            762 non-null    float64\n",
      " 18  pRSK_N              762 non-null    float64\n",
      " 19  AKT_N               762 non-null    float64\n",
      " 20  BRAF_N              762 non-null    float64\n",
      " 21  CAMKII_N            762 non-null    float64\n",
      " 22  CREB_N              762 non-null    float64\n",
      " 23  ELK_N               747 non-null    float64\n",
      " 24  ERK_N               762 non-null    float64\n",
      " 25  GSK3B_N             762 non-null    float64\n",
      " 26  JNK_N               762 non-null    float64\n",
      " 27  MEK_N               758 non-null    float64\n",
      " 28  TRKA_N              762 non-null    float64\n",
      " 29  RSK_N               762 non-null    float64\n",
      " 30  APP_N               762 non-null    float64\n",
      " 31  Bcatenin_N          747 non-null    float64\n",
      " 32  SOD1_N              762 non-null    float64\n",
      " 33  MTOR_N              762 non-null    float64\n",
      " 34  P38_N               762 non-null    float64\n",
      " 35  pMTOR_N             762 non-null    float64\n",
      " 36  DSCR1_N             762 non-null    float64\n",
      " 37  AMPKA_N             762 non-null    float64\n",
      " 38  NR2B_N              762 non-null    float64\n",
      " 39  pNUMB_N             762 non-null    float64\n",
      " 40  RAPTOR_N            762 non-null    float64\n",
      " 41  TIAM1_N             762 non-null    float64\n",
      " 42  pP70S6_N            762 non-null    float64\n",
      " 43  NUMB_N              762 non-null    float64\n",
      " 44  P70S6_N             762 non-null    float64\n",
      " 45  pGSK3B_N            762 non-null    float64\n",
      " 46  pPKCG_N             762 non-null    float64\n",
      " 47  CDK5_N              762 non-null    float64\n",
      " 48  S6_N                762 non-null    float64\n",
      " 49  ADARB1_N            762 non-null    float64\n",
      " 50  AcetylH3K9_N        762 non-null    float64\n",
      " 51  RRP1_N              762 non-null    float64\n",
      " 52  BAX_N               762 non-null    float64\n",
      " 53  ARC_N               762 non-null    float64\n",
      " 54  ERBB4_N             762 non-null    float64\n",
      " 55  nNOS_N              762 non-null    float64\n",
      " 56  Tau_N               762 non-null    float64\n",
      " 57  GFAP_N              762 non-null    float64\n",
      " 58  GluR3_N             762 non-null    float64\n",
      " 59  GluR4_N             762 non-null    float64\n",
      " 60  IL1B_N              762 non-null    float64\n",
      " 61  P3525_N             762 non-null    float64\n",
      " 62  pCASP9_N            762 non-null    float64\n",
      " 63  PSD95_N             762 non-null    float64\n",
      " 64  SNCA_N              762 non-null    float64\n",
      " 65  Ubiquitin_N         762 non-null    float64\n",
      " 66  pGSK3B_Tyr216_N     762 non-null    float64\n",
      " 67  SHH_N               762 non-null    float64\n",
      " 68  BAD_N               582 non-null    float64\n",
      " 69  BCL2_N              567 non-null    float64\n",
      " 70  pS6_N               762 non-null    float64\n",
      " 71  pCFOS_N             702 non-null    float64\n",
      " 72  SYP_N               762 non-null    float64\n",
      " 73  H3AcK18_N           612 non-null    float64\n",
      " 74  EGR1_N              582 non-null    float64\n",
      " 75  H3MeK4_N            582 non-null    float64\n",
      " 76  CaNA_N              762 non-null    float64\n",
      " 77  Genotype            762 non-null    object \n",
      " 78  Treatment_Behavior  762 non-null    object \n",
      "dtypes: float64(77), object(2)\n",
      "memory usage: 470.4+ KB\n",
      "None\n",
      "         DYRK1A_N     ITSN1_N      BDNF_N       NR1_N      NR2A_N      pAKT_N  \\\n",
      "count  762.000000  762.000000  762.000000  762.000000  762.000000  762.000000   \n",
      "mean     0.437715    0.629456    0.319844    2.311905    3.882665    0.232722   \n",
      "std      0.275175    0.274954    0.046536    0.342923    0.929202    0.039521   \n",
      "min      0.170634    0.264085    0.194160    1.414914    1.794716    0.063236   \n",
      "25%      0.294759    0.481011    0.290199    2.069609    3.186726    0.206446   \n",
      "50%      0.371534    0.569058    0.317696    2.309711    3.800418    0.229032   \n",
      "75%      0.486749    0.700621    0.346747    2.534053    4.471656    0.255064   \n",
      "max      2.516367    2.602662    0.497160    3.757641    8.482553    0.434624   \n",
      "\n",
      "          pBRAF_N   pCAMKII_N     pCREB_N      pELK_N  ...       SHH_N  \\\n",
      "count  762.000000  762.000000  762.000000  762.000000  ...  762.000000   \n",
      "mean     0.182514    3.513055    0.212083    1.447201  ...    0.226365   \n",
      "std      0.026548    1.268395    0.031066    0.510631  ...    0.029564   \n",
      "min      0.064043    1.369898    0.112812    0.429032  ...    0.162642   \n",
      "25%      0.165306    2.424669    0.190616    1.213118  ...    0.205750   \n",
      "50%      0.181405    3.319506    0.210077    1.347557  ...    0.224439   \n",
      "75%      0.197664    4.493452    0.233947    1.542629  ...    0.241714   \n",
      "max      0.317066    6.947290    0.306247    6.113347  ...    0.358289   \n",
      "\n",
      "            BAD_N      BCL2_N       pS6_N     pCFOS_N       SYP_N   H3AcK18_N  \\\n",
      "count  582.000000  567.000000  762.000000  702.000000  762.000000  612.000000   \n",
      "mean     0.156693    0.136973    0.122095    0.129689    0.450260    0.166017   \n",
      "std      0.030299    0.029633    0.014928    0.022832    0.062304    0.059256   \n",
      "min      0.088305    0.080657    0.067254    0.085419    0.258626    0.079691   \n",
      "25%      0.136188    0.116234    0.110655    0.111676    0.407385    0.124382   \n",
      "50%      0.150386    0.131542    0.122600    0.126138    0.450500    0.153342   \n",
      "75%      0.170685    0.150942    0.133617    0.142831    0.488438    0.195401   \n",
      "max      0.282016    0.261506    0.158748    0.210908    0.759588    0.479763   \n",
      "\n",
      "           EGR1_N    H3MeK4_N      CaNA_N  \n",
      "count  582.000000  582.000000  762.000000  \n",
      "mean     0.182322    0.206105    1.357954  \n",
      "std      0.041938    0.058118    0.337107  \n",
      "min      0.105537    0.101787    0.586479  \n",
      "25%      0.152365    0.164155    1.075929  \n",
      "50%      0.174184    0.191754    1.351277  \n",
      "75%      0.205146    0.235925    1.616752  \n",
      "max      0.360692    0.413903    2.129791  \n",
      "\n",
      "[8 rows x 77 columns]\n",
      "DYRK1A_N                0\n",
      "ITSN1_N                 0\n",
      "BDNF_N                  0\n",
      "NR1_N                   0\n",
      "NR2A_N                  0\n",
      "                     ... \n",
      "EGR1_N                180\n",
      "H3MeK4_N              180\n",
      "CaNA_N                  0\n",
      "Genotype                0\n",
      "Treatment_Behavior      0\n",
      "Length: 79, dtype: int64\n",
      "Missing Values:\n",
      " DYRK1A_N                0\n",
      "ITSN1_N                 0\n",
      "BDNF_N                  0\n",
      "NR1_N                   0\n",
      "NR2A_N                  0\n",
      "                     ... \n",
      "EGR1_N                180\n",
      "H3MeK4_N              180\n",
      "CaNA_N                  0\n",
      "Genotype                0\n",
      "Treatment_Behavior      0\n",
      "Length: 79, dtype: int64\n",
      "Class Distribution:\n",
      " Memantine_C/S    105\n",
      "Memantine_S/C    105\n",
      "Saline_C/S       105\n",
      "Saline_S/C        72\n",
      "Name: Treatment_Behavior, dtype: int64\n",
      "Control    195\n",
      "Ts65Dn     192\n",
      "Name: Genotype, dtype: int64\n",
      "Memantine_C/S    105\n",
      "Memantine_S/C    105\n",
      "Saline_C/S       105\n",
      "Saline_S/C        72\n",
      "Name: Treatment_Behavior, dtype: int64\n"
     ]
    },
    {
     "data": {
      "image/png": "[encoded data removed]",
      "text/plain": [
       "<Figure size 432x288 with 2 Axes>"
      ]
     },
     "metadata": {
      "needs_background": "light"
     },
     "output_type": "display_data"
    }
   ],
   "source": [
    "# 2\n",
    "# a)\n",
    "# Check basic statistics for each column\n",
    "\n",
    "print(data.info())\n",
    "print(data.describe())\n",
    "print(data.isnull().sum())\n",
    "\n",
    "# Check for missing values\n",
    "print(\"Missing Values:\\n\", data.isnull().sum())\n",
    "\n",
    "# Drop unreliable readings\n",
    "data.dropna(inplace=True)\n",
    "\n",
    "\n",
    "# We can see that there are no missing values and all columns have 75,000 \n",
    "# non-null values. From the summary statistics, we can see that the range of \n",
    "# values for each column is quite different, so it might be necessary to \n",
    "# standardize or normalize the data before modeling.\n",
    "\n",
    "# b)\n",
    "corr_matrix = data.corr()\n",
    "sns.heatmap(corr_matrix, cmap=\"coolwarm\")\n",
    "# We can see that there are some significant positive correlations (in red) \n",
    "# between certain pairs of variables, such as pAKT_N and AKT_N, pERK_N and ERK_N,\n",
    "# and pCREB_N and CREB_N. There are also some significant negative correlations \n",
    "# (in blue), such as between S6_N and pS6_N, Bcatenin_N and NR2A_N, and NR1_N and BDNF_N.\n",
    "\n",
    "# c) \n",
    "# Check the balance of classes\n",
    "print(\"Class Distribution:\\n\", data[\"Treatment_Behavior\"].value_counts())\n",
    "print(data['Genotype'].value_counts())\n",
    "print(data['Treatment_Behavior'].value_counts())\n",
    "# This shows us that the classes are not perfectly balanced, but they are not \n",
    "# severely imbalanced either. The 'Ts65Dn' genotype has slightly fewer samples \n",
    "# than the 'Control' genotype, and the 'Memantine' treatment has slightly fewer \n",
    "# samples than the 'Saline' treatment.\n"
   ]
  },
  {
   "cell_type": "markdown",
   "metadata": {
    "id": "ETSH0Oj2Bs_f"
   },
   "source": [
    "##**3)**"
   ]
  },
  {
   "cell_type": "code",
   "execution_count": 16,
   "metadata": {
    "colab": {
     "base_uri": "https://localhost:8080/"
    },
    "id": "JNnLfnGUAJod",
    "outputId": "f4d994b5-900d-4150-ed7e-d01b860361ef"
   },
   "outputs": [
    {
     "name": "stdout",
     "output_type": "stream",
     "text": [
      "0\n",
      "   DYRK1A_N   ITSN1_N    BDNF_N     NR1_N    NR2A_N    pAKT_N   pBRAF_N  \\\n",
      "0  0.649781  0.828696  0.405862  2.921435  5.167979  0.207174  0.176640   \n",
      "1  0.616481  0.841974  0.388584  2.862575  5.194163  0.223433  0.167725   \n",
      "2  0.637424  0.852882  0.400561  2.968155  5.350820  0.208790  0.173261   \n",
      "3  0.576815  0.755390  0.348346  2.624901  4.727509  0.205892  0.161192   \n",
      "4  0.542545  0.757917  0.350051  2.634509  4.735602  0.210526  0.165671   \n",
      "\n",
      "   pCAMKII_N   pCREB_N    pELK_N  ...     BAD_N    BCL2_N     pS6_N   pCFOS_N  \\\n",
      "0   3.728084  0.239283  1.666579  ...  0.139052  0.112926  0.132001  0.129363   \n",
      "1   3.648240  0.221030  1.565150  ...  0.133787  0.121607  0.139008  0.143084   \n",
      "2   3.814545  0.222300  1.741732  ...  0.142324  0.130261  0.134804  0.147673   \n",
      "3   3.778530  0.194153  1.505475  ...  0.133637  0.107321  0.118982  0.121290   \n",
      "4   3.871971  0.194297  1.531613  ...  0.133358  0.112851  0.128635  0.142617   \n",
      "\n",
      "      SYP_N  H3AcK18_N    EGR1_N  H3MeK4_N    CaNA_N  Genotype  \n",
      "0  0.486912   0.125152  0.146865  0.143517  1.627181       NaN  \n",
      "1  0.467833   0.112857  0.161132  0.145719  1.562096       NaN  \n",
      "2  0.462501   0.116433  0.160594  0.142879  1.571868       NaN  \n",
      "3  0.479110   0.102831  0.144238  0.141681  1.646608       NaN  \n",
      "4  0.438354   0.110614  0.155667  0.146408  1.607631       NaN  \n",
      "\n",
      "[5 rows x 78 columns]\n"
     ]
    }
   ],
   "source": [
    "from sklearn.impute import KNNImputer\n",
    "\n",
    "# define the input features (X) and target variables (y)\n",
    "X = data.drop(['Genotype', 'Treatment_Behavior'], axis=1)\n",
    "y_binary = data['Genotype']\n",
    "y_multi = data['Treatment_Behavior']\n",
    "\n",
    "# Apply KNN imputer to fill missing values\n",
    "imputer = KNNImputer(n_neighbors=5)\n",
    "X_imputed = imputer.fit_transform(X)\n",
    "\n",
    "# Convert the numpy array back to a pandas dataframe with original column names\n",
    "X_imputed = pd.DataFrame(X_imputed, columns=X.columns)\n",
    "\n",
    "# Check if there are still any missing values\n",
    "print(X_imputed.isnull().sum().sum()) # 0\n",
    "\n",
    "# Concatenate the imputed features and target variable\n",
    "df_imputed = pd.concat([X_imputed, y_binary], axis=1)\n",
    "\n",
    "# Check the first few rows of the new dataframe\n",
    "print(df_imputed.head())\n"
   ]
  },
  {
   "cell_type": "markdown",
   "metadata": {
    "id": "bK9GLDe5YdPA"
   },
   "source": [
    "##4) and 5)"
   ]
  },
  {
   "cell_type": "code",
   "execution_count": 17,
   "metadata": {
    "colab": {
     "base_uri": "https://localhost:8080/"
    },
    "id": "Baf4ZD8vPIkI",
    "outputId": "4d504879-200c-45b0-f211-5b74f4dd1963"
   },
   "outputs": [
    {
     "name": "stdout",
     "output_type": "stream",
     "text": [
      "{'C': 10}\n",
      "0.9851851851851852\n"
     ]
    }
   ],
   "source": [
    "# 4)\n",
    "# For the binary classification task, we can use metrics such as accuracy, \n",
    "# F1 score, precision, recall, and AUC-ROC (area under the receiver operating \n",
    "# characteristic curve). For the multi-class classification task, we can use \n",
    "# metrics such as accuracy, F1 score, and balanced accuracy.\n",
    "\n",
    "# 5)\n",
    "# a.\n",
    "\n",
    "# split the data into training and testing sets\n",
    "X_train, X_test, y_train_binary, y_test_binary, y_train_multi, y_test_multi = train_test_split(X, y_binary, y_multi, test_size=0.3, random_state=42)\n",
    "\n",
    "# define the model\n",
    "linear_svc = LinearSVC(max_iter=100000)\n",
    "\n",
    "# set the hyperparameter search space\n",
    "param_grid = {'C': [0.01, 0.1, 1, 10]}\n",
    "\n",
    "# perform grid search to find the best hyperparameters\n",
    "grid_search = GridSearchCV(linear_svc, param_grid, cv=5, scoring='accuracy')\n",
    "grid_search.fit(X_train, y_train_binary)\n",
    "\n",
    "# get the best hyperparameters and the corresponding score\n",
    "svm_params = grid_search.best_params_\n",
    "svm_score = grid_search.best_score_\n",
    "print(svm_params)\n",
    "print(svm_score)"
   ]
  },
  {
   "cell_type": "code",
   "execution_count": 18,
   "metadata": {
    "colab": {
     "base_uri": "https://localhost:8080/"
    },
    "id": "qIyKsW8ycdA_",
    "outputId": "dc1728ad-4faa-4e72-f166-3a29205c02a5"
   },
   "outputs": [
    {
     "name": "stdout",
     "output_type": "stream",
     "text": [
      "{'C': 100, 'gamma': 0.1}\n",
      "1.0\n"
     ]
    }
   ],
   "source": [
    "# 5b.\n",
    "\n",
    "# create an RBF kernel SVM object\n",
    "rbf_svc = SVC(kernel='rbf')\n",
    "\n",
    "# define the hyperparameter grid\n",
    "param_grid = {'C': [0.001, 0.01, 0.1, 1, 10, 100], 'gamma': [0.001, 0.01, 0.1, 1, 10, 100]}\n",
    "\n",
    "# perform grid search with 5-fold cross-validation\n",
    "grid_search = GridSearchCV(rbf_svc, param_grid, cv=5, scoring='accuracy')\n",
    "grid_search.fit(X_train, y_train_multi)\n",
    "\n",
    "# print the best hyperparameters and the corresponding score\n",
    "RBF_svm_params = grid_search.best_params_\n",
    "RBF_svm_score = grid_search.best_score_\n",
    "print(RBF_svm_params)\n",
    "print(RBF_svm_score)"
   ]
  },
  {
   "cell_type": "code",
   "execution_count": 19,
   "metadata": {
    "colab": {
     "base_uri": "https://localhost:8080/"
    },
    "id": "817EeRnlbPIO",
    "outputId": "0b5f3d9a-757c-48b9-9a87-38eb8f9fb647"
   },
   "outputs": [
    {
     "name": "stdout",
     "output_type": "stream",
     "text": [
      "{'alpha': 0.0001, 'hidden_layer_sizes': (150,)}\n",
      "0.6555555555555556\n"
     ]
    }
   ],
   "source": [
    "# create a neural network object\n",
    "mlp = MLPClassifier(activation='relu', solver='adam', early_stopping=True, random_state=42)\n",
    "\n",
    "# define the hyperparameter grid\n",
    "param_grid = {'hidden_layer_sizes': [(50,), (100,), (150,)], 'alpha': [0.0001, 0.001, 0.01]}\n",
    "\n",
    "# perform grid search with 5-fold cross-validation\n",
    "grid_search = GridSearchCV(mlp, param_grid, cv=5, scoring='accuracy')\n",
    "grid_search.fit(X_train, y_train_multi)\n",
    "\n",
    "# print the best hyperparameters and the corresponding score\n",
    "print(grid_search.best_params_)\n",
    "print(grid_search.best_score_)\n"
   ]
  },
  {
   "cell_type": "code",
   "execution_count": 20,
   "metadata": {
    "colab": {
     "base_uri": "https://localhost:8080/"
    },
    "id": "8hFuHsBPckaW",
    "outputId": "a8534029-60bb-4b1c-86df-c84ef8d37a28"
   },
   "outputs": [
    {
     "name": "stdout",
     "output_type": "stream",
     "text": [
      "{'max_depth': 10, 'max_features': 'log2'}\n",
      "0.9962962962962962\n",
      "Accuracy: 0.9401709401709402\n",
      "F1 score: 0.9391304347826086\n",
      "Balanced accuracy: 0.9444444444444444\n",
      "AUC: 0.9444444444444444\n"
     ]
    }
   ],
   "source": [
    "# 5d.\n",
    "from sklearn.preprocessing import LabelEncoder\n",
    "\n",
    "\n",
    "# create a random forest object\n",
    "rf = RandomForestClassifier(random_state=42)\n",
    "\n",
    "# define the hyperparameter grid\n",
    "param_grid = {'max_depth': [5, 10, 15, 20], 'max_features': ['sqrt', 'log2']}\n",
    "\n",
    "# perform grid search with 5-fold cross-validation\n",
    "grid_search = GridSearchCV(rf, param_grid, cv=5, scoring='accuracy')\n",
    "grid_search.fit(X_train, y_train_multi)\n",
    "\n",
    "# print the best hyperparameters and the corresponding score\n",
    "rf_params = grid_search.best_params_\n",
    "rf_score = grid_search.best_score_\n",
    "print(rf_params)\n",
    "print(rf_score)\n",
    "      \n",
    "# fit random forest with best hyperparameters\n",
    "rf = RandomForestClassifier(max_depth=rf_params['max_depth'], max_features=rf_params['max_features'])\n",
    "rf.fit(X_train, y_train_binary)\n",
    "\n",
    "# make predictions on test data\n",
    "y_pred = rf.predict(X_test)\n",
    "\n",
    "# evaluate performance using metrics\n",
    "accuracy = accuracy_score(y_test_binary, y_pred)\n",
    "f1 = f1_score(y_test_binary, y_pred, pos_label='Ts65Dn')\n",
    "balanced_accuracy = balanced_accuracy_score(y_test_binary, y_pred)\n",
    "\n",
    "# encode the string labels as numerical labels\n",
    "le = LabelEncoder()\n",
    "y_train_binary_encoded = le.fit_transform(y_train_binary)\n",
    "y_test_binary_encoded = le.fit_transform(y_test_binary)\n",
    "y_pred_encoded = le.fit_transform(y_pred)\n",
    "\n",
    "# calculate the AUC score using the encoded labels\n",
    "auc = roc_auc_score(y_test_binary_encoded, y_pred_encoded)\n",
    "\n",
    "print(\"Accuracy:\", accuracy)\n",
    "print(\"F1 score:\", f1)\n",
    "print(\"Balanced accuracy:\", balanced_accuracy)\n",
    "print(\"AUC:\", auc)\n"
   ]
  },
  {
   "cell_type": "markdown",
   "metadata": {
    "id": "tYb_AJspiRWE"
   },
   "source": [
    "## 6)"
   ]
  },
  {
   "cell_type": "code",
   "execution_count": 21,
   "metadata": {
    "colab": {
     "base_uri": "https://localhost:8080/",
     "height": 376
    },
    "id": "IdNCfXdOh-pb",
    "outputId": "878ccc18-6779-453e-acae-dd395d563ebc"
   },
   "outputs": [
    {
     "data": {
      "image/png": "[encoded data removed]",
      "text/plain": [
       "<Figure size 432x288 with 1 Axes>"
      ]
     },
     "metadata": {
      "needs_background": "light"
     },
     "output_type": "display_data"
    }
   ],
   "source": [
    "#Linear SVM\n",
    "\n",
    "# Train linear SVM model\n",
    "linear_svc = LinearSVC(C=0.1)\n",
    "linear_svc.fit(X_train, y_train_binary_encoded)\n",
    "\n",
    "# Get feature importances\n",
    "coefs = linear_svc.coef_\n",
    "feature_importances = abs(coefs)\n",
    "\n",
    "# Plot feature importances\n",
    "plt.bar(range(X_train.shape[1]), feature_importances[0])\n",
    "plt.xticks(range(X_train.shape[1]), X.columns, rotation=90)\n",
    "plt.xlabel('Proteins')\n",
    "plt.ylabel('Feature Importance')\n",
    "plt.title('Linear SVM Feature Importance')\n",
    "plt.show()"
   ]
  },
  {
   "cell_type": "code",
   "execution_count": 22,
   "metadata": {
    "colab": {
     "base_uri": "https://localhost:8080/",
     "height": 376
    },
    "id": "uPF4zJoBorcn",
    "outputId": "f9731f45-cd3d-4707-98e5-7d56a7cb0f5b"
   },
   "outputs": [
    {
     "data": {
      "image/png": "[encoded data removed]",
      "text/plain": [
       "<Figure size 432x288 with 1 Axes>"
      ]
     },
     "metadata": {
      "needs_background": "light"
     },
     "output_type": "display_data"
    }
   ],
   "source": [
    "# RBF Kernel SVM\n",
    "\n",
    "# Train RBF kernel SVM model\n",
    "rbf_svc = SVC(kernel='rbf', gamma=0.01, C=10)\n",
    "rbf_svc.fit(X_train, y_train_binary_encoded)\n",
    "\n",
    "# Get feature importances\n",
    "importances = rbf_svc.support_vectors_\n",
    "\n",
    "# Plot feature importances\n",
    "plt.bar(range(X_train.shape[1]), importances[0])\n",
    "plt.xticks(range(X_train.shape[1]), X.columns, rotation=90)\n",
    "plt.xlabel('Proteins')\n",
    "plt.ylabel('Feature Importance')\n",
    "plt.title('RBF Kernel SVM Feature Importance')\n",
    "plt.show()"
   ]
  },
  {
   "cell_type": "code",
   "execution_count": 23,
   "metadata": {
    "colab": {
     "base_uri": "https://localhost:8080/",
     "height": 431
    },
    "id": "9rEGpvZoo_Je",
    "outputId": "34d781f2-a35c-49b7-debd-0e16c7957c95"
   },
   "outputs": [
    {
     "name": "stderr",
     "output_type": "stream",
     "text": [
      "/usr/local/lib/python3.8/dist-packages/sklearn/neural_network/_multilayer_perceptron.py:684: ConvergenceWarning: Stochastic Optimizer: Maximum iterations (500) reached and the optimization hasn't converged yet.\n",
      "  warnings.warn(\n"
     ]
    },
    {
     "data": {
      "image/png": "[encoded data removed]",
      "text/plain": [
       "<Figure size 432x288 with 1 Axes>"
      ]
     },
     "metadata": {
      "needs_background": "light"
     },
     "output_type": "display_data"
    }
   ],
   "source": [
    "# Neural Network\n",
    "\n",
    "# Train neural network model\n",
    "nn = MLPClassifier(hidden_layer_sizes=(100,), alpha=0.01, max_iter=500)\n",
    "nn.fit(X_train, y_train_binary_encoded)\n",
    "\n",
    "# Get feature importances\n",
    "importances = nn.coefs_[0]\n",
    "\n",
    "# Plot feature importances\n",
    "plt.bar(range(X_train.shape[1]), importances.mean(axis=1))\n",
    "plt.xticks(range(X_train.shape[1]), X.columns, rotation=90)\n",
    "plt.xlabel('Proteins')\n",
    "plt.ylabel('Feature Importance')\n",
    "plt.title('Neural Network Feature Importance')\n",
    "plt.show()\n"
   ]
  },
  {
   "cell_type": "code",
   "execution_count": 24,
   "metadata": {
    "colab": {
     "base_uri": "https://localhost:8080/",
     "height": 376
    },
    "id": "zCSFjZh3pBkW",
    "outputId": "20474c14-ce13-4231-bc4e-5377c4d3ab17"
   },
   "outputs": [
    {
     "data": {
      "image/png": "[encoded data removed]",
      "text/plain": [
       "<Figure size 432x288 with 1 Axes>"
      ]
     },
     "metadata": {
      "needs_background": "light"
     },
     "output_type": "display_data"
    }
   ],
   "source": [
    "# Random Forest\n",
    "\n",
    "# Train random forest model\n",
    "rf = RandomForestClassifier(max_depth=10, n_estimators=100)\n",
    "rf.fit(X_train, y_train_binary_encoded)\n",
    "\n",
    "# Get feature importances\n",
    "importances = rf.feature_importances_\n",
    "\n",
    "# Plot feature importances\n",
    "plt.bar(range(X_train.shape[1]), importances)\n",
    "plt.xticks(range(X_train.shape[1]), X.columns, rotation=90)\n",
    "plt.xlabel('Proteins')\n",
    "plt.ylabel('Feature Importance')\n",
    "plt.title('Random Forest Feature Importance')\n",
    "plt.show()"
   ]
  },
  {
   "cell_type": "markdown",
   "metadata": {
    "id": "a8Bea1hGiTgD"
   },
   "source": [
    "## 7)"
   ]
  },
  {
   "cell_type": "code",
   "execution_count": 25,
   "metadata": {
    "colab": {
     "base_uri": "https://localhost:8080/"
    },
    "id": "YIGoxIr0iTJI",
    "outputId": "5c20b761-a952-43a6-aeed-5884270212c1"
   },
   "outputs": [
    {
     "name": "stdout",
     "output_type": "stream",
     "text": [
      "Selected Features:  Index(['DYRK1A_N', 'ITSN1_N', 'NR1_N', 'pCREB_N', 'pNR1_N', 'pNR2B_N',\n",
      "       'pPKCAB_N', 'pRSK_N', 'ELK_N', 'MEK_N', 'TRKA_N', 'APP_N', 'SOD1_N',\n",
      "       'MTOR_N', 'P38_N', 'pMTOR_N', 'DSCR1_N', 'AMPKA_N', 'NR2B_N', 'pNUMB_N',\n",
      "       'RAPTOR_N', 'TIAM1_N', 'pP70S6_N', 'P70S6_N', 'pPKCG_N', 'S6_N',\n",
      "       'AcetylH3K9_N', 'Tau_N', 'GluR3_N', 'GluR4_N', 'IL1B_N', 'pCASP9_N',\n",
      "       'PSD95_N', 'Ubiquitin_N', 'pCFOS_N', 'SYP_N', 'H3AcK18_N', 'EGR1_N'],\n",
      "      dtype='object')\n"
     ]
    }
   ],
   "source": [
    "## LINEAR SVC\n",
    "from sklearn.feature_selection import RFECV\n",
    "\n",
    "# Train linear SVM model\n",
    "linear_svc = LinearSVC(C=0.1)\n",
    "linear_svc.fit(X_train, y_train_binary_encoded)\n",
    "\n",
    "# Perform recursive feature elimination\n",
    "selector = RFECV(linear_svc, step=1, cv=5)\n",
    "selector = selector.fit(X_train, y_train_binary_encoded)\n",
    "\n",
    "# Print selected features\n",
    "print('Selected Features: ', X.columns[selector.support_])"
   ]
  },
  {
   "cell_type": "code",
   "execution_count": 26,
   "metadata": {
    "colab": {
     "base_uri": "https://localhost:8080/"
    },
    "id": "wRI1iAeXvDmc",
    "outputId": "2399adce-3a45-437f-9eeb-902db7470fcd"
   },
   "outputs": [
    {
     "name": "stdout",
     "output_type": "stream",
     "text": [
      "F1 score:  0.8214285714285715\n",
      "AUC score:  0.8306878306878307\n"
     ]
    }
   ],
   "source": [
    "# Transform the data with the selected features\n",
    "X_train_selected = selector.transform(X_train)\n",
    "X_test_selected = selector.transform(X_test)\n",
    "\n",
    "# Retrain the model on the selected features\n",
    "rf_selected = LinearSVC(C=0.1)\n",
    "rf_selected.fit(X_train_selected, y_train_binary_encoded)\n",
    "\n",
    "# Evaluate the model on the test data\n",
    "y_pred = rf_selected.predict(X_test_selected)\n",
    "f1 = f1_score(y_test_binary_encoded, y_pred, average='binary')\n",
    "auc = roc_auc_score(y_test_binary_encoded, y_pred)\n",
    "print('F1 score: ', f1)\n",
    "print('AUC score: ', auc)"
   ]
  },
  {
   "cell_type": "code",
   "execution_count": 28,
   "metadata": {
    "colab": {
     "base_uri": "https://localhost:8080/"
    },
    "id": "76l6sGKNt39U",
    "outputId": "140c7aa9-2211-45a9-9536-4617dd8b6318"
   },
   "outputs": [
    {
     "name": "stdout",
     "output_type": "stream",
     "text": [
      "Selected Features:  Index(['DYRK1A_N', 'ITSN1_N', 'NR1_N', 'pNR1_N', 'pPKCAB_N', 'BRAF_N', 'ELK_N',\n",
      "       'GSK3B_N', 'TRKA_N', 'APP_N', 'SOD1_N', 'MTOR_N', 'P38_N', 'DSCR1_N',\n",
      "       'AMPKA_N', 'pNUMB_N', 'pPKCG_N', 'S6_N', 'ADARB1_N', 'AcetylH3K9_N',\n",
      "       'RRP1_N', 'BAX_N', 'ARC_N', 'Tau_N', 'GluR3_N', 'PSD95_N',\n",
      "       'Ubiquitin_N', 'pGSK3B_Tyr216_N', 'pS6_N', 'pCFOS_N', 'H3AcK18_N',\n",
      "       'CaNA_N'],\n",
      "      dtype='object')\n"
     ]
    }
   ],
   "source": [
    "# RANDOM FOREST\n",
    "# Train Random Forest model\n",
    "rf = RandomForestClassifier(max_depth=10, max_features=10)\n",
    "rf.fit(X_train, y_train_binary_encoded)\n",
    "\n",
    "# Perform recursive feature elimination\n",
    "selector = RFECV(rf, step=1, cv=5)\n",
    "selector = selector.fit(X_train, y_train_binary_encoded)\n",
    "\n",
    "# Print selected features\n",
    "print('Selected Features: ', X.columns[selector.support_])"
   ]
  },
  {
   "cell_type": "code",
   "execution_count": 29,
   "metadata": {
    "colab": {
     "base_uri": "https://localhost:8080/"
    },
    "id": "NESCqYq7utCn",
    "outputId": "12fd2aac-b73a-453f-978b-4a9f1d46e9f5"
   },
   "outputs": [
    {
     "name": "stdout",
     "output_type": "stream",
     "text": [
      "F1 score:  0.896551724137931\n",
      "AUC score:  0.9021164021164021\n"
     ]
    }
   ],
   "source": [
    "# Transform the data with the selected features\n",
    "X_train_selected = selector.transform(X_train)\n",
    "X_test_selected = selector.transform(X_test)\n",
    "\n",
    "# Retrain the model on the selected features\n",
    "rf_selected = RandomForestClassifier(max_depth=10, max_features=10)\n",
    "rf_selected.fit(X_train_selected, y_train_binary_encoded)\n",
    "\n",
    "# Evaluate the model on the test data\n",
    "y_pred = rf_selected.predict(X_test_selected)\n",
    "f1 = f1_score(y_test_binary_encoded, y_pred, average='binary')\n",
    "auc = roc_auc_score(y_test_binary_encoded, y_pred)\n",
    "print('F1 score: ', f1)\n",
    "print('AUC score: ', auc)"
   ]
  },
  {
   "cell_type": "markdown",
   "metadata": {
    "id": "83qIxpp-iW-d"
   },
   "source": [
    "## 8)"
   ]
  },
  {
   "cell_type": "code",
   "execution_count": 42,
   "metadata": {
    "colab": {
     "base_uri": "https://localhost:8080/"
    },
    "id": "YKM1dr1FiWwa",
    "outputId": "be43eefa-5c7e-4580-cb17-ca2d958449cf"
   },
   "outputs": [
    {
     "name": "stdout",
     "output_type": "stream",
     "text": [
      "Linear SVM:\n",
      "Accuracy: 0.6444444444444445\n",
      "Classification report:\n",
      "              precision    recall  f1-score   support\n",
      "\n",
      "           0       0.57      0.83      0.68        60\n",
      "           1       0.79      0.49      0.61        75\n",
      "\n",
      "    accuracy                           0.64       135\n",
      "   macro avg       0.68      0.66      0.64       135\n",
      "weighted avg       0.69      0.64      0.64       135\n",
      "\n",
      "RBF SVM:\n",
      "Accuracy: 0.762962962962963\n",
      "Classification report:\n",
      "              precision    recall  f1-score   support\n",
      "\n",
      "           0       0.65      1.00      0.79        60\n",
      "           1       1.00      0.57      0.73        75\n",
      "\n",
      "    accuracy                           0.76       135\n",
      "   macro avg       0.83      0.79      0.76       135\n",
      "weighted avg       0.85      0.76      0.76       135\n",
      "\n",
      "Random Forest:\n",
      "Accuracy: 0.8296296296296296\n",
      "Classification report:\n",
      "              precision    recall  f1-score   support\n",
      "\n",
      "           0       0.72      1.00      0.84        60\n",
      "           1       1.00      0.69      0.82        75\n",
      "\n",
      "    accuracy                           0.83       135\n",
      "   macro avg       0.86      0.85      0.83       135\n",
      "weighted avg       0.88      0.83      0.83       135\n",
      "\n",
      "Neural Network:\n",
      "Accuracy: 0.8444444444444444\n",
      "Classification report:\n",
      "              precision    recall  f1-score   support\n",
      "\n",
      "           0       0.74      1.00      0.85        60\n",
      "           1       1.00      0.72      0.84        75\n",
      "\n",
      "    accuracy                           0.84       135\n",
      "   macro avg       0.87      0.86      0.84       135\n",
      "weighted avg       0.88      0.84      0.84       135\n",
      "\n"
     ]
    }
   ],
   "source": [
    "from sklearn.preprocessing import StandardScaler\n",
    "\n",
    "scaler = StandardScaler()\n",
    "\n",
    "# Scale the training data\n",
    "X_train_scaled = scaler.fit_transform(X_train)\n",
    "\n",
    "# Scale the test data using the same scaler object\n",
    "X_test_scaled = scaler.transform(X_test)\n",
    "\n",
    "# Load the test data\n",
    "test_data = pd.read_csv(\"https://www.ee.iitb.ac.in/~asethi/Dump/MouseTest.csv\")\n",
    "\n",
    "# Preprocess the test data using the same steps as the training data\n",
    "test_data.dropna(inplace=True)\n",
    "test_data = test_data.reset_index(drop=True)\n",
    "X_test = test_data.drop(['Genotype', 'Treatment_Behavior'], axis=1)\n",
    "y_test_binary = test_data['Genotype']\n",
    "y_test_multi = test_data['Treatment_Behavior']\n",
    "\n",
    "# Convert string labels to integer labels\n",
    "le = LabelEncoder()\n",
    "y_true_encoded = le.fit_transform(y_test_binary)\n",
    "\n",
    "# Standardize the test data using the same scaler used for the training data\n",
    "X_test_scaled = scaler.transform(X_test)\n",
    "\n",
    "# Evaluate the performance of a few promising models on the test data\n",
    "models = {\n",
    "    \"Linear SVM\": LinearSVC(C=1),\n",
    "    \"RBF SVM\": SVC(kernel='rbf', gamma=0.01, C=10),\n",
    "    \"Random Forest\": RandomForestClassifier(max_depth=5, max_features=5),\n",
    "    \"Neural Network\": MLPClassifier(hidden_layer_sizes=(100,), alpha=0.01, max_iter=500)\n",
    "}\n",
    "\n",
    "for name, model in models.items():\n",
    "    model.fit(X_train_scaled, y_train_binary_encoded)\n",
    "    y_pred = model.predict(X_test_scaled)\n",
    "    acc = accuracy_score(y_true_encoded, y_pred)\n",
    "    report = classification_report(y_true_encoded, y_pred)\n",
    "    print(f\"{name}:\")\n",
    "    print(f\"Accuracy: {acc}\")\n",
    "    print(f\"Classification report:\\n{report}\")\n"
   ]
  },
  {
   "cell_type": "markdown",
   "metadata": {
    "id": "vhZOSTfU3BwF"
   },
   "source": [
    "## 10)"
   ]
  },
  {
   "cell_type": "code",
   "execution_count": 43,
   "metadata": {
    "id": "G7npNwC42Qrm"
   },
   "outputs": [],
   "source": [
    "import torch\n",
    "import torchvision.models as models\n",
    "import torchvision.transforms as transforms\n",
    "from PIL import Image\n",
    "\n",
    "def get_resnet18_features(image_path):\n",
    "    resnet18 = models.resnet18(pretrained=True)\n",
    "    resnet18.fc = torch.nn.Sequential(torch.nn.Linear(512, 1))\n",
    "    resnet18.load_state_dict(torch.load('resnet18_weights.pth'))\n",
    "\n",
    "    transform = transforms.Compose([\n",
    "        transforms.Resize(256),\n",
    "        transforms.CenterCrop(224),\n",
    "        transforms.ToTensor(),\n",
    "        transforms.Normalize(mean=[0.485, 0.456, 0.406], std=[0.229, 0.224, 0.225])\n",
    "    ])\n",
    "\n",
    "    img = Image.open(image_path)\n",
    "    img_tensor = transform(img).unsqueeze(0)\n",
    "    features = resnet18.features(img_tensor).detach().numpy()\n",
    "    return "
   ]
  },
  {
   "cell_type": "markdown",
   "metadata": {
    "id": "IYcVNzB73D0i"
   },
   "source": [
    "## 11)"
   ]
  },
  {
   "cell_type": "code",
   "execution_count": 46,
   "metadata": {
    "colab": {
     "base_uri": "https://localhost:8080/",
     "height": 103
    },
    "id": "CgER0won2SF9",
    "outputId": "3fc4e318-8e81-447a-b0ea-0771c64e88b5"
   },
   "outputs": [
    {
     "name": "stdout",
     "output_type": "stream",
     "text": [
      "Logistic Regression - Best Hyperparameters:  {'C': 100}\n",
      "SVM - Best Hyperparameters:  {'C': 10, 'gamma': 0.01}\n",
      "Random Forest - Best Hyperparameters:  {'max_depth': 8, 'n_estimators': 50}\n"
     ]
    },
    {
     "data": {
      "text/html": [
       "<style>#sk-container-id-1 {color: black;background-color: white;}#sk-container-id-1 pre{padding: 0;}#sk-container-id-1 div.sk-toggleable {background-color: white;}#sk-container-id-1 label.sk-toggleable__label {cursor: pointer;display: block;width: 100%;margin-bottom: 0;padding: 0.3em;box-sizing: border-box;text-align: center;}#sk-container-id-1 label.sk-toggleable__label-arrow:before {content: \"▸\";float: left;margin-right: 0.25em;color: #696969;}#sk-container-id-1 label.sk-toggleable__label-arrow:hover:before {color: black;}#sk-container-id-1 div.sk-estimator:hover label.sk-toggleable__label-arrow:before {color: black;}#sk-container-id-1 div.sk-toggleable__content {max-height: 0;max-width: 0;overflow: hidden;text-align: left;background-color: #f0f8ff;}#sk-container-id-1 div.sk-toggleable__content pre {margin: 0.2em;color: black;border-radius: 0.25em;background-color: #f0f8ff;}#sk-container-id-1 input.sk-toggleable__control:checked~div.sk-toggleable__content {max-height: 200px;max-width: 100%;overflow: auto;}#sk-container-id-1 input.sk-toggleable__control:checked~label.sk-toggleable__label-arrow:before {content: \"▾\";}#sk-container-id-1 div.sk-estimator input.sk-toggleable__control:checked~label.sk-toggleable__label {background-color: #d4ebff;}#sk-container-id-1 div.sk-label input.sk-toggleable__control:checked~label.sk-toggleable__label {background-color: #d4ebff;}#sk-container-id-1 input.sk-hidden--visually {border: 0;clip: rect(1px 1px 1px 1px);clip: rect(1px, 1px, 1px, 1px);height: 1px;margin: -1px;overflow: hidden;padding: 0;position: absolute;width: 1px;}#sk-container-id-1 div.sk-estimator {font-family: monospace;background-color: #f0f8ff;border: 1px dotted black;border-radius: 0.25em;box-sizing: border-box;margin-bottom: 0.5em;}#sk-container-id-1 div.sk-estimator:hover {background-color: #d4ebff;}#sk-container-id-1 div.sk-parallel-item::after {content: \"\";width: 100%;border-bottom: 1px solid gray;flex-grow: 1;}#sk-container-id-1 div.sk-label:hover label.sk-toggleable__label {background-color: #d4ebff;}#sk-container-id-1 div.sk-serial::before {content: \"\";position: absolute;border-left: 1px solid gray;box-sizing: border-box;top: 0;bottom: 0;left: 50%;z-index: 0;}#sk-container-id-1 div.sk-serial {display: flex;flex-direction: column;align-items: center;background-color: white;padding-right: 0.2em;padding-left: 0.2em;position: relative;}#sk-container-id-1 div.sk-item {position: relative;z-index: 1;}#sk-container-id-1 div.sk-parallel {display: flex;align-items: stretch;justify-content: center;background-color: white;position: relative;}#sk-container-id-1 div.sk-item::before, #sk-container-id-1 div.sk-parallel-item::before {content: \"\";position: absolute;border-left: 1px solid gray;box-sizing: border-box;top: 0;bottom: 0;left: 50%;z-index: -1;}#sk-container-id-1 div.sk-parallel-item {display: flex;flex-direction: column;z-index: 1;position: relative;background-color: white;}#sk-container-id-1 div.sk-parallel-item:first-child::after {align-self: flex-end;width: 50%;}#sk-container-id-1 div.sk-parallel-item:last-child::after {align-self: flex-start;width: 50%;}#sk-container-id-1 div.sk-parallel-item:only-child::after {width: 0;}#sk-container-id-1 div.sk-dashed-wrapped {border: 1px dashed gray;margin: 0 0.4em 0.5em 0.4em;box-sizing: border-box;padding-bottom: 0.4em;background-color: white;}#sk-container-id-1 div.sk-label label {font-family: monospace;font-weight: bold;display: inline-block;line-height: 1.2em;}#sk-container-id-1 div.sk-label-container {text-align: center;}#sk-container-id-1 div.sk-container {/* jupyter's `normalize.less` sets `[hidden] { display: none; }` but bootstrap.min.css set `[hidden] { display: none !important; }` so we also need the `!important` here to be able to override the default hidden behavior on the sphinx rendered scikit-learn.org. See: https://github.com/scikit-learn/scikit-learn/issues/21755 */display: inline-block !important;position: relative;}#sk-container-id-1 div.sk-text-repr-fallback {display: none;}</style><div id=\"sk-container-id-1\" class=\"sk-top-container\"><div class=\"sk-text-repr-fallback\"><pre>RandomForestClassifier(max_depth=8, n_estimators=50)</pre><b>In a Jupyter environment, please rerun this cell to show the HTML representation or trust the notebook. <br />On GitHub, the HTML representation is unable to render, please try loading this page with nbviewer.org.</b></div><div class=\"sk-container\" hidden><div class=\"sk-item\"><div class=\"sk-estimator sk-toggleable\"><input class=\"sk-toggleable__control sk-hidden--visually\" id=\"sk-estimator-id-1\" type=\"checkbox\" checked><label for=\"sk-estimator-id-1\" class=\"sk-toggleable__label sk-toggleable__label-arrow\">RandomForestClassifier</label><div class=\"sk-toggleable__content\"><pre>RandomForestClassifier(max_depth=8, n_estimators=50)</pre></div></div></div></div></div>"
      ],
      "text/plain": [
       "RandomForestClassifier(max_depth=8, n_estimators=50)"
      ]
     },
     "execution_count": 46,
     "metadata": {},
     "output_type": "execute_result"
    }
   ],
   "source": [
    "from sklearn.linear_model import LogisticRegression\n",
    "\n",
    "# Define the models\n",
    "lr_model = LogisticRegression(penalty='l2')\n",
    "svm_model = SVC(kernel='rbf')\n",
    "rf_model = RandomForestClassifier()\n",
    "\n",
    "# Define the parameter grids for each model\n",
    "lr_param_grid = {'C': [0.001, 0.01, 0.1, 1, 10, 100]}\n",
    "svm_param_grid = {'C': [0.001, 0.01, 0.1, 1, 10, 100], 'gamma': [0.001, 0.01, 0.1, 1, 10, 100]}\n",
    "rf_param_grid = {'max_depth': [2, 4, 6, 8, 10], 'n_estimators': [50, 100, 200, 400, 600]}\n",
    "\n",
    "# Perform grid search on each model to find the best hyperparameters\n",
    "lr_grid = GridSearchCV(lr_model, lr_param_grid, cv=5, scoring='accuracy')\n",
    "lr_grid.fit(X_train_scaled, y_train_binary)\n",
    "\n",
    "svm_grid = GridSearchCV(svm_model, svm_param_grid, cv=5, scoring='accuracy')\n",
    "svm_grid.fit(X_train_scaled, y_train_binary)\n",
    "\n",
    "rf_grid = GridSearchCV(rf_model, rf_param_grid, cv=5, scoring='accuracy')\n",
    "rf_grid.fit(X_train_scaled, y_train_binary)\n",
    "\n",
    "# Print the best hyperparameters for each model\n",
    "print(\"Logistic Regression - Best Hyperparameters: \", lr_grid.best_params_)\n",
    "print(\"SVM - Best Hyperparameters: \", svm_grid.best_params_)\n",
    "print(\"Random Forest - Best Hyperparameters: \", rf_grid.best_params_)\n",
    "\n",
    "# Fit the final models using the best hyperparameters\n",
    "lr_model = LogisticRegression(penalty='l2', C=lr_grid.best_params_['C'])\n",
    "svm_model = SVC(kernel='rbf', C=svm_grid.best_params_['C'], gamma=svm_grid.best_params_['gamma'])\n",
    "rf_model = RandomForestClassifier(max_depth=rf_grid.best_params_['max_depth'], n_estimators=rf_grid.best_params_['n_estimators'])\n",
    "\n",
    "lr_model.fit(X_train_scaled, y_train_binary)\n",
    "svm_model.fit(X_train_scaled, y_train_binary)\n",
    "rf_model.fit(X_train_scaled, y_train_binary)"
   ]
  },
  {
   "cell_type": "code",
   "execution_count": 50,
   "metadata": {
    "colab": {
     "base_uri": "https://localhost:8080/"
    },
    "id": "yixq52JiXH2V",
    "outputId": "2590eba7-c8ae-4a05-8ea5-d9f899c41793"
   },
   "outputs": [
    {
     "name": "stdout",
     "output_type": "stream",
     "text": [
      "Logistic Regression - Accuracy:  0.6666666666666666  F1 Score:  0.64\n",
      "SVM - Accuracy:  0.762962962962963  F1 Score:  0.728813559322034\n",
      "Random Forest - Accuracy:  0.837037037037037  F1 Score:  0.828125\n"
     ]
    }
   ],
   "source": [
    "# Test the final models on the test data and calculate accuracy and F1 score\n",
    "lr_pred = lr_model.predict(X_test_scaled)\n",
    "svm_pred = svm_model.predict(X_test_scaled)\n",
    "rf_pred = rf_model.predict(X_test_scaled)\n",
    "\n",
    "lr_acc = accuracy_score(y_test_binary, lr_pred)\n",
    "svm_acc = accuracy_score(y_test_binary, svm_pred)\n",
    "rf_acc = accuracy_score(y_test_binary, rf_pred)\n",
    "\n",
    "lr_f1 = f1_score(y_test_binary, lr_pred, pos_label='Ts65Dn')\n",
    "svm_f1 = f1_score(y_test_binary, svm_pred, pos_label='Ts65Dn')\n",
    "rf_f1 = f1_score(y_test_binary, rf_pred, pos_label='Ts65Dn')\n",
    "\n",
    "print(\"Logistic Regression - Accuracy: \", lr_acc, \" F1 Score: \", lr_f1)\n",
    "print(\"SVM - Accuracy: \", svm_acc, \" F1 Score: \", svm_f1)\n",
    "print(\"Random Forest - Accuracy: \", rf_acc, \" F1 Score: \", rf_f1)"
   ]
  },
  {
   "cell_type": "markdown",
   "metadata": {
    "id": "V3jrQEea3F8v"
   },
   "source": [
    "## 12)"
   ]
  },
  {
   "cell_type": "code",
   "execution_count": 51,
   "metadata": {
    "id": "qk3_RHCO3IYO"
   },
   "outputs": [],
   "source": [
    "## Summary\n",
    "# In this project, we performed a classification analysis on the Mouse Proteomics \n",
    "# dataset. We explored the data, checked for missing values, and applied KNN imputation \n",
    "# to fill in the missing values. We also visualized the correlations between the \n",
    "# different features in the dataset.\n",
    "\n",
    "# We then trained and evaluated three different classification models: L2 regularized\n",
    "# logistic regression, RBF kernel SVM, and Random Forest. For each model, we performed \n",
    "# grid search to find the optimal hyperparameters and evaluated the model performance using cross-validation.\n",
    "\n",
    "# In conclusion, our analysis shows that the Mouse Proteomics dataset can be used\n",
    "# to predict the genotype and treatment of mice with reasonable accuracy using \n",
    "# machine learning models. However, further exploration and feature engineering \n",
    "# may be needed to improve the model performance. The accuracy \n",
    "# of the pre-trained models for models above were 0.62, 0.76, 0.82, 0.84. The best performing model was random forest."
   ]
  },
  {
   "cell_type": "code",
   "execution_count": 52,
   "metadata": {
    "id": "biMRc7VX2SbU"
   },
   "outputs": [],
   "source": [
    "# References:\n",
    "\n",
    "# https://pytorch.org/tutorials/beginner/transfer_learning_tutorial.html\n",
    "# https://archive.ics.uci.edu/ml/datasets/Mice+Protein+Expression\n",
    "# https://scikit-learn.org"
   ]
  }
 ],
 "metadata": {
  "accelerator": "GPU",
  "colab": {
   "provenance": []
  },
  "gpuClass": "standard",
  "kernelspec": {
   "display_name": "Python 3 (ipykernel)",
   "language": "python",
   "name": "python3"
  },
  "language_info": {
   "codemirror_mode": {
    "name": "ipython",
    "version": 3
   },
   "file_extension": ".py",
   "mimetype": "text/x-python",
   "name": "python",
   "nbconvert_exporter": "python",
   "pygments_lexer": "ipython3",
   "version": "3.9.12"
  }
 },
 "nbformat": 4,
 "nbformat_minor": 1
}
