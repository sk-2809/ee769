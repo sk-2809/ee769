{
 "cells": [
  {
   "cell_type": "code",
   "execution_count": 1,
   "id": "c61d3a53",
   "metadata": {},
   "outputs": [],
   "source": [
    "import numpy as np\n",
    "import pandas as pd\n",
    "import matplotlib.pyplot as plt\n"
   ]
  },
  {
   "cell_type": "code",
   "execution_count": 2,
   "id": "b7367b98",
   "metadata": {},
   "outputs": [],
   "source": [
    "def dataMatrix(n, f):\n",
    "    return np.random.rand(n,f)"
   ]
  },
  {
   "cell_type": "code",
   "execution_count": 3,
   "id": "278adeaa",
   "metadata": {},
   "outputs": [],
   "source": [
    "X = dataMatrix(10, 10)"
   ]
  },
  {
   "cell_type": "code",
   "execution_count": 4,
   "id": "5a3662ab",
   "metadata": {},
   "outputs": [],
   "source": [
    "def output(X, W, W0, var):\n",
    "    a = np.dot(X, W)\n",
    "    a = a.sum(axis = 1)\n",
    "    #print(a)\n",
    "    #print(a + W0)\n",
    "    return a + W0 + var\n",
    "    "
   ]
  },
  {
   "cell_type": "code",
   "execution_count": 5,
   "id": "1a63f938",
   "metadata": {},
   "outputs": [],
   "source": [
    "W = np.random.rand(10, 1)\n",
    "W0 = np.random.rand(1,1)\n",
    "var = np.random.rand(1, 10)"
   ]
  },
  {
   "cell_type": "code",
   "execution_count": 6,
   "id": "a4613f6b",
   "metadata": {},
   "outputs": [],
   "source": [
    "Y = output(X, W , W0, var)"
   ]
  },
  {
   "cell_type": "code",
   "execution_count": 7,
   "id": "48bbb70f",
   "metadata": {},
   "outputs": [
    {
     "data": {
      "text/plain": [
       "array([[3.65611957, 2.79855345, 4.36428071, 3.51888412, 3.89482703,\n",
       "        4.53413981, 4.87656222, 3.62448659, 2.037343  , 2.54198625]])"
      ]
     },
     "execution_count": 7,
     "metadata": {},
     "output_type": "execute_result"
    }
   ],
   "source": [
    "Y"
   ]
  },
  {
   "cell_type": "code",
   "execution_count": 8,
   "id": "f8b8c1c6",
   "metadata": {},
   "outputs": [],
   "source": [
    "def linearRegressionEstimate(X, w):\n",
    "    y = np.dot(X, w)\n",
    "    return y"
   ]
  },
  {
   "cell_type": "code",
   "execution_count": 9,
   "id": "a469696e",
   "metadata": {},
   "outputs": [
    {
     "data": {
      "text/plain": [
       "array([[2.55522314],\n",
       "       [1.69824698],\n",
       "       [3.0841338 ],\n",
       "       [2.87389062],\n",
       "       [3.37889178],\n",
       "       [3.81033085],\n",
       "       [3.78946472],\n",
       "       [2.82583009],\n",
       "       [1.5206251 ],\n",
       "       [1.84334508]])"
      ]
     },
     "execution_count": 9,
     "metadata": {},
     "output_type": "execute_result"
    }
   ],
   "source": [
    "linearRegressionEstimate(X, W)"
   ]
  },
  {
   "cell_type": "code",
   "execution_count": 10,
   "id": "6d1722bc",
   "metadata": {},
   "outputs": [],
   "source": [
    "def meanSquareError(y, t):\n",
    "    mse = np.mean((y - t) ** 2)\n",
    "    return mse"
   ]
  },
  {
   "cell_type": "code",
   "execution_count": 11,
   "id": "613a17ba",
   "metadata": {},
   "outputs": [
    {
     "data": {
      "text/plain": [
       "10.56468471617784"
      ]
     },
     "execution_count": 11,
     "metadata": {},
     "output_type": "execute_result"
    }
   ],
   "source": [
    "t = np.random.rand(1, 10)\n",
    "meanSquareError(Y, t)"
   ]
  },
  {
   "cell_type": "code",
   "execution_count": 12,
   "id": "0785a657",
   "metadata": {},
   "outputs": [],
   "source": [
    "def linearRegressionWeights(X, t, lamda):\n",
    "    X_reg = X\n",
    "    X_reg = X_reg + lamda * np.eye(X.shape[0])\n",
    "    X_pinv = np.linalg.pinv(X_reg)\n",
    "    w = np.dot(X_pinv, t.T)\n",
    "    y = X.dot(w)\n",
    "    mse = meanSquareError(y, t)\n",
    "    return w, mse, y\n"
   ]
  },
  {
   "cell_type": "code",
   "execution_count": 13,
   "id": "fac19555",
   "metadata": {},
   "outputs": [
    {
     "data": {
      "text/plain": [
       "(array([[-0.11247783],\n",
       "        [ 0.03908809],\n",
       "        [ 0.09688473],\n",
       "        [ 0.13726114],\n",
       "        [ 0.0397746 ],\n",
       "        [-0.03723045],\n",
       "        [ 0.12449443],\n",
       "        [ 0.13032655],\n",
       "        [-0.02121026],\n",
       "        [ 0.12702551]]),\n",
       " 0.10867881217278107,\n",
       " array([[0.3572707 ],\n",
       "        [0.07466373],\n",
       "        [0.47122535],\n",
       "        [0.1884265 ],\n",
       "        [0.44870269],\n",
       "        [0.27082512],\n",
       "        [0.35223372],\n",
       "        [0.22132659],\n",
       "        [0.18318696],\n",
       "        [0.1747285 ]]))"
      ]
     },
     "execution_count": 13,
     "metadata": {},
     "output_type": "execute_result"
    }
   ],
   "source": [
    "linearRegressionWeights(X, t, 3)"
   ]
  },
  {
   "cell_type": "code",
   "execution_count": 14,
   "id": "d7bbe051",
   "metadata": {},
   "outputs": [],
   "source": [
    "def gradientMSE(X, t, w):\n",
    "    y = linearRegressionEstimate(X, w)\n",
    "    err = y - t\n",
    "    gradient = 2 * np.dot(X.T, err) / X.shape[0]\n",
    "    return gradient"
   ]
  },
  {
   "cell_type": "code",
   "execution_count": 15,
   "id": "ece2e486",
   "metadata": {},
   "outputs": [
    {
     "data": {
      "text/plain": [
       "array([[2.29641441, 2.1542228 , 1.68329502, 1.81687605, 1.8434679 ,\n",
       "        2.18131935, 1.71317464, 1.80688134, 2.2140207 , 1.85356601],\n",
       "       [4.12517136, 3.86618349, 3.0084354 , 3.25173997, 3.30017436,\n",
       "        3.91553716, 3.06285817, 3.2335356 , 3.97509941, 3.31856707],\n",
       "       [3.08678735, 2.91763545, 2.35741725, 2.51632597, 2.54795977,\n",
       "        2.94986965, 2.39296222, 2.50443621, 2.98877135, 2.55997254],\n",
       "       [2.52575024, 2.37465356, 1.87423284, 2.0161797 , 2.04443692,\n",
       "        2.40344709, 1.90598375, 2.00555905, 2.43819644, 2.05516745],\n",
       "       [3.6186312 , 3.4033637 , 2.69041413, 2.89264587, 2.93290394,\n",
       "        3.44438586, 2.73564966, 2.87751462, 3.49389326, 2.94819173],\n",
       "       [3.5292565 , 3.32609566, 2.65324247, 2.84410066, 2.88209462,\n",
       "        3.36481073, 2.69593394, 2.8298204 , 3.41153384, 2.89652262],\n",
       "       [3.09809761, 2.92022638, 2.33113043, 2.49823047, 2.5314949 ,\n",
       "        2.95412217, 2.36850765, 2.48572782, 2.99502915, 2.5441269 ],\n",
       "       [2.85752777, 2.67837186, 2.08502115, 2.25332807, 2.28683276,\n",
       "        2.71251246, 2.12266832, 2.24073512, 2.75371489, 2.29955599],\n",
       "       [2.653301  , 2.49237521, 1.95940126, 2.11058201, 2.14067741,\n",
       "        2.52304182, 1.99321762, 2.09927047, 2.56005167, 2.15210598],\n",
       "       [2.79270435, 2.6347902 , 2.11179054, 2.26014203, 2.28967421,\n",
       "        2.66488289, 2.14497405, 2.24904217, 2.70120013, 2.3008889 ]])"
      ]
     },
     "execution_count": 15,
     "metadata": {},
     "output_type": "execute_result"
    }
   ],
   "source": [
    "gradientMSE(X, t, W)"
   ]
  },
  {
   "cell_type": "code",
   "execution_count": 16,
   "id": "ae31c76b",
   "metadata": {},
   "outputs": [],
   "source": [
    "def l2Norm(w):\n",
    "    norm2 = np.linalg.norm(w, ord=2) #Order 2 L2 normalization\n",
    "    return norm2"
   ]
  },
  {
   "cell_type": "code",
   "execution_count": 17,
   "id": "b7ff0a37",
   "metadata": {},
   "outputs": [
    {
     "data": {
      "text/plain": [
       "2.1186940133354972"
      ]
     },
     "execution_count": 17,
     "metadata": {},
     "output_type": "execute_result"
    }
   ],
   "source": [
    "l2Norm(W)"
   ]
  },
  {
   "cell_type": "code",
   "execution_count": 18,
   "id": "f0242e6d",
   "metadata": {},
   "outputs": [],
   "source": [
    "def gradientL2Nnorm(w):\n",
    "    gradient = np.zeros(w.shape)\n",
    "    gradient = w / np.linalg.norm(w, ord=2)\n",
    "    return gradient"
   ]
  },
  {
   "cell_type": "code",
   "execution_count": 19,
   "id": "1d7db814",
   "metadata": {},
   "outputs": [
    {
     "data": {
      "text/plain": [
       "array([[0.44096138],\n",
       "       [0.00392487],\n",
       "       [0.44273816],\n",
       "       [0.34647261],\n",
       "       [0.07632016],\n",
       "       [0.33012051],\n",
       "       [0.41718977],\n",
       "       [0.03480916],\n",
       "       [0.42545039],\n",
       "       [0.13566861]])"
      ]
     },
     "execution_count": 19,
     "metadata": {},
     "output_type": "execute_result"
    }
   ],
   "source": [
    "gradientL2Nnorm(W)"
   ]
  },
  {
   "cell_type": "code",
   "execution_count": 20,
   "id": "e63c2005",
   "metadata": {},
   "outputs": [],
   "source": [
    "def l1Norm(w):\n",
    "    norm1 = np.linalg.norm(w, ord=1) #Order 1 L1 normalization\n",
    "    return norm2"
   ]
  },
  {
   "cell_type": "code",
   "execution_count": 21,
   "id": "5a64c3a3",
   "metadata": {},
   "outputs": [],
   "source": [
    "def gradientL1Nnorm(w):\n",
    "    gradient = np.zeros(w.shape)\n",
    "    gradient = w / np.linalg.norm(w, ord=1)\n",
    "    return gradient"
   ]
  },
  {
   "cell_type": "code",
   "execution_count": 22,
   "id": "1e28c9cd",
   "metadata": {},
   "outputs": [],
   "source": [
    "def update_weights_linear_regression(X, t, w, eta, lambda2, lambda1):\n",
    "    y = linearRegressionEstimate(X, w)\n",
    "    mse = 0.5*meanSquareError(y, t)\n",
    "    gradient = np.dot((y-t), X.T + lambda2*w + lambda1*np.sign(w))\n",
    "    w = w - (eta*gradient)\n",
    "    return w, mse"
   ]
  },
  {
   "cell_type": "code",
   "execution_count": 23,
   "id": "92dcb4a1",
   "metadata": {
    "scrolled": true
   },
   "outputs": [
    {
     "data": {
      "text/plain": [
       "(array([[-4.8851774 , -4.38258421, -4.81658016, -4.70612617, -4.97358436,\n",
       "         -4.93290906, -5.03056243, -4.81009115, -4.21204568, -4.44816795],\n",
       "        [-3.47181482, -3.19108082, -3.40848969, -3.36826327, -3.51152145,\n",
       "         -3.50010381, -3.56169343, -3.43071093, -3.06096375, -3.22560217],\n",
       "        [-6.3251936 , -5.68567279, -6.25334251, -6.09954529, -6.44365754,\n",
       "         -6.38492492, -6.50483621, -6.22913403, -5.49018686, -5.77042771],\n",
       "        [-5.95524478, -5.37015301, -5.88468711, -5.74811892, -6.06176101,\n",
       "         -6.01020621, -6.12126993, -5.86752216, -5.18458374, -5.44728734],\n",
       "        [-7.90612944, -7.1902999 , -7.832465  , -7.65451292, -8.04134391,\n",
       "         -7.97254809, -8.10486354, -7.79838159, -6.98091096, -7.28573876],\n",
       "        [-8.54611416, -7.71859104, -8.46979551, -8.25648782, -8.70584649,\n",
       "         -8.62232109, -8.7727926 , -8.42125811, -7.48885219, -7.82966807],\n",
       "        [-8.30468222, -7.48256107, -8.22849195, -8.0168942 , -8.46322878,\n",
       "         -8.38041576, -8.53000917, -8.1806536 , -7.25380642, -7.59288177],\n",
       "        [-6.48437224, -5.91172267, -6.41411023, -6.28148051, -6.58815727,\n",
       "         -6.53824329, -6.6472845 , -6.39855539, -5.72842029, -5.98711497],\n",
       "        [-2.09387234, -1.85912217, -2.03163994, -2.00596929, -2.12348506,\n",
       "         -2.11813153, -2.17224637, -2.05981183, -1.73738308, -1.88720534],\n",
       "        [-3.58876805, -3.27047017, -3.52455027, -3.47243334, -3.63672033,\n",
       "         -3.62034895, -3.68804468, -3.54191046, -3.13350918, -3.31025082]]),\n",
       " 3.005026458729139)"
      ]
     },
     "execution_count": 23,
     "metadata": {},
     "output_type": "execute_result"
    }
   ],
   "source": [
    "update_weights_linear_regression(X, t, W, 0.1, 2, 1)"
   ]
  },
  {
   "cell_type": "code",
   "execution_count": 24,
   "id": "67ad1467",
   "metadata": {},
   "outputs": [],
   "source": [
    "def gradient_descent(X, t, lambda2, lambda1, eta, max_iter, min_change_NRMSE):\n",
    "    w = np.random.randn(X.shape[1])\n",
    "    prev_nrmse = 100\n",
    "    for i in range(max_iter):\n",
    "        w = w.T\n",
    "        w, mse = update_weights_linear_regression(X, t, w, eta, lambda2, lambda1)\n",
    "        nrmse = np.sqrt(mse)/(np.max(t) - np.min(t))\n",
    "        if abs(prev_nrmse - nrmse) < min_change_NRMSE:\n",
    "            break\n",
    "        prev_nrmse = nrmse\n",
    "    return w, nrmse"
   ]
  },
  {
   "cell_type": "code",
   "execution_count": 25,
   "id": "c8e16e2b",
   "metadata": {},
   "outputs": [
    {
     "data": {
      "text/plain": [
       "(array([[-3.67706101, -2.70161357, -3.64498472, -3.41885444, -3.90718767,\n",
       "         -3.85803586, -3.95670574, -3.60448499, -2.51816884, -2.78835702],\n",
       "        [ 1.03296404,  0.77536053,  1.1506188 ,  0.93490216,  1.13622022,\n",
       "          1.03086627,  1.04088746,  1.01006478,  0.83668534,  0.76371133],\n",
       "        [ 1.10444509,  1.12947631,  1.15737999,  1.02424238,  1.1014538 ,\n",
       "          0.99804415,  1.0406153 ,  1.04623532,  1.14808373,  1.13241156],\n",
       "        [-1.48088219, -0.93874123, -1.42387043, -1.34585457, -1.59680718,\n",
       "         -1.59607385, -1.65960205, -1.44672556, -0.79735669, -0.99176562],\n",
       "        [ 0.92248832,  0.6886912 ,  1.0317479 ,  0.79566473,  1.01052388,\n",
       "          0.88372528,  0.91178034,  0.88275437,  0.71631156,  0.67015599],\n",
       "        [-0.85636454, -0.23504756, -0.79766045, -0.71203424, -0.99268695,\n",
       "         -0.99555419, -1.06469866, -0.8132048 , -0.10011233, -0.3115475 ],\n",
       "        [ 1.89118376,  1.31818053,  2.01221117,  1.65676353,  2.06491189,\n",
       "          1.89175178,  1.96133658,  1.81361403,  1.30322707,  1.33058863],\n",
       "        [ 4.07213295,  3.21795683,  4.19745691,  3.74605567,  4.3129527 ,\n",
       "          4.10217676,  4.21167676,  3.95674525,  3.15969153,  3.2642644 ],\n",
       "        [-0.67069768, -0.57487613, -0.61482974, -0.6670952 , -0.68006053,\n",
       "         -0.72654766, -0.72861742, -0.6962951 , -0.48589006, -0.55952897],\n",
       "        [-3.1222498 , -2.64056948, -3.05728077, -2.98073248, -3.21490614,\n",
       "         -3.20738662, -3.27458509, -3.0792186 , -2.4781765 , -2.68536267]]),\n",
       " 1.3237796395260943)"
      ]
     },
     "execution_count": 25,
     "metadata": {},
     "output_type": "execute_result"
    }
   ],
   "source": [
    "gradient_descent(X, t, 0.1, 0.2, 0.01, 30, 0.000001)"
   ]
  },
  {
   "cell_type": "code",
   "execution_count": 26,
   "id": "f6616f91",
   "metadata": {},
   "outputs": [],
   "source": [
    "def generateData(num_samples, var):\n",
    "    X_train = dataMatrix(num_samples, var)\n",
    "    t_train = X_train.dot(np.random.randn(var)) + np.random.randn(num_samples)\n",
    "    X_val = dataMatrix(num_samples, var)\n",
    "    t_val = X_val.dot(np.random.randn(var)) + np.random.randn(num_samples)\n",
    "    return X_train, X_val, t_train, t_val"
   ]
  },
  {
   "cell_type": "code",
   "execution_count": 27,
   "id": "d7066e68",
   "metadata": {},
   "outputs": [],
   "source": [
    "def pseudoInverseRegression(X_train, t_train, X_val, t_val, alpha = 0, noise_var = 0):\n",
    "    #X_train = np.dot(X_train.T, X_train)\n",
    "    #t_train = np.dot(t_train.T, t_train)\n",
    "    a = np.dot(X_train, X_train.T)\n",
    "    print(np.shape(a))\n",
    "    X_dagger = np.linalg.pinv(np.dot(X_train, X_train.T) + alpha * np.eye(X_train.shape[0]) + noise_var * np.eye(X_train.shape[0]))\n",
    "    X_dagger = np.dot(X_train.T, X_dagger)\n",
    "\n",
    "    # Calculate the regression coefficients\n",
    "    print(t_train)\n",
    "    \n",
    "    w = np.dot(X_dagger, t_train)\n",
    "    \n",
    "   \n",
    "    \n",
    "    #X_train = alpha + noise_var * X_train\n",
    "    #w = np.linalg.pinv(X_train).dot(t_train)\n",
    "    print(w)\n",
    "    t_train_pred = X_train.dot(w)\n",
    "    t_val_pred = X_val.dot(w)\n",
    "    train_nrmse = np.sqrt(np.mean((t_train - t_train_pred)**2)) / np.std(t_train)\n",
    "    val_nrmse = np.sqrt(np.mean((t_val - t_val_pred)**2)) / np.std(t_val)\n",
    "    return train_nrmse, val_nrmse"
   ]
  },
  {
   "cell_type": "code",
   "execution_count": 28,
   "id": "4053eae5",
   "metadata": {},
   "outputs": [
    {
     "name": "stdout",
     "output_type": "stream",
     "text": [
      "[[0.8702809  0.30627499 0.40379678 0.89291569 0.95599724]\n",
      " [0.9720997  0.74624326 0.55175483 0.13386466 0.68370413]\n",
      " [0.05843848 0.94817888 0.3480161  0.1911236  0.99134786]\n",
      " [0.07113589 0.1372425  0.24421711 0.37642808 0.62693074]\n",
      " [0.25579023 0.14519875 0.30137619 0.3074407  0.46940111]\n",
      " [0.66080111 0.97900541 0.54200213 0.59625011 0.95694644]\n",
      " [0.1089267  0.24646057 0.54294361 0.93528112 0.36039757]\n",
      " [0.66438303 0.35756223 0.09003361 0.03981325 0.49152464]\n",
      " [0.0190735  0.44486662 0.49264774 0.06237264 0.95883777]\n",
      " [0.23165046 0.54756138 0.73711262 0.73841461 0.26381381]]\n",
      "(10, 10)\n",
      "[-0.83707031  2.43100087 -0.0953692   2.08706875  1.05437631  0.39734543\n",
      " -1.4948238   1.0455536  -1.550785   -1.56013   ]\n",
      "[ 2.01582288 -0.12383406 -0.73947495 -1.56060765  0.40812622]\n"
     ]
    },
    {
     "data": {
      "image/png": "[encoded data removed]",
      "text/plain": [
       "<Figure size 640x480 with 1 Axes>"
      ]
     },
     "metadata": {},
     "output_type": "display_data"
    }
   ],
   "source": [
    "num_samples_list = [10*x for x in range(1,2)]\n",
    "train_nrmse_list = []\n",
    "val_nrmse_list = []\n",
    "var = 5\n",
    "for num_samples in num_samples_list:\n",
    "    X_train, X_val, t_train, t_val = generateData(num_samples, var)\n",
    "    print(X_train)\n",
    "    train_nrmse,val_nrmse = pseudoInverseRegression(X_train, t_train, X_val, t_val, 0, 0)\n",
    "    train_nrmse_list.append(train_nrmse)\n",
    "    val_nrmse_list.append(val_nrmse)\n",
    "\n",
    "# I thought here that line plot looks better than line plot\n",
    "plt.plot(num_samples_list, train_nrmse_list, 'o-', label='Training NRMSE')\n",
    "plt.plot(num_samples_list, val_nrmse_list, 'o-', label='Validation NRMSE')\n",
    "plt.xlabel('Number of Training Samples')\n",
    "plt.ylabel('NRMSE')\n",
    "plt.legend()\n",
    "plt.show()"
   ]
  },
  {
   "cell_type": "code",
   "execution_count": 29,
   "id": "800d1240",
   "metadata": {},
   "outputs": [
    {
     "name": "stdout",
     "output_type": "stream",
     "text": [
      "(100, 100)\n",
      "[-4.85874154e-02  7.20625711e-01 -1.85363014e-03 -1.00357973e+00\n",
      "  1.21517600e-01  5.34332002e-01 -7.81884519e-01 -8.72360042e-01\n",
      "  8.67976252e-01 -1.31288966e+00 -2.95164624e-01  1.56873721e+00\n",
      "  1.79537932e+00  1.79155689e-01  6.48856946e-01 -1.39028166e-01\n",
      "  1.75138006e+00  5.19355510e-01 -5.40417844e-01 -4.91182333e-01\n",
      " -2.97502748e-01  3.03843357e-01  7.97907409e-01  5.11122609e-01\n",
      "  5.73383912e-01  2.96658357e+00  1.50930314e+00  3.41886964e-01\n",
      " -7.94758734e-01 -1.04422721e+00  2.69344516e+00  2.43136720e+00\n",
      " -5.65728227e-01 -2.35310693e-01  1.43809372e+00  2.37893400e-01\n",
      " -1.79638923e+00  3.19266341e-01  5.26807879e-01  7.51960493e-01\n",
      " -9.85043549e-01 -1.03371154e+00 -1.35774139e+00 -7.74210749e-02\n",
      " -1.18680573e-03  1.29843082e-01  4.43223010e-04  1.85169331e-01\n",
      "  5.61144057e-01 -3.36731161e-01 -6.21316520e-01  1.60304185e+00\n",
      "  1.18665166e+00  7.94564315e-01 -1.38434949e+00  1.23068022e+00\n",
      "  1.07722798e-01 -6.21601876e-02  1.20660218e+00  8.55281771e-01\n",
      " -4.70595647e-02  1.29561177e-01  1.43066736e-01 -5.61961265e-01\n",
      " -1.34859857e+00 -4.15956612e-01  3.52131518e-01 -2.00733885e-01\n",
      " -1.13204835e+00 -1.32979773e-01  1.62588914e-01  5.11362499e-02\n",
      "  1.07059389e+00 -3.22084725e-01 -5.81648882e-01  1.08523527e+00\n",
      "  6.76831836e-02 -1.69981154e+00  9.68231638e-01 -1.34437048e-01\n",
      " -4.22271621e-02  5.89266332e-01  2.41521438e+00  7.96464314e-01\n",
      "  1.48236960e+00 -1.26127348e+00  1.81402291e-01  1.68132723e-01\n",
      " -2.10919676e-01 -4.62143472e-01 -7.06550667e-01 -4.94565911e-01\n",
      " -7.49331594e-02  1.96883438e-01 -1.01426608e+00 -2.54680144e-01\n",
      " -9.89997292e-01  6.64595320e-01 -1.44429892e+00 -7.13930705e-01]\n",
      "[]\n",
      "(100, 100)\n",
      "[ 0.36314363 -0.5001719   2.09471323 -0.66637242 -0.56575258  0.53182697\n",
      "  0.44623553  1.0373302  -1.68078108  0.25155893 -0.30861455 -0.44699947\n",
      "  0.96583174  0.61748274  0.889874   -1.33718354  1.7226692  -0.46806091\n",
      " -0.95371531 -0.08264052  1.00292137 -1.02052931  2.32067358  0.58459072\n",
      " -0.85958115  2.44080335  0.93809324  1.83801032  1.7639857   0.39902432\n",
      " -0.81146379 -1.13002689 -0.97039398 -1.06058881  1.19109344  0.97184867\n",
      "  0.14497376  1.20112481  1.20581561 -0.05062326 -1.3976362  -0.99782648\n",
      "  0.64397795 -0.58545414  0.51098988 -0.74332656  0.41908221 -0.03792893\n",
      "  0.72326441  1.90477299 -0.33395669  1.63047881  1.11195038 -0.96054974\n",
      "  0.95658748 -0.21419331  1.22395884 -2.05835211  2.19169353  2.10539428\n",
      " -0.37829945  1.36647627 -0.43239184 -0.54206858  1.46196805  0.167613\n",
      "  0.661921    1.04484811 -0.71575355  1.56740646  0.72279637 -0.72008798\n",
      "  1.41326221 -2.41660851  0.08986905 -0.72786285  0.10880656  0.48655832\n",
      "  0.30464614  0.15317684  0.59870614 -0.36865754  0.01071599 -0.23801227\n",
      " -1.38666256 -0.32320797  0.34683076  1.02057386  0.82333456  0.44889077\n",
      "  0.01265225 -0.36290493  2.26391177  0.35751554  2.24589358  0.07705109\n",
      "  0.37616663  1.50189606 -0.2704822   0.72803693]\n",
      "[0.17173775 0.45313702]\n",
      "(100, 100)\n",
      "[-0.20416742  0.31427224 -0.16881502  1.66879206 -1.88138757 -0.69260578\n",
      "  3.08470186  0.54886386  1.61557347 -0.23988042 -0.91687433 -0.73725365\n",
      "  1.28611643  0.37419814 -0.20133858 -1.05352753 -0.40755662 -1.38953626\n",
      "  0.86274778  0.37641284 -0.59790246  0.08540367 -2.19123472 -0.44084989\n",
      "  0.22613863  0.09282448  0.69373134  0.25174809 -2.29803011 -0.98642985\n",
      "  0.16745249 -0.15834444 -0.22486195  1.54048699  0.03190571 -0.4536006\n",
      "  0.71435043  0.1963421   2.48084589 -2.51661656  0.23009728  1.22245323\n",
      "  1.47733011  0.96253623  2.17341241  2.12320697  1.13288636  0.17859206\n",
      " -0.59668544  0.14634619  0.79037523  2.50238857  0.94859925  0.53942647\n",
      "  2.08813385 -1.37488308  0.61249201  0.63548359  0.0845857   2.49720913\n",
      " -0.86228131 -1.53559936 -0.67144979 -0.92982301  0.64156544  1.40913636\n",
      "  0.42494117  1.27227627 -0.15377858  0.42978847 -1.59519029 -2.43944161\n",
      "  1.14779521  0.17894272  0.933904   -0.83437542 -0.08103818 -0.99962716\n",
      "  0.88867168  1.00174027  0.25234161  0.00694059  1.05902348  2.83925322\n",
      " -0.23193997  0.158437   -0.23986286 -0.0594275  -0.31872138  0.8809921\n",
      "  1.76900235 -0.11356621 -1.07978935  0.73055445 -0.47491424 -0.53622197\n",
      "  0.6077373  -0.18405128  0.36107999 -0.03492826]\n",
      "[ 1.47178246  0.33030361 -1.13684438 -0.39922193]\n",
      "(100, 100)\n",
      "[ 2.96075331  0.31039348  2.0328746   2.33261865  1.46046208  1.96584931\n",
      "  1.79913603  1.14716983  0.83373376  1.09503336  1.26440035  1.30100422\n",
      "  0.70615437  1.57987009  0.06274873  0.46427     2.14287298  0.64852287\n",
      "  0.56403323  1.88084906  0.99221983  2.22984882  1.44389563  2.16022628\n",
      "  0.62628238 -0.53473998  2.17565947  2.42611249 -0.4428892   2.63524686\n",
      " -1.12002444  1.65039789  1.41965969  2.15352984 -0.07824773  2.15504771\n",
      "  0.52768856  0.38359381  0.50542075  0.63654019  1.31002297  0.94564368\n",
      "  0.96786434 -0.10028513 -0.14991553  1.65315523  0.73493719 -0.47495306\n",
      "  0.04121219  1.3895352   3.5940791  -1.22753901  0.93048032  1.03829271\n",
      "  2.65916885 -0.8101306  -0.33092481  0.27902954  2.77136112  2.64188933\n",
      " -0.33082901 -0.7063957  -0.47632667  0.12357494 -0.05237505  1.23085633\n",
      "  1.31981555 -0.15595296  1.45324158  0.15296358  0.09000135  1.66867649\n",
      "  1.13227032  0.02770342  0.93439717  0.77411236  0.13571674  1.55140272\n",
      "  2.38814178  0.59836625  0.84839126 -0.57215028  2.0008175   1.39177645\n",
      "  2.91550595  0.24809827  0.74403193 -1.42226781  1.76671423  0.19228415\n",
      "  1.80985303  2.10596965  2.33125511 -0.73027649 -0.733402    3.83655566\n",
      "  0.89284864  0.70855483 -1.00127789  0.11767804]\n",
      "[ 0.4354298  -0.83190867  0.64360494  0.89109748  1.05565489 -0.38461037]\n",
      "(100, 100)\n",
      "[ 2.16762891  0.22885489  1.6357442  -0.71501205  2.49044602  2.56060761\n",
      " -0.07056232  0.54082151  0.70633654 -1.09091021  0.11990426  3.03082319\n",
      "  1.85922386  0.20382328  1.69006966  0.77651335  3.35143497  3.88332526\n",
      " -0.38782147  2.9723555   2.67284805 -1.19480788  2.50022392  3.72914236\n",
      "  4.8221752   1.37423376  0.64738889  1.69220948  0.71224636 -0.74517504\n",
      "  2.18935944 -0.86680061  0.84721745 -0.08588583  0.88012417  1.8757706\n",
      " -0.31513387  2.55869402 -0.75874959  0.14840989  3.44394224  3.73784676\n",
      "  0.04758768  0.90467331  1.95838329 -0.18634456 -0.90895119 -0.3409945\n",
      "  2.93710985  0.46946234 -0.23456383  0.76280892  1.20454333 -0.14111408\n",
      "  1.95324012  1.90275172  2.90288882 -0.05438756  2.11896963  0.74270734\n",
      " -1.28977749 -1.03681025  4.63246443 -0.61001913  1.37279807  0.84021463\n",
      " -0.20112411  0.0436641   2.90352366 -0.21658016  2.67792533  0.10993375\n",
      " -1.06050872  0.44683096  0.39276635  0.19607288  0.84139223  1.37239194\n",
      "  3.3476562   3.54316222 -0.49941847  0.10402336  1.52023609  1.81319514\n",
      "  1.55656988  3.81477393  2.75657912  0.80854727  0.57665501  2.7092113\n",
      "  0.68028373 -0.53689974 -0.73864937 -2.45832389  1.43741058 -0.91074588\n",
      "  0.88319636  0.18055691  0.34128888  1.1473261 ]\n",
      "[-0.75419884 -1.39845007  0.07475279  0.28516031  0.50664996 -0.37535772\n",
      "  0.63933789  3.02556995]\n",
      "(100, 100)\n",
      "[-1.6073329  -0.77026159  0.47992571 -2.4370211  -0.57501331 -1.82965412\n",
      "  0.24780394 -2.72687855 -1.59574436 -2.15545845 -0.17857665  2.80650217\n",
      "  0.98641435 -0.31225263  1.99502456  0.72027887  2.08086221 -0.5816438\n",
      "  1.32267576 -1.16804022 -0.08360141 -3.35969356  1.10359835  2.90664248\n",
      "  0.00839178 -1.43780217  2.27578296  0.18794105  0.01574945 -0.71388703\n",
      "  0.70310153  0.0238562  -3.45486675 -0.3314202  -1.00636759  0.88113879\n",
      "  5.1654703  -2.24306424  1.37631805  3.81619277 -0.57859208  0.72977786\n",
      "  0.29798494  1.00707896  0.97841224 -1.83025244  1.71196683 -1.10427595\n",
      "  1.61878155  0.95545916  1.48403444  0.0546455   2.31356589  0.69495167\n",
      "  1.15236358  1.1020458  -2.35416845  1.52566571  1.86273113  0.39241323\n",
      "  1.59248058  1.12466987 -0.71065935 -0.07714045 -1.40150358 -1.24156476\n",
      " -0.19179729  0.63386203  2.01177597 -0.50501254 -0.11713057 -1.78448257\n",
      " -0.27991113 -0.47030864  0.04181031  1.67406531 -1.68762837 -0.33528699\n",
      "  0.19636394  1.36226397 -1.34795013  0.18044582 -1.41295463  0.98770911\n",
      " -1.03720914  1.00804436 -0.05734941 -0.57478791  0.55659296 -2.24423576\n",
      " -0.02753744  0.86177264  2.13392834  2.16500407 -1.5690254  -1.43588033\n",
      "  0.381831    0.48336981  0.38696799 -0.42591609]\n",
      "[ 0.7710963  -2.20255289 -0.03523121 -1.73058185 -0.68068943 -0.52325581\n",
      "  1.1732586   0.27967414  2.76659807  0.4550743 ]\n",
      "(100, 100)\n",
      "[ 1.43005331  1.8549741   1.15616024  2.07753703  1.65600113  1.67436201\n",
      "  2.71913123  1.87848813  1.05279878  0.58002853  0.72474876 -0.70270174\n",
      "  2.10294264  0.54820866  1.983806    2.98276038  2.89972331  1.80024482\n",
      "  0.87097454  0.90616946  1.9010975  -0.15557318  0.82330566 -0.02176005\n",
      "  1.5674273  -2.05788514 -0.07077182  0.02121191  1.08054521  1.69463967\n",
      " -0.02204335  1.8132049  -0.73209639  1.8880057   3.65107778 -0.47232246\n",
      "  2.53128827 -0.24254558 -0.72907331  1.2787672   1.47770371  0.60084356\n",
      "  1.6068856   0.73522615  0.59337063  1.79434215 -0.06961958 -0.16951714\n",
      "  2.74436878 -0.28709195  2.32257696  2.05083284  2.92966747 -0.25844638\n",
      "  0.856618    2.34442244  1.5903996  -0.34332828  0.37736506  2.2515519\n",
      " -0.46882084  0.91403911 -0.57805341  0.79583504 -1.61185769  0.7851334\n",
      " -1.97271638  3.04161207 -1.25179789  0.35672129 -0.58858228  0.62227608\n",
      "  1.28665763  2.87006383  1.40203911  2.2513396   2.06729449  0.5579798\n",
      "  0.15685313  1.21664902 -1.01482267 -0.49124415 -0.66202628 -0.66417458\n",
      " -0.76972451  2.73350196 -0.89487516  2.58109511  1.45791428  2.10470537\n",
      "  0.95274924  1.22369534  1.9582216   0.23713978 -0.87079024 -2.19138756\n",
      "  0.88905442  0.51253094 -0.14106089  0.00468584]\n",
      "[ 0.08347538  0.98743907 -1.52896878  0.68982194 -0.15233804 -0.03088356\n",
      "  0.66067467  0.62824426  1.21284189 -0.16151922 -0.88889393  0.52117509]\n",
      "(100, 100)\n",
      "[-0.5020671  -3.96498285 -0.55141336 -2.06866484 -3.80684838 -3.33519234\n",
      " -1.83718556 -3.31351196 -3.03167753 -4.43783878  0.11542674 -4.75109768\n",
      "  0.21074516 -3.33428847 -3.73201425 -1.78464381 -2.37673852 -3.54081113\n",
      " -2.97065343 -1.57268779 -3.53119016  0.69257304 -2.72244932 -1.81324771\n",
      " -3.64752227 -2.94753638 -0.18338609 -2.64111238 -4.17236751 -3.59212934\n",
      " -2.83754799 -0.31201789 -3.9005171  -0.48592081 -0.94195072 -1.43220882\n",
      "  0.55262914 -0.24404566 -4.8573551  -4.69493427 -2.14219378 -4.02820752\n",
      " -1.27393181 -1.27572788 -2.53606457 -0.37617566 -2.74742429 -2.33922902\n",
      " -3.73913892 -0.26494413 -3.59169847 -2.87377532 -4.97377507  0.68564808\n",
      " -4.36638556 -4.49920123 -3.45215953 -3.39099223 -2.04651161 -1.44966783\n",
      " -1.77901917 -3.90870028 -2.13410574 -3.01582508 -2.78044228 -0.89270308\n",
      " -2.60110128 -0.28170125 -0.19893286 -0.55718063 -1.71224908 -1.67787533\n",
      " -2.56547312 -1.75334253 -2.22423459 -1.95258237 -2.29277047 -0.90486999\n",
      " -2.85698758 -2.31837727 -2.10746354 -1.28495491 -2.05022029 -2.59859696\n",
      " -0.58397938  0.40991225 -4.02315497 -4.77123513 -0.69402053 -0.33894621\n",
      " -2.92980656 -0.57924637 -4.01990408 -3.16719055 -3.23174252 -1.90341414\n",
      " -1.86669526 -3.74423571 -0.46884446 -1.15006472]\n",
      "[-0.41695354 -1.23559069  0.29140314  1.35650441  0.36561386  0.20692048\n",
      " -2.10092724  0.68780825 -0.93692081  0.65577697 -2.3994628  -1.20826993\n",
      "  0.7477039  -0.63333627]\n",
      "(100, 100)\n",
      "[-8.42382989 -5.36537732 -2.14917353 -4.51770846 -4.73971053 -7.20212883\n",
      " -2.12589802 -1.18936021 -3.95586423 -3.49931549 -5.0735646  -4.51845558\n",
      " -4.24688314 -5.64811565 -4.05082888 -3.57244398 -2.54099703 -8.5424691\n",
      " -4.75923991 -3.86778106 -1.81909857 -5.2768637  -3.80488256 -3.2433847\n",
      " -3.54604524 -5.78219244 -5.36627196 -6.58277114 -3.33698566 -7.56954325\n",
      " -3.32129225 -5.94848236 -3.04292345 -4.37276044 -3.29140301 -3.81940869\n",
      " -6.89196603 -5.18514642 -4.73481862 -7.49670787 -5.03298468 -7.12831397\n",
      " -4.57608585 -5.74057039 -5.06221376 -3.07793663 -5.97934206 -7.61165306\n",
      " -4.84298043 -4.6637322  -3.98126633 -5.20934082 -6.2070583  -3.35518986\n",
      " -5.02375607 -5.76632617 -3.05262354 -3.2344865  -3.67075524 -3.17969276\n",
      " -3.38440997 -7.84906966 -6.32677056 -4.88131709 -2.74858978 -3.70465287\n",
      " -4.09010349 -4.19985591 -5.00548006 -4.22854566 -2.25993362 -3.69226858\n",
      " -4.0802761  -4.04567629 -6.32406389 -6.30958339 -5.39094763 -3.92583155\n",
      " -5.43802871 -4.69242657 -4.72018325 -4.9022043  -4.49738088 -8.33947789\n",
      " -3.29482731 -6.60295047 -3.67830668 -6.16653476 -3.54485801 -4.31191393\n",
      " -5.96659143 -3.06966488 -4.94915098 -5.09715999 -3.32733252 -5.77221057\n",
      " -4.49329813 -6.76139945 -3.58964551 -4.79172496]\n",
      "[-0.77340775  0.50687385 -0.09882514 -1.76847828  0.04121792 -1.05538057\n",
      "  0.04207678  0.21235473  0.8176364  -1.0887014  -0.86228258 -1.13775568\n",
      " -0.53392138 -1.78690563 -0.76225929 -0.86070081]\n",
      "(100, 100)\n",
      "[-3.56969461 -3.26857344 -2.56789881 -3.00788997 -7.39829512 -1.16685884\n",
      " -4.76705021 -3.73339544 -1.9088569  -3.95400161 -2.31369655 -6.09724357\n",
      " -5.09283474 -3.88468248 -2.75590448 -3.2748266  -3.03941974 -3.75279536\n",
      " -0.50984385 -4.73989119 -2.68585071 -4.57248272 -2.68929185 -3.46329689\n",
      " -3.26264022 -2.30547343 -1.85822792 -0.96615657 -1.78570413 -1.84915052\n",
      " -3.37393067 -4.71128692  0.2334728  -2.67018286 -1.44623983 -3.66661812\n",
      " -2.96675904 -3.21843841 -3.39601665 -1.60587255  1.7640766  -2.51524752\n",
      " -5.71516175 -3.11495229 -2.02264989 -4.02674881 -6.11959409 -3.10483619\n",
      " -5.88265547 -4.06107204 -4.50500623 -2.42676545 -4.36860765 -0.58905541\n",
      " -1.74730663 -3.72227471 -2.89828239 -1.45868303 -3.32015631 -2.69813904\n",
      " -4.63795792 -4.87474555 -0.39687422 -1.60880627 -6.09098441 -3.0260621\n",
      " -4.1769948  -3.04247142 -3.57907714 -5.21536308 -4.70604005 -3.68176976\n",
      " -4.30966924 -3.53046334 -3.58087665 -3.0331204  -5.86212229 -3.65790661\n",
      " -1.29303473 -4.2290069  -0.56987138 -6.29411103 -1.89281216 -3.08573334\n",
      " -4.79424179 -3.73833902 -4.93825994 -4.20332815 -3.67383363 -3.03523503\n",
      " -2.28433048 -3.08482997 -6.22236138 -1.39064271 -4.80472197 -1.89374521\n",
      " -2.73205715 -3.11078916 -2.9176272  -2.94654624]\n",
      "[-1.20327112 -0.73176795 -0.95619906 -1.13644828  0.29472322  2.48400993\n",
      "  0.70959101  0.03518858 -0.18856652 -1.24267834 -0.52385981 -0.18119237\n",
      "  0.41517686 -1.20553843 -0.74214547  0.17602936 -0.31953813 -2.22353926]\n"
     ]
    },
    {
     "name": "stdout",
     "output_type": "stream",
     "text": [
      "(100, 100)\n",
      "[-1.16337186 -3.05333719  0.15922112 -2.33942297  2.01314325  2.41670114\n",
      "  1.84329094 -0.33524278 -0.87357157 -1.33471095  0.31960239 -4.26517747\n",
      "  0.08316359 -0.60445731 -2.41613908  1.48285774 -2.88810755  3.29472722\n",
      "  0.24211009 -4.38768273  0.31607473 -0.00786462 -3.41437592 -1.67763348\n",
      "  2.29533046 -2.04225607 -2.86657785 -0.48293205 -1.56681287 -0.3542747\n",
      "  1.16480632 -0.0464294   0.04592596  0.98116641  3.66326537  0.59969551\n",
      " -1.34131618 -1.91864042  1.31848932 -0.35486159 -3.49295648 -2.91850084\n",
      " -1.36103811 -0.15616302 -0.32618367 -1.89675459  1.22755395 -1.10496772\n",
      " -0.01078714 -2.08133159 -0.63750211 -0.02828016  1.57946888  0.73578304\n",
      " -0.74888653  2.06575702 -0.31419952 -2.05012712 -0.23655688 -0.94555748\n",
      "  0.69097433 -3.33816875  1.76303534  1.63855339 -2.24768679 -0.90571674\n",
      "  1.5579455  -5.76379852  0.62596091 -1.03460965  0.49588356 -2.03722938\n",
      " -1.70761605  0.14982469 -2.0112712   2.82690538 -1.22538473 -0.14019879\n",
      "  1.88930249 -0.49275864 -1.3910514  -0.08450817 -0.59793257 -1.57053211\n",
      " -1.88496999  2.45173586  0.35864544  1.50257288  2.43460847 -1.3938309\n",
      " -0.40932595 -0.85635486  1.63466679  3.74231502 -0.47657679  0.94092173\n",
      "  0.30554264 -4.90766139  1.74754884 -0.36755545]\n",
      "[ 0.57072697 -0.3762738  -0.60270962  0.75237401  0.77417331 -3.74405378\n",
      " -0.35914649 -1.27074617  0.35411411 -0.79880985  0.07854225 -1.79099507\n",
      "  1.67130811  2.1765505   2.55027628  0.82799523 -0.99916102 -0.57831163\n",
      " -0.43445231  0.37534762]\n",
      "(100, 100)\n",
      "[ 1.89312629  0.28778509 -1.28138719  0.11723423  1.52545104  2.10858732\n",
      " -2.46753076 -1.14369797 -0.53314875  2.50920437 -0.95985637  0.23415067\n",
      "  1.44782307 -0.84563579 -0.77506622  0.89919637 -1.11894366 -1.62892532\n",
      "  1.84966749 -1.69322534 -2.29633831 -1.66529209  0.46635263  2.40667007\n",
      " -0.8682188  -3.43239527 -2.4452047   0.2957448   1.81703602  0.5530436\n",
      " -2.36373895  0.10326106 -1.54850958  0.71843563  2.15491828 -0.9317402\n",
      " -1.97081302 -1.3976044  -4.72123168 -2.80557034  1.23805654 -2.07249554\n",
      "  0.52966879 -0.50434215 -1.1016475  -1.92015143 -0.16217476 -0.30239391\n",
      "  0.49115473  0.15842362  1.91175466 -1.18904048 -1.77962164  1.5039647\n",
      " -1.86301919 -2.1601487  -4.46126803 -0.77049326  0.28051474  0.34179249\n",
      "  1.34606389  1.44550982 -1.4516246   0.779325    3.35123285  0.76894142\n",
      "  1.32629136 -2.81046734 -0.96632558  0.5003465  -1.63433765  1.656313\n",
      "  1.06595234  0.15620965 -2.70056836  0.01435968 -3.28020318 -0.28971173\n",
      " -0.51985428 -3.55884122 -2.18724577  1.34094395  0.78405526  2.17701684\n",
      " -0.84883202 -3.94359499 -0.88652343 -1.47123166  0.63318786 -0.69983477\n",
      "  0.44621749 -2.48956956 -3.31133893 -2.47417301 -3.09124802  2.14040227\n",
      " -1.73684788  0.36904931  0.32734259 -0.15384499]\n",
      "[-0.8093614  -2.7934773   0.29456738  1.69846546 -0.4655507  -1.64870861\n",
      " -1.33156529  0.59533326  1.4882122   0.792641   -0.33599534  0.70187758\n",
      "  1.06633586 -0.10224761 -0.47546637  0.49030217  0.09240884 -1.23868174\n",
      " -0.22848719  0.67130519 -0.41859659  0.73944542]\n",
      "(100, 100)\n",
      "[ 0.43613974 -2.80773677 -0.43065216 -1.91371673  0.12803586 -0.43247705\n",
      " -2.4843218   1.22585434 -1.6411461  -1.24537532 -1.63330624 -1.35375482\n",
      " -3.96606436 -2.38825588 -2.79585603 -0.53248222 -2.07995329 -3.39950922\n",
      "  0.20243938 -0.17902393 -1.15759562  1.50267469 -2.08547185  2.4345465\n",
      "  0.02976561 -0.81001828  1.85775488 -1.60991747 -0.02122172  0.05050379\n",
      "  0.06585445  3.36165833  0.04833557 -0.32801286  0.49116265 -2.55634241\n",
      " -4.45379218  0.89395867  1.42718799 -0.14933985 -1.6570438  -3.0357592\n",
      " -1.1385058  -1.08670614 -1.70153944 -1.94085932 -3.12360549 -0.27747922\n",
      "  0.34899621  0.34266602 -1.70649814 -1.02708814 -1.9937115   0.79488534\n",
      " -1.80495154 -3.24572611  1.33974873 -0.51469669 -3.06148555 -1.58410165\n",
      " -0.99976328 -0.4685399  -1.9658779  -5.32751536  0.6751717  -0.38867459\n",
      " -0.53158747 -1.1962217   1.61073725 -0.51537814 -2.95435907  0.82076675\n",
      " -2.71484235 -3.55039079 -2.79659584  1.68124449 -2.47053073 -2.36633696\n",
      " -0.65255275  1.17014183  0.21070216  0.27179782 -1.58723489  1.73992772\n",
      "  0.13416442 -1.81129791  0.36506365 -0.9623311  -2.11814326 -2.76159278\n",
      " -4.74238644  1.19519454 -2.32133875 -3.27392427  0.01140609 -1.52439828\n",
      " -3.13002353 -0.40796094 -0.69924844 -2.44110931]\n",
      "[-0.5359418   1.54744757 -1.773863   -0.11048501 -1.81831613 -0.20040735\n",
      " -1.60286515 -0.26071676  0.08987591 -0.22139823  0.37045165  2.2156462\n",
      "  0.18786209  0.41583014  0.02654941 -0.14908731 -1.34135762  0.46839495\n",
      "  0.24828801  1.10689028 -0.06905893  0.46553602 -1.59795014  0.71334667]\n",
      "(100, 100)\n",
      "[ 2.9735159   1.06044241  2.3024218   1.26695428  1.2858137   3.4623169\n",
      " -0.10154088 -3.02343312  2.5084458   2.57421109  2.28139247  3.14981471\n",
      "  1.26760747  3.76786856  3.36897579  2.26265173  0.56814644  0.05823009\n",
      "  2.96619997  0.74031654  1.1423568   1.86196278  1.99702176  3.47634293\n",
      "  1.21322791  3.05341288  4.81560905  3.81447492 -0.15933727  0.87712394\n",
      "  1.22824916  1.88815371  3.96116952  1.30327833  2.92374862  0.06331058\n",
      "  2.30493772 -0.61443712  1.20148381  0.28911524  5.96249234  1.11273234\n",
      "  0.58165178  2.46322557  1.40709663  3.24692744 -2.08360216  2.81694955\n",
      " -0.01463065  4.60346386  1.23376892 -3.30423596  2.00505384  1.67414865\n",
      "  0.33318519  2.51459584  0.17033458  2.10586972  4.58868425  1.53106862\n",
      "  4.44416787  3.71631962  0.07628431  1.88911582  5.23632515  6.05987352\n",
      "  4.60041659  2.03483874  0.06257673  1.09650831 -0.44950136  2.5697653\n",
      "  1.47213604 -0.89758062 -2.49022706  0.35739381  2.28625399 -0.53065458\n",
      "  2.00355866  4.62232685  2.51824343  4.068331    2.60429989  3.85202973\n",
      "  5.0392369  -0.85086377  2.50073907 -0.34727311 -0.73900334 -2.60560866\n",
      "  2.64495584  4.44853827 -1.03813273  3.10856816  0.61070253  3.21620693\n",
      " -1.94141371  4.07364906  2.68693167  4.26715534]\n",
      "[-0.77891514 -3.27272017  1.10531125 -0.04304448  2.19724081  0.99243987\n",
      " -0.05300279 -0.52011885  1.25205898  0.20922226  2.06756402 -0.48284468\n",
      "  1.26279133 -1.08775019  0.1640545   0.72888017  0.65651167  0.09543767\n",
      "  2.0399129  -0.84436309  1.37077616 -0.63762134 -2.33558905 -1.53663363\n",
      "  2.21140657 -0.95522273]\n",
      "(100, 100)\n",
      "[-0.67659016  1.00138926  0.44214834  3.51688676  3.16950795  1.84755375\n",
      "  3.02770553  4.91850772  1.98841432  3.86721461  3.40987789  1.77685579\n",
      "  2.56668225  0.86215943  1.94525963 -0.32056779 -0.03263821  1.80165734\n",
      "  4.94147161  1.48410392  1.90024632 -1.99835026 -1.27325924  0.82540072\n",
      "  1.80378563  2.12499364  4.00683166  3.62780206  2.67479704  2.78874676\n",
      " -0.84249751  4.17523926  1.53410878  3.92516997  5.10420609 -1.99774653\n",
      "  2.95177568  2.26163666  0.81587044  0.19550158  0.11984218  2.67229226\n",
      "  3.10993481  2.36189488  2.91547559  1.00405014  4.59371603  2.37034369\n",
      "  4.03074761  5.23744845  0.55690872  2.99628073  2.42528095 -1.01241542\n",
      "  1.73127587 -0.40102665  0.46442243  0.87380609  2.29096011  0.74677328\n",
      "  4.33223137  2.13039324 -0.4609996  -1.90839026  2.26839104  2.58181542\n",
      "  2.7745882  -1.9014453   0.42505332 -1.05915061 -0.61616282  1.69786797\n",
      " -2.88119123  4.81694778  1.30723466  0.76084632  1.00617321  1.89737756\n",
      "  1.3578185   1.52196032 -1.76368715  1.50206487  3.96309035  1.35325222\n",
      "  1.45377998  4.66531794  1.51984463  1.79532553 -0.09898042 -0.86467991\n",
      " -1.12654961  2.32951137  2.74208453  0.44007805  1.53670699  3.17934717\n",
      "  2.12162903  3.15752788  1.62367039  2.98161774]\n",
      "[-0.82966233  0.61673278 -0.24074165 -0.4714387  -0.55003378  1.43906608\n",
      " -0.91449718 -0.43124716 -0.06193493  1.48728001  1.70456134  1.96359588\n",
      "  0.67748698  0.48357622  0.06115023 -0.32424391  0.43679949  0.27206595\n",
      "  0.01212327 -1.53943726 -0.28196883 -1.05761132  0.30120474  0.94057547\n",
      "  2.0556909  -2.15931924 -0.10653701 -0.20183645]\n",
      "(100, 100)\n",
      "[-0.87844594 -1.01801924 -0.6810459   1.72729788  0.26393467  0.44958172\n",
      " -1.5651733   0.93243502  2.2257708  -1.18768697  0.10591921 -0.59086515\n",
      "  1.05246081 -1.39015929  3.05273148  1.49686923 -1.53802745 -0.24276746\n",
      " -0.36353521  0.96826399 -1.52841765 -0.92883575  1.65161541 -1.02134415\n",
      " -0.40809216 -1.67401146  1.16555442  0.0778094   1.13724664  1.5819971\n",
      "  1.91924239 -1.44706689 -2.29629302 -1.49041512 -0.8665238  -0.41413283\n",
      " -1.28021429  2.06627084  1.09505752  1.84531278  2.33017603  2.77780104\n",
      " -1.1276372  -2.19826921 -1.17538022  3.30768874 -1.89271009  2.15884942\n",
      " -0.28615265 -3.06337717 -0.23369144 -1.05985619 -1.99666573  1.6584759\n",
      " -0.2263236  -2.4703213   2.56308081  5.41910911  3.51495783 -2.83841144\n",
      "  0.42001178 -1.30982128  0.00732587 -0.72047577  0.89749272 -0.84917864\n",
      "  0.73259599  0.39692017 -0.01879844  0.30534598  1.67491549  0.70670785\n",
      " -1.65087309 -2.65082472  1.1771687   1.19907578 -0.13283515 -2.15312909\n",
      " -1.30288611 -0.89115032 -0.84331346 -0.46499929  1.18074614  0.01098119\n",
      " -1.83101642 -3.46153892 -1.94874195  2.3791711   0.51313436  2.28027746\n",
      "  0.77860402  1.36576216 -0.02327649  4.01603611 -0.76309163  0.97339806\n",
      " -0.2901905  -1.02746338  0.11365275  1.53325526]\n",
      "[ 1.51285658 -0.16346301 -1.52312673 -0.14408269 -1.28995159  0.22622277\n",
      "  1.01726293 -0.30437103  1.01626221  1.11315451 -0.18485863  0.50929015\n",
      " -1.52185496 -1.69348694 -0.35964521  0.97755511 -0.51402968 -1.70385781\n",
      "  0.84658469  0.54707464 -0.22140794  1.37781693  0.36243833  1.51194364\n",
      "  1.59499768 -0.98101781 -1.43606625  1.2132103  -0.14758802 -1.20000752]\n",
      "(100, 100)\n",
      "[ 2.03957332  1.5841969   1.6027004   1.53475217  1.33329694  4.52816333\n",
      "  1.03342417 -0.48726435  1.41086019  1.09824374  3.26393919  2.60517932\n",
      "  1.72874396  2.19979574 -0.18264305  3.84476321 -1.84537451  0.74306183\n",
      "  0.99596405  3.18131392  2.71710611  1.64125168  5.36927371  5.03633134\n",
      " -0.83888368  1.853649    4.92774444  3.22937681  2.75994372  4.17566902\n",
      "  3.46903543  3.95917479  0.10209101  2.10218332  1.49749577  1.18835134\n",
      "  2.51743516  2.86861096  0.41606161  1.55866317  0.68532747  4.23747989\n",
      "  5.52131091 -1.58862331  1.54541207  5.20560598  2.50106789  2.34051235\n",
      "  5.06662093  6.11182694  0.57686611  1.39468174  0.68803144  1.55713704\n",
      "  1.13810022 -0.27861765 -1.0801783   3.22610989 -1.45793291 -0.19109657\n",
      "  4.57211294  1.76653699  2.15221953 -0.95466891  2.24378278  5.06103289\n",
      "  3.09773822  4.73025734  1.85761891  6.9483427   3.39291355  1.33432619\n",
      "  0.92461602  1.72916689  2.50126699 -0.82123521  1.95473316  2.03763508\n",
      "  2.11122973  3.11228877 -0.40519839  3.07260121  2.62907934  1.81840442\n",
      " -0.92462109  4.15193955  1.23909791  1.7318729   1.27460975  0.36109815\n",
      " -0.59405026  3.16359502  0.35006342  2.79503643  4.471629    2.9853721\n",
      "  2.88992406  1.09493605 -0.69073507 -0.17946891]\n",
      "[ 0.69779074 -0.92231012  0.10047527 -0.53774676  0.57301335  0.23174261\n",
      " -0.61037671  1.21777875 -0.93934155  0.88463221  1.14747137  1.75731037\n",
      " -2.44000417  0.04780864  0.6705762  -0.38231127  0.85449404  0.16589478\n",
      " -0.5700388   0.20808996  2.9801359   1.44300395  0.17598496  0.42723844\n",
      "  1.39933331  0.74391013 -1.60235946 -0.44441563 -0.36372018 -1.47185115\n",
      " -1.60840735  0.24895229]\n",
      "(100, 100)\n",
      "[-6.21370652 -1.31399528 -2.40928056 -4.44543208 -2.1143719  -3.65639317\n",
      " -6.47055304 -1.16155076 -6.26219911 -8.81548597 -4.14855021 -2.69620724\n",
      " -4.82099969 -2.9299265  -5.80467751 -6.4821208  -6.23135914 -9.37712717\n",
      " -4.95259057 -3.9160323  -0.74284254 -5.81641598 -6.36602245 -4.89092171\n",
      " -6.35419233 -4.06360029 -6.11775405 -6.15856979 -4.59284714 -3.47779909\n",
      " -7.51630315  0.23065771 -2.74911111 -8.51806786 -4.83637276 -0.26024135\n",
      " -5.93654054 -6.18861176 -0.71506217 -5.48478848 -3.05301249 -5.12145389\n",
      " -8.67714928 -7.84622313 -4.63145262 -7.5463688  -2.69294616 -7.54239614\n",
      " -2.83180727 -8.73191659 -3.59725025 -2.59711205 -6.14083911 -6.26497312\n",
      " -7.5790626  -6.56942104 -4.16133113 -6.86132002 -4.59525559 -6.15345714\n",
      " -6.036917   -6.11019784 -3.65786698 -6.37828245 -4.42590473 -8.11830895\n",
      " -3.44687022 -0.95486219 -5.66463695 -5.66781633 -5.12760208 -2.68322369\n",
      " -2.29582521 -2.88018718 -1.83297212 -5.7653925  -2.29167124 -5.80690354\n",
      " -6.78694857 -6.30510781 -5.38923676 -1.76829588 -5.7599879  -9.61252219\n",
      " -1.28851594 -2.02260818 -7.93498827 -8.4100488  -7.24328003 -3.44442769\n",
      " -4.0222625  -2.8208434  -4.74873008 -4.66158335 -3.94320559 -2.00807005\n",
      " -5.03410332 -5.36484588 -3.16262151 -5.63765382]\n",
      "[-1.22589222  1.00961359  0.26535188 -1.67570413 -0.91346177  1.49109479\n",
      "  0.07282567 -0.94715905 -1.23707189 -1.04287025 -0.38973956 -1.10131166\n",
      "  3.40812493  1.44312133 -1.41229841  2.31110762 -2.1193077   1.03050904\n",
      " -1.82659939 -0.0920384   0.02530551 -0.49091986  0.66380371  0.21820223\n",
      " -1.49040234 -0.95569678  0.74176859 -0.77409236 -1.12279673 -1.4919949\n",
      " -0.26481403  0.07273219 -0.91570265 -1.75903103]\n",
      "(100, 100)\n",
      "[-4.25859856  0.66788061 -2.64447676 -2.0474988  -2.45318874 -2.76891518\n",
      " -3.94331854 -1.64052713 -0.75348187 -2.22824734 -0.16144849 -2.30795366\n",
      " -0.92716306  0.22284503 -3.37655111 -3.56087405 -0.45060745 -1.3777697\n",
      " -3.57882409 -1.87284655  0.90081001  0.01967121 -1.64646626 -1.8134622\n",
      " -2.69230599 -1.94541025 -0.39179358 -0.2594873  -2.38359502 -4.37629317\n",
      " -5.29467812 -0.14973706 -2.39263908 -4.15732149 -3.33342353 -1.62418006\n",
      " -2.67667846 -2.22177612 -2.12735759 -2.10434285 -1.65291594 -1.88247831\n",
      " -2.33782973 -0.29802779  0.01454379  0.76211054 -3.17207371  0.43562034\n",
      " -0.39083115 -3.34557709 -3.5246976  -1.22310609 -3.49847712 -0.8014833\n",
      "  0.82257677 -2.21417305 -1.67781063 -3.57340737 -3.90740942 -3.91553848\n",
      " -1.25134977  4.22544192  1.76862938 -1.75053617 -3.88500675 -1.71529311\n",
      " -0.64820623 -0.59487133 -1.61783985  0.47895651 -0.27145273 -2.08540128\n",
      " -2.70781737 -0.8361057   0.97167065 -0.86869189 -1.63106151 -3.54657397\n",
      " -1.02130536  0.05212832  1.53856318 -1.7113707  -2.33962679 -2.08621161\n",
      " -3.19848868  1.28979169  0.98378146  1.45088105 -2.02612564 -0.70423212\n",
      " -1.79565044 -2.01468284 -1.18694477 -2.57678944 -3.61053868 -4.08135554\n",
      " -0.03283463  1.20059702  1.09891049 -2.2870194 ]\n",
      "[ 0.74515137  0.82101154  0.88975556 -0.12236634 -0.30929502 -1.34513959\n",
      "  1.07804287 -0.54772098  0.99619346 -0.50823746 -1.57619784  1.41983266\n",
      "  0.41759901  0.52344599 -0.4561613  -1.63516204 -1.07270362  0.82106407\n",
      " -0.2059265  -0.32780814  0.44117836  1.25345517  0.33347798 -0.04330938\n",
      "  0.09620626 -0.89547843 -1.46485489  0.24062555 -0.41085544 -0.60858615\n",
      " -0.90426476  0.5356556  -0.27446225 -0.79849561  0.966731   -0.82324877]\n",
      "(100, 100)\n",
      "[-0.93617421 -4.38857223  0.66925853 -2.03872142 -2.64713985  0.13968584\n",
      " -3.19750365 -4.1127879  -3.16045002 -0.77615885  0.23000127 -0.99661814\n",
      " -2.18912464  0.47221    -2.54247639 -3.46994251  1.26809608 -0.55959088\n",
      " -2.84299293 -3.03723028  0.80135859 -0.48612134  2.09881765  0.01441634\n",
      "  0.57711396 -4.99536243 -4.06367712 -3.61004319 -3.00047329 -2.18211859\n",
      "  0.54745993 -0.18947947  0.47566644  2.05964245  1.25314358 -4.60893307\n",
      " -2.74306475  1.8067871  -1.28620766 -3.96593115 -2.37677182  3.01411116\n",
      "  2.43587239 -3.56295264 -4.87653639 -1.60588403 -6.53257058 -0.55104201\n",
      "  1.18285277 -3.66397679 -5.79444546 -2.02136267 -6.63570472  0.66639042\n",
      "  0.1397753  -0.55559481  0.46269166 -0.78099608 -0.58401232  2.30295847\n",
      " -4.54154459 -0.7570984  -4.71505251 -3.55756201 -1.09921054 -1.7328326\n",
      " -3.02227644 -0.33166318 -3.039216   -3.27190999 -1.2263431  -1.10387022\n",
      "  0.5506315  -0.58221576  0.33480219 -3.24284084 -2.76572976  0.51862861\n",
      " -0.85597633 -2.60575073  0.05457458  0.23450549 -1.46828805 -2.22236198\n",
      " -2.84636038  0.41102841  0.57819066  1.29594482 -0.5195808  -6.37743512\n",
      " -2.57240793  0.57344999  0.30666324 -3.38411627  0.55392958  0.3658732\n",
      " -2.23558084 -0.39431223  0.2899584  -0.5110646 ]\n",
      "[ 1.22958882  1.8089649  -3.26230108  0.14321745 -0.19927188  0.94041508\n",
      "  0.34867597  0.88731516 -0.49400814  0.68521861  0.2110287  -0.01190248\n",
      " -2.11764377 -1.1318883  -1.14806947 -1.3219848  -0.24189738  0.88621666\n",
      " -0.31456903  1.69364058  1.67185962 -0.03773271 -2.59721709 -0.079347\n",
      "  0.63114095  0.18833922 -0.28729167  2.2660715   0.1427755   0.83202719\n",
      " -1.50313764 -0.7552652  -0.20132107 -2.38527656  0.54380662  0.68706566\n",
      " -1.31487026  0.28336499]\n"
     ]
    },
    {
     "data": {
      "image/png": "[encoded data removed]",
      "text/plain": [
       "<Figure size 640x480 with 1 Axes>"
      ]
     },
     "metadata": {},
     "output_type": "display_data"
    }
   ],
   "source": [
    "num_samples = 100\n",
    "train_nrmse_list = []\n",
    "val_nrmse_list = []\n",
    "var = [2*x for x in range(20)]\n",
    "for va in var:\n",
    "    X_train, X_val, t_train, t_val = generateData(num_samples, va)\n",
    "    train_nrmse,val_nrmse = pseudoInverseRegression(X_train, t_train, X_val, t_val)\n",
    "    train_nrmse_list.append(train_nrmse)\n",
    "    val_nrmse_list.append(val_nrmse)\n",
    "\n",
    "# I thought here that line plot looks better than line plot\n",
    "plt.plot(var, train_nrmse_list, 'o-', label='Training NRMSE')\n",
    "plt.plot(var, val_nrmse_list, 'o-', label='Validation NRMSE')\n",
    "plt.xlabel('Number of Variables')\n",
    "plt.ylabel('NRMSE')\n",
    "plt.legend()\n",
    "plt.show()"
   ]
  },
  {
   "cell_type": "code",
   "execution_count": null,
   "id": "37a889b0",
   "metadata": {},
   "outputs": [],
   "source": []
  }
 ],
 "metadata": {
  "kernelspec": {
   "display_name": "Python 3 (ipykernel)",
   "language": "python",
   "name": "python3"
  },
  "language_info": {
   "codemirror_mode": {
    "name": "ipython",
    "version": 3
   },
   "file_extension": ".py",
   "mimetype": "text/x-python",
   "name": "python",
   "nbconvert_exporter": "python",
   "pygments_lexer": "ipython3",
   "version": "3.9.12"
  }
 },
 "nbformat": 4,
 "nbformat_minor": 5
}
