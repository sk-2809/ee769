{
 "cells": [
  {
   "cell_type": "code",
   "execution_count": 979,
   "id": "30be2ea3",
   "metadata": {},
   "outputs": [],
   "source": [
    "import numpy as np\n",
    "import time\n",
    "import pandas as pd\n",
    "from matplotlib import pyplot as plt\n",
    "np.random.seed(0)"
   ]
  },
  {
   "cell_type": "code",
   "execution_count": 980,
   "id": "7bd79f9f",
   "metadata": {},
   "outputs": [],
   "source": [
    "no_sample_feature = 2 ##q.1\n",
    "feature_dim = 3    ##q.1\n",
    "feature_vector = np.array([2,3,4,1,5])\n",
    "wt_vector = np.array([0.09,0.25,0.35,0.14,0.22])\n",
    "w0 = 3.244\n",
    "noise_feature_dimiance = 1.21\n",
    "y_predict = np.array([37, 40, 46, 44, 46, 50, 45, 44, 34, 30, 22, 23])\n",
    "target_value = np.array([34, 37, 44, 47, 48, 48, 46, 43, 32, 27, 26, 24])\n",
    "arr = np.array([1,2,3,4,5])  ##q.7"
   ]
  },
  {
   "cell_type": "code",
   "execution_count": 981,
   "id": "c5443d52",
   "metadata": {},
   "outputs": [],
   "source": [
    "##q.1\n",
    "def generate_data_matrix(no_of_samples,feature_dimension):\n",
    "    return np.random.randn(no_of_samples,feature_dimension) ##generating random sample"
   ]
  },
  {
   "cell_type": "code",
   "execution_count": 982,
   "id": "aaa42724",
   "metadata": {},
   "outputs": [
    {
     "data": {
      "text/plain": [
       "array([[ 1.76405235,  0.40015721,  0.97873798],\n",
       "       [ 2.2408932 ,  1.86755799, -0.97727788]])"
      ]
     },
     "execution_count": 982,
     "metadata": {},
     "output_type": "execute_result"
    }
   ],
   "source": [
    "generate_data_matrix(no_sample_feature,feature_dim)"
   ]
  },
  {
   "cell_type": "code",
   "execution_count": 983,
   "id": "4d8ebe53",
   "metadata": {},
   "outputs": [],
   "source": [
    "##q.2\n",
    "def target_vector(X, wt_vector, w0, noise_feature_dimiance):\n",
    "    y_predict = np.sum(X*wt_vector,axis=0) ## y = w1x1 + w2x2 +.... \n",
    "    y_predict_with_bias = y_predict + w0   ## y = w0 + w1x1 + w2x2 +....\n",
    "    error_term = np.random.normal(0,noise_feature_dimiance,y_predict.shape)  ## y = w0 + w1x1 + w2x2 +.....+ epsilon\n",
    "    return y_predict_with_bias + error_term\n",
    "    "
   ]
  },
  {
   "cell_type": "code",
   "execution_count": 984,
   "id": "6489beb6",
   "metadata": {},
   "outputs": [
    {
     "data": {
      "text/plain": [
       "7.963606985205963"
      ]
     },
     "execution_count": 984,
     "metadata": {},
     "output_type": "execute_result"
    }
   ],
   "source": [
    "target_vector(feature_vector,wt_vector,w0,noise_feature_dimiance)"
   ]
  },
  {
   "cell_type": "code",
   "execution_count": 985,
   "id": "299212e2",
   "metadata": {},
   "outputs": [],
   "source": [
    "##q.3\n",
    "def linear_regression_estimate(x,w): ## y = dot product of x and w\n",
    "    return np.dot(x,w)"
   ]
  },
  {
   "cell_type": "code",
   "execution_count": 986,
   "id": "322c3f53",
   "metadata": {},
   "outputs": [
    {
     "data": {
      "text/plain": [
       "3.5700000000000003"
      ]
     },
     "execution_count": 986,
     "metadata": {},
     "output_type": "execute_result"
    }
   ],
   "source": [
    "linear_regression_estimate(feature_vector,wt_vector)"
   ]
  },
  {
   "cell_type": "code",
   "execution_count": 987,
   "id": "7dbeefd4",
   "metadata": {},
   "outputs": [],
   "source": [
    "##q.4\n",
    "def mean_square_error(y,t):  ##assumed same dim for y and t\n",
    "    error_diff = np.subtract(t,y)     ## (t-y)\n",
    "    error_diff_square = error_diff*error_diff ## (t-y)^2\n",
    "    return np.mean(error_diff_square)   ##mean of (t-y)^2"
   ]
  },
  {
   "cell_type": "code",
   "execution_count": 988,
   "id": "dae72e04",
   "metadata": {},
   "outputs": [
    {
     "data": {
      "text/plain": [
       "5.916666666666667"
      ]
     },
     "execution_count": 988,
     "metadata": {},
     "output_type": "execute_result"
    }
   ],
   "source": [
    "mean_square_error(y_predict,target_value)"
   ]
  },
  {
   "cell_type": "code",
   "execution_count": 989,
   "id": "81292bad",
   "metadata": {},
   "outputs": [],
   "source": [
    "##q.5\n",
    "def weight_estimation(X,t,lmbda):\n",
    "    w = (np.linalg.pinv(lmbda*np.eye(X.shape[1]) + np.transpose(X) @ X)) @ (np.transpose(X)) @ t   ## w = ((lmbda*I + X^T * X)^-1)*X^T*t\n",
    "    y = X @ w  ## y = dot prodcut of X and w\n",
    "    mse = mean_square_error(y , t)  ##used q.4 for the function\n",
    "    return w, mse , y"
   ]
  },
  {
   "cell_type": "code",
   "execution_count": 990,
   "id": "b08997a6",
   "metadata": {},
   "outputs": [
    {
     "data": {
      "text/plain": [
       "(array([0.264013  , 0.41429732]),\n",
       " 0.01360071956451334,\n",
       " array([1.09260764, 2.86352559]))"
      ]
     },
     "execution_count": 990,
     "metadata": {},
     "output_type": "execute_result"
    }
   ],
   "source": [
    "X = np.array([[1,2],[3,5]])\n",
    "t = np.array([1,3])\n",
    "lam = 1.2\n",
    "weight_estimation(X,t,lam)\n"
   ]
  },
  {
   "cell_type": "code",
   "execution_count": 991,
   "id": "e3a18b3d",
   "metadata": {},
   "outputs": [],
   "source": [
    "w = np.array([0.264013  , 0.41429732])"
   ]
  },
  {
   "cell_type": "code",
   "execution_count": 992,
   "id": "fef2d7c1",
   "metadata": {},
   "outputs": [],
   "source": [
    "##q.6\n",
    "def gradient_of_mse(X,t,w):\n",
    "    y_predict = X @ w  ## dot product of X and w\n",
    "    return (-1) * 2 * np.transpose(X) @ (t - y_predict) / X.shape[0]    ## -2*X^T*(t-y)"
   ]
  },
  {
   "cell_type": "code",
   "execution_count": 993,
   "id": "67d1c5cd",
   "metadata": {},
   "outputs": [
    {
     "data": {
      "text/plain": [
       "array([-0.31681556, -0.49715672])"
      ]
     },
     "execution_count": 993,
     "metadata": {},
     "output_type": "execute_result"
    }
   ],
   "source": [
    "gradient_of_mse(X,t,w)"
   ]
  },
  {
   "cell_type": "code",
   "execution_count": 994,
   "id": "d6e54939",
   "metadata": {},
   "outputs": [],
   "source": [
    "##q.7\n",
    "def l2_norm(w):  ## 'w' is the vector(passed as numpy array) for which l2 norm to be calculated.Here, it is assumed that bias value is not element of the w vector\n",
    "    return (np.sum(w*w,axis=0))**0.5  ## (summation of square of each element of w)^0.5\n"
   ]
  },
  {
   "cell_type": "code",
   "execution_count": 995,
   "id": "08a755ef",
   "metadata": {},
   "outputs": [
    {
     "data": {
      "text/plain": [
       "7.416198487095663"
      ]
     },
     "execution_count": 995,
     "metadata": {},
     "output_type": "execute_result"
    }
   ],
   "source": [
    "l2_norm(arr)"
   ]
  },
  {
   "cell_type": "code",
   "execution_count": 996,
   "id": "37aa478e",
   "metadata": {},
   "outputs": [],
   "source": [
    "##q.8\n",
    "def gradient_of_l2_norm(w):\n",
    "    return 2 * w    ## gradient = 2w"
   ]
  },
  {
   "cell_type": "code",
   "execution_count": 997,
   "id": "53e559db",
   "metadata": {},
   "outputs": [
    {
     "data": {
      "text/plain": [
       "array([0.528026  , 0.82859464])"
      ]
     },
     "execution_count": 997,
     "metadata": {},
     "output_type": "execute_result"
    }
   ],
   "source": [
    "gradient_of_l2_norm(w)"
   ]
  },
  {
   "cell_type": "code",
   "execution_count": 998,
   "id": "5b9058ee",
   "metadata": {},
   "outputs": [],
   "source": [
    "##q.9\n",
    "def l1_norm(w):  ## 'w' is the vector(passed as numpy array) for which l1 norm to be calculated.Here, it is assumed that bias value is not element of the w vector\n",
    "    return np.sum(w,axis=0)   ## (summation of each element of w)"
   ]
  },
  {
   "cell_type": "code",
   "execution_count": 999,
   "id": "f4946c50",
   "metadata": {},
   "outputs": [
    {
     "data": {
      "text/plain": [
       "15"
      ]
     },
     "execution_count": 999,
     "metadata": {},
     "output_type": "execute_result"
    }
   ],
   "source": [
    "l1_norm(arr)"
   ]
  },
  {
   "cell_type": "code",
   "execution_count": 1000,
   "id": "7c5e1aec",
   "metadata": {},
   "outputs": [],
   "source": [
    "##q.10\n",
    "def gradient_of_l1_norm(w):\n",
    "    return np.sign(w)  ## sign of each element of the w"
   ]
  },
  {
   "cell_type": "code",
   "execution_count": 1001,
   "id": "f9b05cd5",
   "metadata": {},
   "outputs": [
    {
     "data": {
      "text/plain": [
       "array([1., 1.])"
      ]
     },
     "execution_count": 1001,
     "metadata": {},
     "output_type": "execute_result"
    }
   ],
   "source": [
    "gradient_of_l1_norm(w)"
   ]
  },
  {
   "cell_type": "code",
   "execution_count": 1002,
   "id": "47b8cd06",
   "metadata": {},
   "outputs": [],
   "source": [
    "##q.11\n",
    "def single_update_weight(X,t,w,eta,lambda2,lambda1):  ## using gradient descent i.e. w(new) = w(old) - eta*(gradient of l wrt w)\n",
    "    y_predict = X @ w   ## dot product of X and w\n",
    "    mse_gradient = 2 * np.transpose(X) @ (y_predict - t)   \n",
    "    l1_term_gradient = lambda1* np.sign(w)\n",
    "    l2_term_gradient = 2 * lambda2 * w\n",
    "    total_gradient_term = mse_gradient + l1_term_gradient + l2_term_gradient  ## summation of three gradient term of loss, ridge and l1 regularization\n",
    "    total_gradient_term[0] = mse_gradient[0]\n",
    "    w_new = w - eta * total_gradient_term  ## w(new) = w(old) - gradient of loss function wrt w\n",
    "    mse = np.mean(((X @ w_new) - t) ** 2)\n",
    "    return w_new, mse"
   ]
  },
  {
   "cell_type": "code",
   "execution_count": 1003,
   "id": "b523d1b0",
   "metadata": {},
   "outputs": [
    {
     "data": {
      "text/plain": [
       "(array([ 0.34004873, -0.02524778]), 2.470180579320792)"
      ]
     },
     "execution_count": 1003,
     "metadata": {},
     "output_type": "execute_result"
    }
   ],
   "source": [
    "single_update_weight(X,t,w,0.12,2,3)"
   ]
  },
  {
   "cell_type": "code",
   "execution_count": 1004,
   "id": "14f06a62",
   "metadata": {},
   "outputs": [],
   "source": [
    "##q.12\n",
    "def wt_linear_reg_grad_descnt(X, t, lambda2=0, lambda1=0, eta=0.001, max_iter=5000, min_change_NRMSE=0.0001):\n",
    "    X_row = X.shape[0]\n",
    "    X_colm = X.shape[1]\n",
    "    w = np.zeros(X_colm)  ## initiated w with same dim as column of X\n",
    "    nrmse = float('inf')\n",
    "    for i in range(max_iter):\n",
    "        y_predict = X @ w\n",
    "        mse = np.mean((y_predict-t)**2)\n",
    "        mse_gradient = 2* np.transpose(X) @ (y_predict-t) / X_row\n",
    "        l2_gradient = 2*lambda2*w\n",
    "        l1_gradient = np.sign(w)\n",
    "        gradient = mse_gradient + l2_gradient + l1_gradient\n",
    "        w = w - eta * gradient\n",
    "        new_nrmse = np.sqrt(mse / np.var(t))   ## square root of mean square error divided by vairance\n",
    "        if abs(nrmse - new_nrmse) < min_change_NRMSE:  ## checking if the diff is between tolerence level\n",
    "            break\n",
    "        nrmse = new_nrmse\n",
    "    return w, nrmse"
   ]
  },
  {
   "cell_type": "code",
   "execution_count": 1005,
   "id": "445518b3",
   "metadata": {},
   "outputs": [
    {
     "data": {
      "text/plain": [
       "(array([0.1953126 , 0.39154281]), 0.3230603975940097)"
      ]
     },
     "execution_count": 1005,
     "metadata": {},
     "output_type": "execute_result"
    }
   ],
   "source": [
    "wt_linear_reg_grad_descnt(X,t,1.2,1.7,0.00001,10000,0.000001)"
   ]
  },
  {
   "cell_type": "code",
   "execution_count": 1006,
   "id": "83c62ca5",
   "metadata": {},
   "outputs": [],
   "source": [
    "##q.13\n",
    "def data_generation(no_of_samples, feature_dim):\n",
    "    X_train = generate_data_matrix(no_of_samples, feature_dim)\n",
    "    t_train = X_train.dot(np.random.randn(feature_dim)) + np.random.randn(no_of_samples)\n",
    "    X_val = generate_data_matrix(no_of_samples, feature_dim)\n",
    "    t_val = X_val.dot(np.random.randn(feature_dim)) + np.random.randn(no_of_samples)\n",
    "    return X_train, X_val, t_train, t_val\n",
    "\n",
    "def pseudo_inverse(X_train, t_train, X_val, t_val, lamda = 0, noise_variance = 0, w0 = 0):\n",
    "    first_part = np.linalg.pinv(np.dot(np.transpose(X_train), X_train)+ lamda * np.eye(X_train.shape[1]) + noise_variance * np.eye(X_train.shape[1]))\n",
    "    sec_part = np.dot(first_part, np.transpose(X_train))\n",
    "    w = np.dot(sec_part, (t_train-w0))\n",
    "    t_train_pred = X_train.dot(w)\n",
    "    t_val_pred = X_val.dot(w)\n",
    "    train_nrmse = np.sqrt(np.mean((t_train - t_train_pred)**2)) / np.std(t_train)\n",
    "    val_nrmse = np.sqrt(np.mean((t_val - t_val_pred)**2)) / np.std(t_val)\n",
    "    return train_nrmse, val_nrmse"
   ]
  },
  {
   "cell_type": "code",
   "execution_count": 1007,
   "id": "cf1814a3",
   "metadata": {},
   "outputs": [
    {
     "data": {
      "image/png": "[encoded data removed]",
      "text/plain": [
       "<Figure size 500x500 with 1 Axes>"
      ]
     },
     "metadata": {},
     "output_type": "display_data"
    }
   ],
   "source": [
    "np.random.seed(1)\n",
    "no_of_samples_list = [3*x for x in range(1,10)]\n",
    "train_nrmse_list = []\n",
    "val_nrmse_list = []\n",
    "feature_dim = 5\n",
    "for no_of_samples in no_of_samples_list:\n",
    "    X_train, X_val, t_train, t_val = data_generation(no_of_samples, feature_dim)\n",
    "    train_nrmse,val_nrmse = pseudo_inverse(X_train, t_train, X_val, t_val)\n",
    "    train_nrmse_list.append(train_nrmse)\n",
    "    val_nrmse_list.append(val_nrmse)\n",
    "\n",
    "data = pd.DataFrame({\"Training\": train_nrmse_list, \"Validation\": val_nrmse_list})\n",
    "ax = data[['Training', 'Validation']].plot(kind='box',figsize=(5,5))"
   ]
  },
  {
   "cell_type": "code",
   "execution_count": 1008,
   "id": "4f154856",
   "metadata": {},
   "outputs": [
    {
     "data": {
      "image/png": "[encoded data removed]",
      "text/plain": [
       "<Figure size 500x500 with 1 Axes>"
      ]
     },
     "metadata": {},
     "output_type": "display_data"
    }
   ],
   "source": [
    "np.random.seed(2)\n",
    "no_of_samples = 1000\n",
    "train_nrmse_list = []\n",
    "val_nrmse_list = []\n",
    "feature_dim_list = [3*x for x in range(5)]\n",
    "for feature_dim in feature_dim_list:\n",
    "    X_train, X_val, t_train, t_val = data_generation(no_of_samples, feature_dim)\n",
    "    train_nrmse,val_nrmse = pseudo_inverse(X_train, t_train, X_val, t_val)\n",
    "    train_nrmse_list.append(train_nrmse)\n",
    "    val_nrmse_list.append(val_nrmse)\n",
    "\n",
    "data = pd.DataFrame({\"Training\": train_nrmse_list, \"Validation\": val_nrmse_list})\n",
    "ax = data[['Training', 'Validation']].plot(kind='box',figsize=(5,5))"
   ]
  },
  {
   "cell_type": "code",
   "execution_count": 1009,
   "id": "bfea7d75",
   "metadata": {},
   "outputs": [
    {
     "data": {
      "image/png": "[encoded data removed]",
      "text/plain": [
       "<Figure size 500x500 with 1 Axes>"
      ]
     },
     "metadata": {},
     "output_type": "display_data"
    }
   ],
   "source": [
    "np.random.seed(3)\n",
    "no_of_samples = 100\n",
    "feature_dim = 5\n",
    "train_nrmse_list = []\n",
    "val_nrmse_list = []\n",
    "noise_variance_list = [3**x for x in range(10)]\n",
    "X_train, X_val, t_train, t_val = data_generation(no_of_samples, feature_dim)\n",
    "for noise_variance in noise_variance_list:\n",
    "    train_nrmse,val_nrmse = pseudo_inverse(X_train, t_train, X_val, t_val, noise_variance = noise_variance)\n",
    "    train_nrmse_list.append(train_nrmse)\n",
    "    val_nrmse_list.append(val_nrmse)\n",
    "\n",
    "data = pd.DataFrame({\"Training\": train_nrmse_list, \"Validation\": val_nrmse_list})\n",
    "ax = data[['Training', 'Validation']].plot(kind='box',figsize=(5,5))"
   ]
  },
  {
   "cell_type": "code",
   "execution_count": 1010,
   "id": "bab67edb",
   "metadata": {},
   "outputs": [
    {
     "data": {
      "image/png": "[encoded data removed]",
      "text/plain": [
       "<Figure size 500x500 with 1 Axes>"
      ]
     },
     "metadata": {},
     "output_type": "display_data"
    }
   ],
   "source": [
    "np.random.seed(4)\n",
    "no_of_samples = 100\n",
    "feature_dim = 5\n",
    "train_nrmse_list = []\n",
    "val_nrmse_list = []\n",
    "W0_list = [3**x for x in range(10)]\n",
    "X_train, X_val, t_train, t_val = data_generation(no_of_samples, feature_dim)\n",
    "\n",
    "for w0 in W0_list:    \n",
    "    train_nrmse,val_nrmse = pseudo_inverse(X_train, t_train, X_val, t_val, w0 = w0)\n",
    "    train_nrmse_list.append(train_nrmse)\n",
    "    val_nrmse_list.append(val_nrmse)\n",
    "\n",
    "data = pd.DataFrame({\"Training\": train_nrmse_list, \"Validation\": val_nrmse_list})\n",
    "ax = data[['Training', 'Validation']].plot(kind='box',figsize=(5,5))"
   ]
  },
  {
   "cell_type": "code",
   "execution_count": 1011,
   "id": "c66505ae",
   "metadata": {},
   "outputs": [
    {
     "data": {
      "image/png": "[encoded data removed]",
      "text/plain": [
       "<Figure size 640x480 with 1 Axes>"
      ]
     },
     "metadata": {},
     "output_type": "display_data"
    }
   ],
   "source": [
    "np.random.seed(5)\n",
    "no_of_samples = 100\n",
    "feature_dim = 5\n",
    "train_nrmse_list = []\n",
    "val_nrmse_list = []\n",
    "lambda_list = [x for x in range(10)]\n",
    "X_train, X_val, t_train, t_val = data_generation(no_of_samples, feature_dim)\n",
    "for lamda in lambda_list:\n",
    "    train_nrmse,val_nrmse = pseudo_inverse(X_train, t_train, X_val, t_val, lamda = lamda)\n",
    "    train_nrmse_list.append(train_nrmse)\n",
    "    val_nrmse_list.append(val_nrmse)\n",
    "\n",
    "data = pd.DataFrame({\"Training\": train_nrmse_list, \"Validation\": val_nrmse_list})\n",
    "ax = data[['Training', 'Validation']].plot(kind='box')"
   ]
  },
  {
   "cell_type": "code",
   "execution_count": 1012,
   "id": "3c5065d5",
   "metadata": {},
   "outputs": [
    {
     "data": {
      "text/plain": [
       "Text(0.5, 1.0, 'No of feature dim')"
      ]
     },
     "execution_count": 1012,
     "metadata": {},
     "output_type": "execute_result"
    },
    {
     "data": {
      "image/png": "[encoded data removed]",
      "text/plain": [
       "<Figure size 640x480 with 2 Axes>"
      ]
     },
     "metadata": {},
     "output_type": "display_data"
    }
   ],
   "source": [
    "np.random.seed(6)\n",
    "samples = 1000\n",
    "no_of_samples_list = [10**x for x in range(1,4)]\n",
    "feature_dim = 5\n",
    "no_of_feature_dim_list = [x for x in range(1,5)]\n",
    "no_of_samples1 = []\n",
    "time1 = []\n",
    "no_of_feature_dim = []\n",
    "time2 = []\n",
    "\n",
    "\n",
    "for no_of_samples in no_of_samples_list:\n",
    "    st = time.time()\n",
    "    X_train, X_val, t_train, t_val = data_generation(no_of_samples, feature_dim)\n",
    "    train_nrmse,val_nrmse = pseudo_inverse(X_train, t_train, X_val, t_val)\n",
    "    et = time.time()\n",
    "    no_of_samples1.append(no_of_samples)\n",
    "    time1.append(et-st)\n",
    "\n",
    "for feature_dim in no_of_feature_dim_list:\n",
    "    st = time.time()\n",
    "    X_train, X_val, t_train, t_val = data_generation(samples, feature_dim)\n",
    "    train_nrmse,val_nrmse = pseudo_inverse(X_train, t_train, X_val, t_val)\n",
    "    et = time.time()\n",
    "    no_of_feature_dim.append(feature_dim)\n",
    "    time2.append(et-st)\n",
    "    \n",
    "fig, axs = plt.subplots(2)    \n",
    "axs[0].plot(no_of_samples1, time1)\n",
    "axs[0].set_title('No of Sample')\n",
    "axs[1].plot(no_of_feature_dim, time2)\n",
    "axs[1].set_title('No of feature dim')"
   ]
  },
  {
   "cell_type": "code",
   "execution_count": 1013,
   "id": "f74d56d4",
   "metadata": {},
   "outputs": [
    {
     "data": {
      "image/png": "[encoded data removed]",
      "text/plain": [
       "<Figure size 500x500 with 1 Axes>"
      ]
     },
     "metadata": {},
     "output_type": "display_data"
    }
   ],
   "source": [
    "np.random.seed(7)\n",
    "no_of_samples = 1000\n",
    "feature_dim = 5\n",
    "train_nrmse_list = []\n",
    "val_nrmse_list = []\n",
    "max_iterations_list = [10**x for x in range(1, 4)]\n",
    "X_train, X_val, t_train, t_val = data_generation(no_of_samples, feature_dim)\n",
    "for max_iteration in max_iterations_list:\n",
    "    weights, train_nrmse = wt_linear_reg_grad_descnt(X_train, t_train, lambda2 = 0, lambda1 = 0, eta = 0.01, max_iter = max_iteration, min_change_NRMSE = 0.00001)\n",
    "    y_val = linear_regression_estimate(X_val, weights)\n",
    "    val_nrmse = np.sqrt(np.mean((t_val - y_val)**2)) / np.std(t_val)\n",
    "    train_nrmse_list.append(train_nrmse)\n",
    "    val_nrmse_list.append(val_nrmse)\n",
    "\n",
    "data = pd.DataFrame({\"Training\": train_nrmse_list, \"Validation\": val_nrmse_list})\n",
    "ax = data[['Training', 'Validation']].plot(kind='box',figsize=(5,5))"
   ]
  },
  {
   "cell_type": "code",
   "execution_count": 1014,
   "id": "8ef9b810",
   "metadata": {},
   "outputs": [
    {
     "data": {
      "image/png": "[encoded data removed]",
      "text/plain": [
       "<Figure size 500x500 with 1 Axes>"
      ]
     },
     "metadata": {},
     "output_type": "display_data"
    }
   ],
   "source": [
    "np.random.seed(8)\n",
    "no_of_samples = 1000\n",
    "feature_dim = 5\n",
    "train_nrmse_list = []\n",
    "val_nrmse_list = []\n",
    "eta_list = [0.1**x for x in range(1, 3)]\n",
    "X_train, X_val, t_train, t_val = data_generation(no_of_samples, feature_dim)\n",
    "for eta in eta_list:\n",
    "    weights, train_nrmse = wt_linear_reg_grad_descnt(X_train, t_train, lambda2 = 0, lambda1 = 0, eta = eta, max_iter = 1000, min_change_NRMSE = 0.00001)\n",
    "    y_val = linear_regression_estimate(X_val, weights)\n",
    "    val_nrmse = np.sqrt(np.mean((t_val - y_val)**2)) / np.std(t_val)\n",
    "    train_nrmse_list.append(train_nrmse)\n",
    "    val_nrmse_list.append(val_nrmse)\n",
    "\n",
    "data = pd.DataFrame({\"Training\": train_nrmse_list, \"Validation\": val_nrmse_list})\n",
    "ax = data[['Training', 'Validation']].plot(kind='box',figsize=(5,5))\n",
    "plt.show()"
   ]
  },
  {
   "cell_type": "code",
   "execution_count": 1015,
   "id": "26bb2d82",
   "metadata": {},
   "outputs": [
    {
     "name": "stdout",
     "output_type": "stream",
     "text": [
      "no_of_samples =  10 feature_dimiables =  5 time =  0.03425002098083496\n",
      "no_of_samples =  10 feature_dimiables =  10 time =  0.02744150161743164\n",
      "no_of_samples =  10 feature_dimiables =  15 time =  0.018685340881347656\n",
      "no_of_samples =  10 feature_dimiables =  20 time =  0.03210949897766113\n",
      "no_of_samples =  10 feature_dimiables =  25 time =  0.03275609016418457\n",
      "no_of_samples =  10 feature_dimiables =  30 time =  0.033045291900634766\n",
      "no_of_samples =  10 feature_dimiables =  35 time =  0.017246246337890625\n",
      "no_of_samples =  10 feature_dimiables =  40 time =  0.0323944091796875\n",
      "no_of_samples =  10 feature_dimiables =  45 time =  0.03376507759094238\n",
      "no_of_samples =  100 feature_dimiables =  5 time =  0.0313875675201416\n",
      "no_of_samples =  100 feature_dimiables =  10 time =  0.025408267974853516\n",
      "no_of_samples =  100 feature_dimiables =  15 time =  0.026897430419921875\n",
      "no_of_samples =  100 feature_dimiables =  20 time =  0.03276824951171875\n",
      "no_of_samples =  100 feature_dimiables =  25 time =  0.033164262771606445\n",
      "no_of_samples =  100 feature_dimiables =  30 time =  0.033666372299194336\n",
      "no_of_samples =  100 feature_dimiables =  35 time =  0.0332944393157959\n",
      "no_of_samples =  100 feature_dimiables =  40 time =  0.03335905075073242\n",
      "no_of_samples =  100 feature_dimiables =  45 time =  0.0500636100769043\n",
      "no_of_samples =  1000 feature_dimiables =  5 time =  0.033487796783447266\n",
      "no_of_samples =  1000 feature_dimiables =  10 time =  0.15451550483703613\n",
      "no_of_samples =  1000 feature_dimiables =  15 time =  0.14136171340942383\n",
      "no_of_samples =  1000 feature_dimiables =  20 time =  0.1566627025604248\n",
      "no_of_samples =  1000 feature_dimiables =  25 time =  0.14216995239257812\n",
      "no_of_samples =  1000 feature_dimiables =  30 time =  0.17432618141174316\n",
      "no_of_samples =  1000 feature_dimiables =  35 time =  0.17682123184204102\n",
      "no_of_samples =  1000 feature_dimiables =  40 time =  0.15626120567321777\n",
      "no_of_samples =  1000 feature_dimiables =  45 time =  0.1706221103668213\n"
     ]
    }
   ],
   "source": [
    "no_of_samples = [10**x for x in range(1, 4)]\n",
    "train_nrmse_list = []\n",
    "val_nrmse_list = []\n",
    "feature_dim = [5*x for x in range(1, 10)]\n",
    "\n",
    "for sample in no_of_samples:\n",
    "    for va in feature_dim:\n",
    "        X_train, X_val, t_train, t_val = data_generation(sample, va)\n",
    "        st = time.time()\n",
    "        weights, train_nrmse = wt_linear_reg_grad_descnt(X_train, t_train, lambda2 = 0, lambda1 = 0, eta = 0.01, max_iter = 1000, min_change_NRMSE = 0.000000000000000000000001)\n",
    "        y_val = linear_regression_estimate(X_val, weights)\n",
    "        val_nrmse = np.sqrt(np.mean((t_val - y_val)**2)) / np.std(t_val)\n",
    "        ed = time.time()\n",
    "        print('no_of_samples = ', sample, 'feature_dimiables = ', va, 'time = ', ed-st)"
   ]
  },
  {
   "cell_type": "code",
   "execution_count": 1016,
   "id": "5009411f",
   "metadata": {},
   "outputs": [
    {
     "data": {
      "image/png": "[encoded data removed]",
      "text/plain": [
       "<Figure size 640x480 with 1 Axes>"
      ]
     },
     "metadata": {},
     "output_type": "display_data"
    }
   ],
   "source": [
    "np.random.seed(9)\n",
    "no_of_samples = 1000\n",
    "train_nrmse_list = []\n",
    "val_nrmse_list = []\n",
    "no_of_feature_dim = []\n",
    "time1 = []\n",
    "feature_dim = [x for x in range(1, 30)]\n",
    "\n",
    "for va in feature_dim:\n",
    "    X_train, X_val, t_train, t_val = data_generation(sample, va)\n",
    "    st = time.time()\n",
    "    weights, train_nrmse = wt_linear_reg_grad_descnt(X_train, t_train, lambda2 = 0, lambda1 = 0, eta = 0.01, max_iter = 1000, min_change_NRMSE = 0.00001)\n",
    "    y_val = linear_regression_estimate(X_val, weights)\n",
    "    val_nrmse = np.sqrt(np.mean((t_val - y_val)**2)) / np.std(t_val)\n",
    "    ed = time.time()\n",
    "    no_of_feature_dim.append(va)\n",
    "    time1.append(et-st)\n",
    "    \n",
    "plt.plot(no_of_feature_dim,time1)\n",
    "plt.show()"
   ]
  },
  {
   "cell_type": "code",
   "execution_count": 1017,
   "id": "20f4af00",
   "metadata": {},
   "outputs": [
    {
     "name": "stdout",
     "output_type": "stream",
     "text": [
      "lambda2 =  4.5 weights =  [-8.18766649e-02 -1.15033219e-01  1.09007099e+00  1.28289291e-02\n",
      "  1.93158325e-01 -5.40373629e-03 -3.55761489e-03 -1.69182683e+00\n",
      "  6.60213209e-01 -1.01500914e-01 -8.23684215e-01  4.31551764e-03\n",
      " -4.60245511e-03  8.87276337e-01  1.57644624e-01  5.70615515e-01\n",
      " -8.07692628e-03 -1.81498919e-04  1.60077281e-03 -4.53161924e-01\n",
      " -1.56842528e-01  3.57963137e-01 -9.23895711e-04 -2.18804486e-01\n",
      "  8.24725202e-03  1.09434210e-02  4.69115201e-01  6.40318208e-01\n",
      " -1.07407891e-01]\n",
      "lambda2 =  4.5 weights =  [-7.27353665e-01 -1.44193734e-01 -1.98081446e-01  3.53099292e-03\n",
      " -3.74856614e-03 -3.71147393e-03 -1.70127761e-01 -1.32982030e-01\n",
      "  8.37915411e-01 -4.02552784e-01 -1.09133668e-02  2.09080905e-01\n",
      " -1.51769132e-02 -4.77840256e-01 -4.71783191e-03  1.27683659e-02\n",
      "  1.66649188e-01  3.29227934e-01 -3.33136635e-01  1.11785254e-02\n",
      " -1.54711741e-03 -8.01430879e-02  1.40996262e-04  2.96542164e-03\n",
      "  2.88988302e-03  5.88376508e-01  5.80230343e-01 -1.30767811e-02\n",
      " -2.27703998e-01]\n",
      "lambda2 =  4.5 weights =  [ 1.72028892e-03 -3.20383461e-01  3.78057124e-01  1.91340169e-04\n",
      " -2.15636807e-03  3.94657204e-01 -4.88454261e-01  7.06717431e-01\n",
      " -2.11537836e-03  1.50581476e-02  9.54678173e-02  6.04698725e-01\n",
      " -3.44905329e-03  4.28236768e-04 -5.75170945e-02 -6.51246216e-02\n",
      " -9.54559901e-03 -1.14453318e-02  8.73223020e-02 -4.66878393e-04\n",
      " -1.59323965e-01 -5.81746169e-01 -1.83191636e-03  4.40416104e-01\n",
      "  5.98804133e-02 -1.20105329e-01 -3.32744871e-01 -4.01932076e-01\n",
      " -8.01343096e-04]\n"
     ]
    }
   ],
   "source": [
    "np.random.seed(10)\n",
    "no_of_samples = 100\n",
    "train_nrmse_list = []\n",
    "val_nrmse_list = []\n",
    "lambda2_list = [0.5*x for x in range(1, 4)]\n",
    "\n",
    "\n",
    "for lambda2 in lambda2_list:\n",
    "    X_train, X_val, t_train, t_val = data_generation(sample, va)\n",
    "    weights, train_nrmse = wt_linear_reg_grad_descnt(X_train, t_train, lambda2 = lambda2, lambda1 = 0, eta = 0.01, max_iter = 1000, min_change_NRMSE = 0.00001)\n",
    "    y_val = linear_regression_estimate(X_val, weights)\n",
    "    val_nrmse = np.sqrt(np.mean((t_val - y_val)**2)) / np.std(t_val)\n",
    "    #ed = time.time()\n",
    "    print('lambda2 = ', lambd, 'weights = ', weights)"
   ]
  },
  {
   "cell_type": "code",
   "execution_count": 1018,
   "id": "46f82fcb",
   "metadata": {},
   "outputs": [
    {
     "name": "stdout",
     "output_type": "stream",
     "text": [
      "lambda1 =  4.5 weights =  [ 6.53565455e-04  3.41800311e-01 -3.42663692e-03 -7.06476902e-03\n",
      " -6.18438686e-01  4.81856584e-03 -7.03960106e-01 -1.33233974e+00\n",
      " -6.71565078e-03 -5.63048116e-01 -4.86294778e-01 -2.00723037e+00\n",
      " -6.04085716e-01 -3.23509288e-01  2.64083559e-03  8.16179441e-03\n",
      " -1.10616247e-01  1.18770871e+00  1.61637691e-02 -8.71464486e-01\n",
      "  7.17128800e-03  4.69024438e-01  5.83084207e-03 -7.31173582e-01\n",
      " -3.14756460e-01  1.54536765e-02  3.91679596e-01  1.10380990e+00\n",
      " -9.15099175e-01]\n",
      "lambda1 =  4.5 weights =  [ 2.06911263e-01  1.68051855e-01 -4.46789916e-03 -1.27442380e-01\n",
      "  1.72738757e+00 -8.10516413e-02 -7.12558657e-04  6.23614741e-03\n",
      "  2.00055027e+00  1.06256306e+00 -6.88422454e-03 -2.72049202e-01\n",
      "  8.52093530e-01  6.36534924e-03 -6.37760764e-01 -1.57860672e+00\n",
      " -2.46598783e-02 -1.39921904e+00  8.06813555e-03  2.76978328e-03\n",
      "  2.48037007e-04  1.09199120e+00  3.33146749e-03  5.68249904e-04\n",
      " -1.37169450e-01 -6.57236952e-01  1.50105103e-02  7.03187508e-02\n",
      " -5.28541705e-01]\n",
      "lambda1 =  4.5 weights =  [ 9.61762259e-04 -6.90322225e-02 -1.13903335e+00 -1.34837863e-02\n",
      "  2.77970784e-03 -2.46771815e-01  7.22227356e-01  6.16191612e-03\n",
      " -7.45336750e-01 -9.06370518e-03 -3.18938738e-03 -4.54077006e-01\n",
      " -5.45963328e-01  5.77984362e-03 -6.79488759e-03 -1.94476897e+00\n",
      "  1.40811685e+00  1.93540672e-02 -1.82159727e-03  3.84000873e-03\n",
      " -1.02114522e-02 -4.00485410e-01  4.20851549e-03 -1.27646637e-02\n",
      "  1.82502518e-01  9.03739420e-04 -1.91856165e-01  5.11306635e-01\n",
      "  9.46645319e-04]\n"
     ]
    }
   ],
   "source": [
    "np.random.seed(11)\n",
    "no_of_samples = 100\n",
    "train_nrmse_list = []\n",
    "val_nrmse_list = []\n",
    "lambda1_list = [0.5*x for x in range(1, 4)]\n",
    "\n",
    "\n",
    "for lambda1 in lambda1_list:\n",
    "    X_train, X_val, t_train, t_val = data_generation(sample, va)\n",
    "    weights, train_nrmse = wt_linear_reg_grad_descnt(X_train, t_train, lambda2 = 0, lambda1 = lambda1, eta = 0.01, max_iter = 1000, min_change_NRMSE = 0.00001)\n",
    "    y_val = linear_regression_estimate(X_val, weights)\n",
    "    val_nrmse = np.sqrt(np.mean((t_val - y_val)**2)) / np.std(t_val)\n",
    "    #ed = time.time()\n",
    "    print('lambda1 = ', lambd, 'weights = ', weights)"
   ]
  },
  {
   "cell_type": "markdown",
   "id": "83c8464f",
   "metadata": {},
   "source": [
    "Question No 14:\n",
    "\n",
    "The assignment was very unique of it's kind. I have learned almost all aspects of the linear regression. Some highlights that I have learned through this assignment:\n",
    " 1. Implemented the iteration method to determine weight value\n",
    " 2. Learned a lot things about numpy and the power of this python library.\n",
    " 3. Now, I feel very confident about the linear regression\n",
    " 4. Learned more about implementing two regularization\n",
    " 5. I have leared how to differentiate wrt vectors."
   ]
  },
  {
   "cell_type": "markdown",
   "id": "a6627bed",
   "metadata": {},
   "source": [
    "Question No 15:\n",
    "    Some of the source that I have used to complete assignement:\n",
    "        1. https://numpy.org/doc/stable/reference/\n",
    "        2. https://chat.openai.com/\n",
    "        3. https://www.youtube.com/watch?v=y4t8MuKqKt8&t=320s&ab_channel=MurtazaZohair\n",
    "        4. https://www.youtube.com/watch?v=iWxY7VdcSH8&ab_channel=BenLambert\n",
    "        5. I have extensively used stackoverflow in order to remove bugs\n",
    "        \n",
    "    I have taken a lot of help in q.13 from assignement of my friend whose roll no:190020080, I have disscussed it to him, I have also taken directly some part of code from his assignment, but Now, I know all the code that I have written."
   ]
  },
  {
   "cell_type": "code",
   "execution_count": null,
   "id": "db9a57d3",
   "metadata": {},
   "outputs": [],
   "source": []
  }
 ],
 "metadata": {
  "kernelspec": {
   "display_name": "Python 3 (ipykernel)",
   "language": "python",
   "name": "python3"
  },
  "language_info": {
   "codemirror_mode": {
    "name": "ipython",
    "version": 3
   },
   "file_extension": ".py",
   "mimetype": "text/x-python",
   "name": "python",
   "nbconvert_exporter": "python",
   "pygments_lexer": "ipython3",
   "version": "3.9.12"
  }
 },
 "nbformat": 4,
 "nbformat_minor": 5
}
